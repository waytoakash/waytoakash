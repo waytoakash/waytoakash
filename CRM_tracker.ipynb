{
  "cells": [
    {
      "cell_type": "markdown",
      "metadata": {
        "id": "view-in-github",
        "colab_type": "text"
      },
      "source": [
        "<a href=\"https://colab.research.google.com/github/waytoakash/waytoakash/blob/main/CRM_tracker.ipynb\" target=\"_parent\"><img src=\"https://colab.research.google.com/assets/colab-badge.svg\" alt=\"Open In Colab\"/></a>"
      ]
    },
    {
      "cell_type": "markdown",
      "metadata": {
        "id": "Aeyp0bxFMGqg"
      },
      "source": [
        "\n",
        "Update CRM data for CRM [dashboard](https://datastudio.google.com/u/0/reporting/03ddd963-67b4-4857-9105-76b512a687e4/page/p_miiln3o0qc\n",
        ") and [backend sheet](https://docs.google.com/spreadsheets/d/1sqPSxZAts7fZpB5TyiJf7OY_HDkyuB79qKK0vYD4aMg/edit#gid=257777437)\n",
        "\n",
        "Author : Angshuman M\n",
        "\n",
        "Date : 21 January 2022\n",
        "\n",
        "Ver : 1.0\n",
        "\n",
        "\n",
        "---"
      ]
    },
    {
      "cell_type": "markdown",
      "metadata": {
        "id": "k75qI7CxL392"
      },
      "source": [
        "#Authentication"
      ]
    },
    {
      "cell_type": "code",
      "execution_count": null,
      "metadata": {
        "id": "wz-v9imeo5Gs",
        "colab": {
          "base_uri": "https://localhost:8080/",
          "height": 70
        },
        "outputId": "8087653e-89de-40fc-f0d4-886bfc3da77b"
      },
      "outputs": [
        {
          "name": "stdout",
          "output_type": "stream",
          "text": [
            "Mounted at /content/gdrive\n",
            "Enter Folder Date :09 November 2022\n"
          ]
        },
        {
          "output_type": "execute_result",
          "data": {
            "text/plain": [
              "'/content/gdrive/MyDrive/Insights_Datalake/Datewise Dumps - Aug Onwards/Nov 2022/09 November 2022/'"
            ],
            "application/vnd.google.colaboratory.intrinsic+json": {
              "type": "string"
            }
          },
          "metadata": {},
          "execution_count": 3
        }
      ],
      "source": [
        "\n",
        "# Google Drive\n",
        "from google.colab import drive\n",
        "drive.mount('/content/gdrive')\n",
        "\n",
        "\n",
        "# Google Sheets\n",
        "from google.colab import auth\n",
        "auth.authenticate_user()\n",
        "\n",
        "import pandas as pd\n",
        "import numpy as np\n",
        "import os\n",
        "import sys\n",
        "\n",
        "from datetime import datetime\n",
        "import dateutil\n",
        "from dateutil.parser import parse\n",
        "import re\n",
        "from functools import reduce\n",
        "\n",
        "# import gspread\n",
        "# from oauth2client.client import GoogleCredentials\n",
        "# gc = gspread.authorize(GoogleCredentials.get_application_default())\n",
        "\n",
        "import gspread\n",
        "from google.auth import default\n",
        "creds, _ = default()\n",
        "gc = gspread.authorize(creds)\n",
        "from gspread_dataframe import set_with_dataframe\n",
        "\n",
        "\n",
        "folder_date = input(\"Enter Folder Date :\")\n",
        "folder_date = folder_date\n",
        "m1 = folder_date[3:6]\n",
        "y1 = folder_date[-4:]\n",
        "date_folder = m1+\" \"+y1\n",
        "file_path = \"/content/gdrive/MyDrive/Insights_Datalake/Datewise Dumps - Aug Onwards/\"+date_folder+\"/\"+folder_date+\"/\"\n",
        "\n",
        "file_path"
      ]
    },
    {
      "cell_type": "markdown",
      "metadata": {
        "id": "i_yHX574L0l5"
      },
      "source": [
        "#custom functions"
      ]
    },
    {
      "cell_type": "code",
      "execution_count": null,
      "metadata": {
        "id": "nQEHOUvQpEd7"
      },
      "outputs": [],
      "source": [
        "def changeDateFormat(row):\n",
        "  return pd.to_datetime(row, errors='coerce').dt.date\n",
        "def changeDateTimeFormat(row):\n",
        "  return pd.to_datetime(row, errors='coerce').dt.time\n",
        "\n",
        "def getDump(mastermerge, dump_name,start_date, end_date):\n",
        "  start_date = pd.to_datetime(start_date).date()\n",
        "  end_date = pd.to_datetime(end_date).date()\n",
        "  file_path = \"/content/gdrive/MyDrive/Insights_Datalake/Datewise Dumps - Aug Onwards/\"\n",
        "  reg = re.compile(\".+\" + dump_name+\".csv\")\n",
        "\n",
        "\n",
        "  for (root, dirs, files) in os.walk(file_path):\n",
        "      for file in files:\n",
        "        path = os.path.join(root, file)\n",
        "        date = str(path).split('/')[7:][0]\n",
        "        date = pd.to_datetime(date).date()\n",
        "\n",
        "        if bool(re.match(reg, path)) & (date >= start_date) & (date <= end_date):\n",
        "          temp = pd.read_csv(path,parse_dates=True)\n",
        "          temp['DumpDate'] = date\n",
        "          read_dump_name = str(path).split('/')[9:][0]\n",
        "          print(read_dump_name + \" on Date:: \" + str(date) +  \" Dump of shape:: \" + str(temp.shape) + \" read from path:: \"+ path)\n",
        "          mastermerge = mastermerge.append(temp)\n",
        "\n",
        "  mastermerge[['DumpDate']] = mastermerge[['DumpDate']].apply(changeDateFormat)\n",
        "  return mastermerge\n",
        "\n",
        "#get data from spreadsheetID and Range Name function\n",
        "def get_data(spreadSheetId, rangeName):\n",
        "    wb = gc.open_by_key(spreadSheetId)\n",
        "    ws = wb.worksheet(rangeName)\n",
        "    rows = ws.get_all_values()\n",
        "    return rows\n",
        "\n",
        "#get all data in a sheet as df and there 1st row things as the df labels.\n",
        "#If sheets don't have their labels in the first row than we have to do it manuaaly as per the data\n",
        "def get_data_df(spreadSheetId, rangeName):\n",
        "  l = get_data(spreadSheetId, rangeName)\n",
        "  ldf = pd.DataFrame.from_records(l[1:], columns = l[0])\n",
        "  return ldf"
      ]
    },
    {
      "cell_type": "markdown",
      "metadata": {
        "id": "Jn9u_hpfLwTw"
      },
      "source": [
        "#read Data :Central Lead Gen Meeting Fix Audit"
      ]
    },
    {
      "cell_type": "code",
      "execution_count": null,
      "metadata": {
        "id": "y0oLzNyspQZx"
      },
      "outputs": [],
      "source": [
        "key = \"1iKgiRR-lOQ-zM6v6bh_1P3vkIujVCeBzVVr_nHuoDMU\"\n",
        "range = \"Society Master\"\n",
        "master_societies = get_data_df(key,range)\n",
        "master_societies = master_societies.loc[master_societies['societyStatus']==\"ACTIVE\"]\n",
        "master_societies = master_societies.rename(columns={'Kibana ID':'KibanaID'})"
      ]
    },
    {
      "cell_type": "code",
      "source": [
        "forum = pd.read_csv(file_path+\"Sai/Societywise Forum Usage.csv\")"
      ],
      "metadata": {
        "id": "hpKRYjkZyGdE"
      },
      "execution_count": null,
      "outputs": []
    },
    {
      "cell_type": "code",
      "execution_count": null,
      "metadata": {
        "id": "blKUbEOPBRv6"
      },
      "outputs": [],
      "source": [
        "\n",
        "notice = pd.read_csv(file_path+\"Sai/Notice Board Usage.csv\")\n",
        "complaints = pd.read_csv(file_path+\"Sai/Complaint created last 7 days.csv\")"
      ]
    },
    {
      "cell_type": "code",
      "execution_count": null,
      "metadata": {
        "id": "HbqePSOHTszd"
      },
      "outputs": [],
      "source": [
        "\n",
        "complaints30 = pd.read_csv(file_path+\"Sai/Complaints created last 30 days.csv\")\n",
        "homechef7 = pd.read_csv(file_path+\"Hari/Home-Chef-Orders7.csv\")\n",
        "homechef30 = pd.read_csv(file_path+\"Hari/Home-Chef-Orders30.csv\")\n",
        "sos7 = pd.read_csv(file_path+\"Hari/SOS Alerts Raised Last 7 days.csv\")\n",
        "sos30 = pd.read_csv(file_path+\"Hari/SOS Alerts Raised Last 30 days.csv\")\n",
        "walkytalky = pd.read_csv(file_path+\"Hari/Walky Talky (Last 7 30 days).csv\")\n",
        "gp = pd.read_csv(file_path+\"Hari/Guard Patrolling (last 7 30 days).csv\")\n",
        "latest_complaints = pd.read_csv(file_path+\"Hari/last complaint date societywise.csv\")\n",
        "latest_forums = pd.read_csv(file_path+\"Hari/latest forum date societywise.csv\")\n",
        "latest_notice = pd.read_csv(file_path+\"Hari/latest notice date societywise.csv\")\n",
        "society_staff_count = pd.read_csv(file_path+\"Sai/Societywise count of Staff.csv\")"
      ]
    },
    {
      "cell_type": "markdown",
      "metadata": {
        "id": "x_eSfrYzLsgC"
      },
      "source": [
        "#clean Data"
      ]
    },
    {
      "cell_type": "code",
      "execution_count": null,
      "metadata": {
        "id": "OF07wmJeZ4e2",
        "colab": {
          "base_uri": "https://localhost:8080/",
          "height": 105
        },
        "outputId": "3275d5f9-794a-4eff-ee4e-239d604789fd"
      },
      "outputs": [
        {
          "output_type": "execute_result",
          "data": {
            "text/plain": [
              "'\\nlatest_complaints[\\'Last ticket Date\\'] = str(latest_complaints[\\'Last ticket Date\\'])\\nlatest_complaints[\\'Last ticket Date\\'].str.split(\"T\",expand=True)\\nlatest_complaints[\\'Last ticket Date\\'] = pd.to_datetime(latest_complaints[\\'Last ticket Date\\']).dt.date()\\n\\n\\nlatest_forums[\\'Last Forum Date\\'] = latest_forums[\\'Last Forum Date\\'].str.split(\"T\",expand=True)\\nlatest_forums[\\'Last Forum Date\\'] = pd.to_datetime(latest_forums[\\'Last Forum Date\\']).dt.date()\\n\\nlatest_notice[\\'Lastest Notice\\'] = pd.to_datetime(latest_notice[\\'Lastest Notice\\']).dt.date()\\n'"
            ],
            "application/vnd.google.colaboratory.intrinsic+json": {
              "type": "string"
            }
          },
          "metadata": {},
          "execution_count": 15
        }
      ],
      "source": [
        "forum1 = forum.groupby('Society ID').sum().reset_index()\n",
        "forum1 = forum1.rename(columns={'Society ID':'KibanaID'})\n",
        "notice1 = notice.groupby('Society ID').sum().reset_index()\n",
        "notice1 = notice.rename(columns={'Society ID':'KibanaID'})\n",
        "complaints['Resolved'] = complaints['Count'] - complaints['Not Resolved']\n",
        "complaints1 = complaints.groupby('party → id').sum().reset_index()\n",
        "complaints1 = complaints1.rename(columns={'party → id':\"KibanaID\"})\n",
        "complaints1['Count'] = pd.to_numeric(complaints1['Count'])\n",
        "x = sum(complaints1['Resolved'])/sum(complaints1['Count'])\n",
        "a1= str(round(x*100,2))\n",
        "complaints30['Resolved'] = complaints30['Count'] - complaints30['Not Resolved']\n",
        "complaints2 = complaints30.groupby('party → id').sum().reset_index()\n",
        "complaints2 = complaints2.rename(columns={'party → id':\"KibanaID\"})\n",
        "complaints2['Count'] = pd.to_numeric(complaints2['Count'])\n",
        "x = sum(complaints2['Resolved'])/sum(complaints2['Count'])\n",
        "a2= str(round(x*100,2))\n",
        "walkytalky = walkytalky.rename(columns={\"Society ID\":\"KibanaID\"})\n",
        "gp = gp.rename(columns={\"Society ID\":\"KibanaID\"})\n",
        "sos7 = sos7.rename(columns={\"society_id\":\"KibanaID\"})\n",
        "sos30 = sos30.rename(columns={\"society_id\":\"KibanaID\"})\n",
        "homechef7 = homechef7.rename(columns={\"chef_info_society_id\":\"KibanaID\"})\n",
        "homechef30 = homechef30.rename(columns={\"chef_info_society_id\":\"KibanaID\"})\n",
        "\n",
        "latest_complaints = latest_complaints.rename(columns={\"Societ ID\":\"KibanaID\"})\n",
        "latest_forums = latest_forums.rename(columns={\"Society ID\":\"KibanaID\"})\n",
        "latest_notice = latest_notice.rename(columns={\"Society ID\":\"KibanaID\"})\n",
        "\n",
        "society_staff_count = society_staff_count.groupby(\"Society ID\").agg({\"Staff Count\":\"sum\"}).reset_index()\n",
        "society_staff_count.rename(columns={\"Society ID\":\"KibanaID\"},inplace=\"True\")\n",
        "society_staff_count\n",
        "\n",
        "'''\n",
        "latest_complaints['Last ticket Date'] = str(latest_complaints['Last ticket Date'])\n",
        "latest_complaints['Last ticket Date'].str.split(\"T\",expand=True)\n",
        "latest_complaints['Last ticket Date'] = pd.to_datetime(latest_complaints['Last ticket Date']).dt.date()\n",
        "\n",
        "\n",
        "latest_forums['Last Forum Date'] = latest_forums['Last Forum Date'].str.split(\"T\",expand=True)\n",
        "latest_forums['Last Forum Date'] = pd.to_datetime(latest_forums['Last Forum Date']).dt.date()\n",
        "\n",
        "latest_notice['Lastest Notice'] = pd.to_datetime(latest_notice['Lastest Notice']).dt.date()\n",
        "'''"
      ]
    },
    {
      "cell_type": "markdown",
      "metadata": {
        "id": "Gi0NtMgitltU"
      },
      "source": []
    },
    {
      "cell_type": "code",
      "execution_count": null,
      "metadata": {
        "id": "FPFwPqpwqUad"
      },
      "outputs": [],
      "source": [
        "societies  = master_societies[['City','KibanaID','Original Closure Number','Society Name','societyStatus','Live Product','Latest Signing Date','Sold Flats','Downloads',\n",
        "                               'RD','KAM Usage', 'Sr.KAM Usage', 'FSD Data', 'FSD Expert','FSD Usage', 'Sr. FSD Expert']]\n"
      ]
    },
    {
      "cell_type": "markdown",
      "metadata": {
        "id": "mQdwFP5GLmHT"
      },
      "source": [
        "#calculate data"
      ]
    },
    {
      "cell_type": "code",
      "execution_count": null,
      "metadata": {
        "id": "51jiUvXkVCA5"
      },
      "outputs": [],
      "source": [
        "staff_count = pd.merge(societies,society_staff_count,how=\"left\",on=\"KibanaID\")\n",
        "staff_count = staff_count.fillna(0)"
      ]
    },
    {
      "cell_type": "code",
      "execution_count": null,
      "metadata": {
        "id": "pcLNL7eQrwFi"
      },
      "outputs": [],
      "source": [
        "forum_usg = pd.merge(societies,forum1,how=\"left\",on=\"KibanaID\")"
      ]
    },
    {
      "cell_type": "code",
      "execution_count": null,
      "metadata": {
        "id": "bpH7ApBZszOZ"
      },
      "outputs": [],
      "source": [
        "notice_usg = pd.merge(societies,notice1,how=\"left\",on=\"KibanaID\")"
      ]
    },
    {
      "cell_type": "code",
      "execution_count": null,
      "metadata": {
        "id": "UrK4TOqDtwjW"
      },
      "outputs": [],
      "source": [
        "complaint_usg_7 = pd.merge(societies,complaints1,how=\"left\",on=\"KibanaID\")"
      ]
    },
    {
      "cell_type": "code",
      "execution_count": null,
      "metadata": {
        "id": "LtbKuZ-BuIZ_"
      },
      "outputs": [],
      "source": [
        "complaint_usg_30 = pd.merge(societies,complaints2,how=\"left\",on=\"KibanaID\")"
      ]
    },
    {
      "cell_type": "code",
      "execution_count": null,
      "metadata": {
        "id": "_m5A9Rn_uXjF"
      },
      "outputs": [],
      "source": [
        "walky_talky_usg = pd.merge(societies,walkytalky,how=\"left\",on=\"KibanaID\")"
      ]
    },
    {
      "cell_type": "code",
      "execution_count": null,
      "metadata": {
        "id": "nlDiT3xLwOsK"
      },
      "outputs": [],
      "source": [
        "\n",
        "gp_usg = pd.merge(societies,gp,how=\"left\",on=\"KibanaID\")"
      ]
    },
    {
      "cell_type": "code",
      "execution_count": null,
      "metadata": {
        "id": "yR7ZDxhnxRRm"
      },
      "outputs": [],
      "source": [
        "sos_usg_7 = pd.merge(societies,sos7,how=\"left\",on=\"KibanaID\")\n",
        "sos_usg_30 = pd.merge(societies,sos30,how=\"left\",on=\"KibanaID\")"
      ]
    },
    {
      "cell_type": "code",
      "execution_count": null,
      "metadata": {
        "id": "FloHiaP1yDPm"
      },
      "outputs": [],
      "source": [
        "homechef_usg_7 = pd.merge(societies,homechef7,how=\"left\",on=\"KibanaID\")\n",
        "homechef_usg_30 = pd.merge(societies,homechef30,how=\"left\",on=\"KibanaID\")"
      ]
    },
    {
      "cell_type": "code",
      "execution_count": null,
      "metadata": {
        "id": "E6vooMk9ZDHl"
      },
      "outputs": [],
      "source": [
        "latest_comp = pd.merge(societies,latest_complaints,how=\"left\",on=\"KibanaID\")"
      ]
    },
    {
      "cell_type": "code",
      "execution_count": null,
      "metadata": {
        "id": "nyLFkzl-ZDn8"
      },
      "outputs": [],
      "source": [
        "latest_noti = pd.merge(societies,latest_notice,how=\"left\",on=\"KibanaID\")"
      ]
    },
    {
      "cell_type": "code",
      "execution_count": null,
      "metadata": {
        "id": "sOLZ6iPIZD-l"
      },
      "outputs": [],
      "source": [
        "latest_foru = pd.merge(societies,latest_forums,how=\"left\",on=\"KibanaID\")"
      ]
    },
    {
      "cell_type": "markdown",
      "metadata": {
        "id": "7wsnzD4byjIe"
      },
      "source": [
        "\n",
        "#write to sheets"
      ]
    },
    {
      "cell_type": "code",
      "execution_count": null,
      "metadata": {
        "id": "XHmA2A7QZbR0"
      },
      "outputs": [],
      "source": [
        "#output sheet - https://docs.google.com/spreadsheets/d/1sqPSxZAts7fZpB5TyiJf7OY_HDkyuB79qKK0vYD4aMg/edit#gid=0\n",
        "\n",
        "#forum_usage\n",
        "spreadsheetid = \"1sqPSxZAts7fZpB5TyiJf7OY_HDkyuB79qKK0vYD4aMg\"\n",
        "range = \"forum\"\n",
        "wb = gc.open_by_key(spreadsheetid)\n",
        "ws = wb.worksheet(range)\n",
        "df = pd.DataFrame(forum_usg)\n",
        "set_with_dataframe(ws, df)"
      ]
    },
    {
      "cell_type": "code",
      "execution_count": null,
      "metadata": {
        "id": "8owNs65fyi7V"
      },
      "outputs": [],
      "source": [
        "\n",
        "#notice_usage\n",
        "range = \"notice\"\n",
        "wb = gc.open_by_key(spreadsheetid)\n",
        "ws = wb.worksheet(range)\n",
        "df = pd.DataFrame(notice_usg)\n",
        "set_with_dataframe(ws, df)\n",
        "\n",
        "\n",
        "#complaints_usage\n",
        "range = \"complaints_7\"\n",
        "wb = gc.open_by_key(spreadsheetid)\n",
        "ws = wb.worksheet(range)\n",
        "df = pd.DataFrame(complaint_usg_7)\n",
        "set_with_dataframe(ws, df)\n",
        "\n",
        "\n",
        "range = \"complaints_30\"\n",
        "wb = gc.open_by_key(spreadsheetid)\n",
        "ws = wb.worksheet(range)\n",
        "df = pd.DataFrame(complaint_usg_30)\n",
        "set_with_dataframe(ws, df)\n",
        "\n",
        "#walky\n",
        "range = \"wt\"\n",
        "wb = gc.open_by_key(spreadsheetid)\n",
        "ws = wb.worksheet(range)\n",
        "df = pd.DataFrame(walky_talky_usg)\n",
        "set_with_dataframe(ws, df)\n",
        "\n",
        "#SOS\n",
        "range = \"sos7\"\n",
        "wb = gc.open_by_key(spreadsheetid)\n",
        "ws = wb.worksheet(range)\n",
        "df = pd.DataFrame(sos_usg_7)\n",
        "set_with_dataframe(ws, df)\n",
        "\n",
        "range = \"sos30\"\n",
        "wb = gc.open_by_key(spreadsheetid)\n",
        "ws = wb.worksheet(range)\n",
        "df = pd.DataFrame(sos_usg_30)\n",
        "set_with_dataframe(ws, df)\n",
        "\n",
        "#homechef\n",
        "range = \"homechef7\"\n",
        "wb = gc.open_by_key(spreadsheetid)\n",
        "ws = wb.worksheet(range)\n",
        "df = pd.DataFrame(homechef_usg_7)\n",
        "set_with_dataframe(ws, df)\n",
        "\n",
        "range = \"homechef30\"\n",
        "wb = gc.open_by_key(spreadsheetid)\n",
        "ws = wb.worksheet(range)\n",
        "df = pd.DataFrame(homechef_usg_30)\n",
        "set_with_dataframe(ws, df)\n",
        "\n",
        "#latest_notice\n",
        "range = \"latest_notice\"\n",
        "wb = gc.open_by_key(spreadsheetid)\n",
        "ws = wb.worksheet(range)\n",
        "df = pd.DataFrame(latest_noti)\n",
        "set_with_dataframe(ws, df)\n",
        "\n",
        "#latest_notice\n",
        "range = \"latest_forum\"\n",
        "wb = gc.open_by_key(spreadsheetid)\n",
        "ws = wb.worksheet(range)\n",
        "df = pd.DataFrame(latest_foru)\n",
        "set_with_dataframe(ws, df)\n",
        "\n",
        "#latest_notice\n",
        "range = \"latest_complaints\"\n",
        "wb = gc.open_by_key(spreadsheetid)\n",
        "ws = wb.worksheet(range)\n",
        "df = pd.DataFrame(latest_comp)\n",
        "set_with_dataframe(ws, df)\n",
        "\n",
        "#society_staff\n",
        "range = \"staff_count\"\n",
        "wb = gc.open_by_key(spreadsheetid)\n",
        "ws = wb.worksheet(range)\n",
        "df = pd.DataFrame(staff_count)\n",
        "set_with_dataframe(ws, df)"
      ]
    },
    {
      "cell_type": "markdown",
      "metadata": {
        "id": "FA3LmGApOI4V"
      },
      "source": [
        "#deactivated societies"
      ]
    },
    {
      "cell_type": "code",
      "execution_count": null,
      "metadata": {
        "id": "7CqjKTE7RAq1"
      },
      "outputs": [],
      "source": [
        "key = \"1sqPSxZAts7fZpB5TyiJf7OY_HDkyuB79qKK0vYD4aMg\"\n",
        "range = \"Master-deactivated\"\n",
        "deactive_societies = get_data_df(key,range)\n",
        "new_header = deactive_societies.iloc[0]"
      ]
    },
    {
      "cell_type": "code",
      "execution_count": null,
      "metadata": {
        "id": "wQOZLlMtOIHR",
        "colab": {
          "base_uri": "https://localhost:8080/"
        },
        "outputId": "8005e98a-d153-4a57-c683-123235fa5c56"
      },
      "outputs": [
        {
          "output_type": "stream",
          "name": "stderr",
          "text": [
            "/usr/local/lib/python3.7/dist-packages/pandas/core/frame.py:5047: SettingWithCopyWarning: \n",
            "A value is trying to be set on a copy of a slice from a DataFrame\n",
            "\n",
            "See the caveats in the documentation: https://pandas.pydata.org/pandas-docs/stable/user_guide/indexing.html#returning-a-view-versus-a-copy\n",
            "  errors=errors,\n"
          ]
        }
      ],
      "source": [
        " #grab the first row for the header\n",
        "deactive = deactive_societies[1:] #take the data less the header row\n",
        "deactive.columns = new_header # set the\n",
        "\n",
        "deactive_helpdesk = deactive.iloc[:,[0,1,2,3,4]]\n",
        "deactive_helpdesk.rename(columns={\"society_id\":\"KibanaID\"},inplace=True)\n",
        "deactive_helpdesk = pd.merge(deactive_helpdesk,societies,how=\"left\",on=\"KibanaID\")\n",
        "deactive_forums = deactive.iloc[:,[6,7,8,9,10]]\n",
        "deactive_forums.rename(columns={\"society_id\":\"KibanaID\"},inplace=True)\n",
        "deactive_forums = pd.merge(deactive_forums,societies,how=\"left\",on=\"KibanaID\")"
      ]
    },
    {
      "cell_type": "code",
      "execution_count": null,
      "metadata": {
        "id": "FMJ8BU0gRNrn"
      },
      "outputs": [],
      "source": [
        "#complaints_deactive_societies\n",
        "\n",
        "spreadsheetid = \"1sqPSxZAts7fZpB5TyiJf7OY_HDkyuB79qKK0vYD4aMg\"\n",
        "range = \"deactive_helpdesk\"\n",
        "wb = gc.open_by_key(spreadsheetid)\n",
        "ws = wb.worksheet(range)\n",
        "df = pd.DataFrame(deactive_helpdesk)\n",
        "set_with_dataframe(ws, df)\n",
        "\n",
        "#forums_deactive_societies\n",
        "spreadsheetid = \"1sqPSxZAts7fZpB5TyiJf7OY_HDkyuB79qKK0vYD4aMg\"\n",
        "range = \"deactive_forums\"\n",
        "wb = gc.open_by_key(spreadsheetid)\n",
        "ws = wb.worksheet(range)\n",
        "df = pd.DataFrame(deactive_forums)\n",
        "set_with_dataframe(ws, df)"
      ]
    }
  ],
  "metadata": {
    "colab": {
      "provenance": [],
      "include_colab_link": true
    },
    "kernelspec": {
      "display_name": "Python 3",
      "name": "python3"
    },
    "language_info": {
      "name": "python"
    }
  },
  "nbformat": 4,
  "nbformat_minor": 0
}