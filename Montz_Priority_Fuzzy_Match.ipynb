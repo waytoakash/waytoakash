{
  "nbformat": 4,
  "nbformat_minor": 0,
  "metadata": {
    "colab": {
      "provenance": [],
      "collapsed_sections": [
        "EHtobd1ENJhj",
        "c40kTFyer1on"
      ],
      "include_colab_link": true
    },
    "kernelspec": {
      "name": "python3",
      "display_name": "Python 3"
    },
    "language_info": {
      "name": "python"
    }
  },
  "cells": [
    {
      "cell_type": "markdown",
      "metadata": {
        "id": "view-in-github",
        "colab_type": "text"
      },
      "source": [
        "<a href=\"https://colab.research.google.com/github/waytoakash/waytoakash/blob/main/Montz_Priority_Fuzzy_Match.ipynb\" target=\"_parent\"><img src=\"https://colab.research.google.com/assets/colab-badge.svg\" alt=\"Open In Colab\"/></a>"
      ]
    },
    {
      "cell_type": "markdown",
      "source": [
        "## Prerun"
      ],
      "metadata": {
        "id": "EHtobd1ENJhj"
      }
    },
    {
      "cell_type": "code",
      "execution_count": null,
      "metadata": {
        "colab": {
          "base_uri": "https://localhost:8080/"
        },
        "id": "2gAPKaF0M82Z",
        "outputId": "082aaa24-7020-4f76-c0ae-b6eddc79ae82"
      },
      "outputs": [
        {
          "output_type": "stream",
          "name": "stdout",
          "text": [
            "Mounted at /content/drive\n",
            "Requirement already satisfied: fuzzywuzzy in /usr/local/lib/python3.10/dist-packages (0.18.0)\n",
            "Requirement already satisfied: python-Levenshtein in /usr/local/lib/python3.10/dist-packages (0.26.1)\n",
            "Requirement already satisfied: Levenshtein==0.26.1 in /usr/local/lib/python3.10/dist-packages (from python-Levenshtein) (0.26.1)\n",
            "Requirement already satisfied: rapidfuzz<4.0.0,>=3.9.0 in /usr/local/lib/python3.10/dist-packages (from Levenshtein==0.26.1->python-Levenshtein) (3.10.1)\n"
          ]
        }
      ],
      "source": [
        "import os\n",
        "import numpy as np\n",
        "import pandas as pd\n",
        "import datetime\n",
        "from datetime import datetime\n",
        "from datetime import timedelta\n",
        "import re\n",
        "import time\n",
        "\n",
        "from dateutil.relativedelta import relativedelta #\n",
        "from functools import reduce\n",
        "\n",
        "from google.colab import drive\n",
        "drive.mount('/content/drive', force_remount = True)\n",
        "\n",
        "import gspread\n",
        "from google.colab import auth\n",
        "auth.authenticate_user() #\n",
        "\n",
        "from oauth2client.client import GoogleCredentials #\n",
        "#gc = gspread.authorize(GoogleCredentials.get_application_default()) #\n",
        "\n",
        "auth.authenticate_user()\n",
        "\n",
        "import gspread\n",
        "from google.auth import default\n",
        "creds, _ = default()\n",
        "\n",
        "gc = gspread.authorize(creds)\n",
        "\n",
        "from gspread_dataframe import set_with_dataframe\n",
        "\n",
        "!pip install fuzzywuzzy\n",
        "!pip install python-Levenshtein\n",
        "\n",
        "from fuzzywuzzy import fuzz\n",
        "from fuzzywuzzy import process\n",
        "\n",
        "def changeDateFormat(row):\n",
        "  return pd.to_datetime(row, errors='coerce').dt.date\n",
        "\n",
        "def changeDateTimeFormat(row):\n",
        "  return pd.to_datetime(row, errors='coerce')\n",
        "\n",
        "def clean_text(text):\n",
        "    # Remove special characters and multiple spaces, but keep numbers\n",
        "    cleaned_text = re.sub(r'[^A-Za-z0-9\\s]+', '', text)\n",
        "    cleaned_text = re.sub(r'\\s+', ' ', cleaned_text).strip()\n",
        "    return cleaned_text\n",
        "\n",
        "def get_data(spreadSheetId, rangeName):\n",
        "    wb = gc.open_by_key(spreadSheetId)\n",
        "    ws = wb.worksheet(rangeName)\n",
        "    rows = ws.get_all_values()\n",
        "    return rows\n",
        "#get all data in a sheet as df and there 1st row things as the df labels.\n",
        "#If sheets don't have their labels in the first row than we have to do it manuaaly as per the data\n",
        "def get_data_df(spreadSheetId, rangeName):\n",
        "  l = get_data(spreadSheetId, rangeName)\n",
        "  ldf = pd.DataFrame.from_records(l[1:], columns = l[0])\n",
        "  return ldf\n",
        "\n",
        "def cap(text):\n",
        "  return text.upper().strip()"
      ]
    },
    {
      "cell_type": "markdown",
      "source": [
        "#**Pre-processing**#"
      ],
      "metadata": {
        "id": "c40kTFyer1on"
      }
    },
    {
      "cell_type": "code",
      "source": [
        "key = \"1BBIaBIbkKuQfVYt8W8VwbRPiztg29HPuBHzW764rEwE\"\n",
        "range = \"LeadMaster\"\n",
        "wb = gc.open_by_key(key)\n",
        "ws = wb.worksheet(range)\n",
        "df1= get_data_df(key, range)\n",
        "\n",
        "key = \"1vbQoKI8VxgXelY5LyJrJo9RwPiwyc388B6qdJVNLeTA\"\n",
        "range = \"Leads data\"\n",
        "wb = gc.open_by_key(key)\n",
        "ws = wb.worksheet(range)\n",
        "df2= get_data_df(key, range)"
      ],
      "metadata": {
        "id": "DouVMH5crIok",
        "outputId": "e8f8c1b7-35e0-42db-d164-7e699f0bf178",
        "colab": {
          "base_uri": "https://localhost:8080/",
          "height": 211
        }
      },
      "execution_count": null,
      "outputs": [
        {
          "output_type": "error",
          "ename": "NameError",
          "evalue": "name 'gc' is not defined",
          "traceback": [
            "\u001b[0;31m---------------------------------------------------------------------------\u001b[0m",
            "\u001b[0;31mNameError\u001b[0m                                 Traceback (most recent call last)",
            "\u001b[0;32m<ipython-input-1-411b680ba2d5>\u001b[0m in \u001b[0;36m<cell line: 3>\u001b[0;34m()\u001b[0m\n\u001b[1;32m      1\u001b[0m \u001b[0mkey\u001b[0m \u001b[0;34m=\u001b[0m \u001b[0;34m\"1BBIaBIbkKuQfVYt8W8VwbRPiztg29HPuBHzW764rEwE\"\u001b[0m\u001b[0;34m\u001b[0m\u001b[0;34m\u001b[0m\u001b[0m\n\u001b[1;32m      2\u001b[0m \u001b[0mrange\u001b[0m \u001b[0;34m=\u001b[0m \u001b[0;34m\"LeadMaster\"\u001b[0m\u001b[0;34m\u001b[0m\u001b[0;34m\u001b[0m\u001b[0m\n\u001b[0;32m----> 3\u001b[0;31m \u001b[0mwb\u001b[0m \u001b[0;34m=\u001b[0m \u001b[0mgc\u001b[0m\u001b[0;34m.\u001b[0m\u001b[0mopen_by_key\u001b[0m\u001b[0;34m(\u001b[0m\u001b[0mkey\u001b[0m\u001b[0;34m)\u001b[0m\u001b[0;34m\u001b[0m\u001b[0;34m\u001b[0m\u001b[0m\n\u001b[0m\u001b[1;32m      4\u001b[0m \u001b[0mws\u001b[0m \u001b[0;34m=\u001b[0m \u001b[0mwb\u001b[0m\u001b[0;34m.\u001b[0m\u001b[0mworksheet\u001b[0m\u001b[0;34m(\u001b[0m\u001b[0mrange\u001b[0m\u001b[0;34m)\u001b[0m\u001b[0;34m\u001b[0m\u001b[0;34m\u001b[0m\u001b[0m\n\u001b[1;32m      5\u001b[0m \u001b[0mdf1\u001b[0m\u001b[0;34m=\u001b[0m \u001b[0mget_data_df\u001b[0m\u001b[0;34m(\u001b[0m\u001b[0mkey\u001b[0m\u001b[0;34m,\u001b[0m \u001b[0mrange\u001b[0m\u001b[0;34m)\u001b[0m\u001b[0;34m\u001b[0m\u001b[0;34m\u001b[0m\u001b[0m\n",
            "\u001b[0;31mNameError\u001b[0m: name 'gc' is not defined"
          ]
        }
      ]
    },
    {
      "cell_type": "code",
      "source": [
        "sales = df1[['Closure City','Society Name (Sales)','Closure Date','Closure Month','year','Closure Number','Sales Product','HO Product','Gross RP Without Offset']]\n",
        "sales['societycity'] = sales['Closure City']+' '+sales['Society Name (Sales)']\n",
        "sales.rename(columns = {'Closure City':'City','Gross RP Without Offset':'Gross RP'}, inplace = True)\n",
        "\n",
        "sales['City'] = sales['City'].replace(['Navi Mumbai - NMT', 'Navi Mumbai - Thane','Navi Mumbai'], 'Navi Mumbai')\n",
        "sales['City'] = sales['City'].replace(['Mumbai', 'Mumbai 2'], 'Mumbai')\n",
        "\n",
        "\n",
        "mntz = df2[['City','Society Name']]\n",
        "mntz.rename(columns = {'Society Name':'Society Name (Sales)'}, inplace = True)\n",
        "mntz['societycity'] = mntz['City']+' '+mntz['Society Name (Sales)']\n",
        "\n",
        "mntz['City'] = mntz['City'].replace(['Navi Mumbai and Thane'], 'Navi Mumbai')\n",
        "mntz['City'] = mntz['City'].replace(['Mumbai and SoBo'], 'Mumbai')\n",
        "mntz['City'] = mntz['City'].replace(['Bengaluru'], 'Bangalore')"
      ],
      "metadata": {
        "colab": {
          "base_uri": "https://localhost:8080/",
          "height": 228
        },
        "id": "L4ssmFNLrLxI",
        "outputId": "173b4b4d-0d58-4fbf-e682-831e56cbd36a"
      },
      "execution_count": null,
      "outputs": [
        {
          "output_type": "error",
          "ename": "NameError",
          "evalue": "name 'df1' is not defined",
          "traceback": [
            "\u001b[0;31m---------------------------------------------------------------------------\u001b[0m",
            "\u001b[0;31mNameError\u001b[0m                                 Traceback (most recent call last)",
            "\u001b[0;32m<ipython-input-2-58dd66a88e08>\u001b[0m in \u001b[0;36m<cell line: 1>\u001b[0;34m()\u001b[0m\n\u001b[0;32m----> 1\u001b[0;31m \u001b[0msales\u001b[0m \u001b[0;34m=\u001b[0m \u001b[0mdf1\u001b[0m\u001b[0;34m[\u001b[0m\u001b[0;34m[\u001b[0m\u001b[0;34m'Closure City'\u001b[0m\u001b[0;34m,\u001b[0m\u001b[0;34m'Society Name (Sales)'\u001b[0m\u001b[0;34m,\u001b[0m\u001b[0;34m'Closure Date'\u001b[0m\u001b[0;34m,\u001b[0m\u001b[0;34m'Closure Month'\u001b[0m\u001b[0;34m,\u001b[0m\u001b[0;34m'year'\u001b[0m\u001b[0;34m,\u001b[0m\u001b[0;34m'Closure Number'\u001b[0m\u001b[0;34m,\u001b[0m\u001b[0;34m'Sales Product'\u001b[0m\u001b[0;34m,\u001b[0m\u001b[0;34m'HO Product'\u001b[0m\u001b[0;34m,\u001b[0m\u001b[0;34m'Gross RP Without Offset'\u001b[0m\u001b[0;34m]\u001b[0m\u001b[0;34m]\u001b[0m\u001b[0;34m\u001b[0m\u001b[0;34m\u001b[0m\u001b[0m\n\u001b[0m\u001b[1;32m      2\u001b[0m \u001b[0msales\u001b[0m\u001b[0;34m[\u001b[0m\u001b[0;34m'societycity'\u001b[0m\u001b[0;34m]\u001b[0m \u001b[0;34m=\u001b[0m \u001b[0msales\u001b[0m\u001b[0;34m[\u001b[0m\u001b[0;34m'Closure City'\u001b[0m\u001b[0;34m]\u001b[0m\u001b[0;34m+\u001b[0m\u001b[0;34m' '\u001b[0m\u001b[0;34m+\u001b[0m\u001b[0msales\u001b[0m\u001b[0;34m[\u001b[0m\u001b[0;34m'Society Name (Sales)'\u001b[0m\u001b[0;34m]\u001b[0m\u001b[0;34m\u001b[0m\u001b[0;34m\u001b[0m\u001b[0m\n\u001b[1;32m      3\u001b[0m \u001b[0msales\u001b[0m\u001b[0;34m.\u001b[0m\u001b[0mrename\u001b[0m\u001b[0;34m(\u001b[0m\u001b[0mcolumns\u001b[0m \u001b[0;34m=\u001b[0m \u001b[0;34m{\u001b[0m\u001b[0;34m'Closure City'\u001b[0m\u001b[0;34m:\u001b[0m\u001b[0;34m'City'\u001b[0m\u001b[0;34m,\u001b[0m\u001b[0;34m'Gross RP Without Offset'\u001b[0m\u001b[0;34m:\u001b[0m\u001b[0;34m'Gross RP'\u001b[0m\u001b[0;34m}\u001b[0m\u001b[0;34m,\u001b[0m \u001b[0minplace\u001b[0m \u001b[0;34m=\u001b[0m \u001b[0;32mTrue\u001b[0m\u001b[0;34m)\u001b[0m\u001b[0;34m\u001b[0m\u001b[0;34m\u001b[0m\u001b[0m\n\u001b[1;32m      4\u001b[0m \u001b[0;34m\u001b[0m\u001b[0m\n\u001b[1;32m      5\u001b[0m \u001b[0msales\u001b[0m\u001b[0;34m[\u001b[0m\u001b[0;34m'City'\u001b[0m\u001b[0;34m]\u001b[0m \u001b[0;34m=\u001b[0m \u001b[0msales\u001b[0m\u001b[0;34m[\u001b[0m\u001b[0;34m'City'\u001b[0m\u001b[0;34m]\u001b[0m\u001b[0;34m.\u001b[0m\u001b[0mreplace\u001b[0m\u001b[0;34m(\u001b[0m\u001b[0;34m[\u001b[0m\u001b[0;34m'Navi Mumbai - NMT'\u001b[0m\u001b[0;34m,\u001b[0m \u001b[0;34m'Navi Mumbai - Thane'\u001b[0m\u001b[0;34m,\u001b[0m\u001b[0;34m'Navi Mumbai'\u001b[0m\u001b[0;34m]\u001b[0m\u001b[0;34m,\u001b[0m \u001b[0;34m'Navi Mumbai'\u001b[0m\u001b[0;34m)\u001b[0m\u001b[0;34m\u001b[0m\u001b[0;34m\u001b[0m\u001b[0m\n",
            "\u001b[0;31mNameError\u001b[0m: name 'df1' is not defined"
          ]
        }
      ]
    },
    {
      "cell_type": "code",
      "source": [
        "sales['societycity']=sales['societycity'].apply(clean_text).apply(clean_text).apply(cap)\n",
        "mntz['societycity']=mntz['societycity'].apply(clean_text).apply(clean_text).apply(cap)"
      ],
      "metadata": {
        "id": "Ojz_9N8Bruep"
      },
      "execution_count": null,
      "outputs": []
    },
    {
      "cell_type": "code",
      "source": [
        "sales.replace('',np.nan,inplace=True)\n",
        "mntz.replace('',np.nan,inplace=True)\n",
        "\n",
        "sales.dropna(inplace=True)\n",
        "mntz.dropna(inplace=True)\n",
        "\n",
        "sales.drop_duplicates('societycity',keep='first',inplace=True)\n",
        "mntz.drop_duplicates('societycity',keep='first',inplace=True)"
      ],
      "metadata": {
        "id": "Pa1FSzzUtwWj"
      },
      "execution_count": null,
      "outputs": []
    },
    {
      "cell_type": "code",
      "source": [
        "#fuzzywuzzy UDF code/ use fuzz.token_set_ratio for positional consideration\n",
        "def find_match(row):\n",
        "    match = process.extractOne(row['societycity'], sales['societycity'], scorer=fuzz.token_sort_ratio)\n",
        "    matched_name = sales.loc[match[2], 'societycity']\n",
        "    closure = sales.loc[match[2], 'Closure Number']\n",
        "    similarity_score = match[1]\n",
        "    return pd.Series([matched_name, closure, similarity_score], index=['Matched_name', 'Closure Number', 'Similarity_Score'])\n",
        "\n",
        "\n",
        "st=time.time()\n",
        "# Apply the find_match function to the entire 'name' column in df1\n",
        "mntz[['Matched_name', 'Closure Number', 'Similarity_Score']] = mntz.apply(find_match, axis=1)\n",
        "et=time.time()\n",
        "\n",
        "elapsed_time_minutes = (et - st) / 60\n",
        "\n",
        "# Print the elapsed time in minutes with 4 decimal places\n",
        "print(f\"Elapsed time: {elapsed_time_minutes:.4f} minutes\")"
      ],
      "metadata": {
        "id": "W3WK1SfhuykV"
      },
      "execution_count": null,
      "outputs": []
    },
    {
      "cell_type": "code",
      "source": [
        "mntz"
      ],
      "metadata": {
        "id": "qn8Kp00Rxqud"
      },
      "execution_count": null,
      "outputs": []
    },
    {
      "cell_type": "code",
      "source": [
        "#pushing data(to the new sheet\n",
        "rangeName=\"FuzzyMatch\"\n",
        "key='1vbQoKI8VxgXelY5LyJrJo9RwPiwyc388B6qdJVNLeTA'\n",
        "wb = gc.open_by_key(key)\n",
        "ws = wb.worksheet(rangeName)\n",
        "ws.clear()\n",
        "#df = pd.DataFrame(results)\n",
        "set_with_dataframe(ws, mntz)"
      ],
      "metadata": {
        "id": "4T69msTqx0I1"
      },
      "execution_count": null,
      "outputs": []
    },
    {
      "cell_type": "code",
      "source": [],
      "metadata": {
        "id": "MzI8q5h8yQZt"
      },
      "execution_count": null,
      "outputs": []
    }
  ]
}