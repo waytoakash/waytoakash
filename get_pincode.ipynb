{
  "cells": [
    {
      "cell_type": "markdown",
      "metadata": {
        "id": "view-in-github",
        "colab_type": "text"
      },
      "source": [
        "<a href=\"https://colab.research.google.com/github/waytoakash/waytoakash/blob/main/get_pincode.ipynb\" target=\"_parent\"><img src=\"https://colab.research.google.com/assets/colab-badge.svg\" alt=\"Open In Colab\"/></a>"
      ]
    },
    {
      "cell_type": "code",
      "execution_count": null,
      "metadata": {
        "colab": {
          "base_uri": "https://localhost:8080/"
        },
        "id": "yGEcJFCYUXQu",
        "outputId": "cc96b18f-911b-4964-e7f3-3460465099e8"
      },
      "outputs": [
        {
          "output_type": "stream",
          "name": "stdout",
          "text": [
            "[{'place_id': 356967090, 'licence': 'Data © OpenStreetMap contributors, ODbL 1.0. https://osm.org/copyright', 'osm_type': 'way', 'osm_id': 1093186415, 'boundingbox': ['12.8134543', '12.8180678', '77.7915072', '77.7948815'], 'lat': '12.8155858', 'lon': '77.79285596408383', 'display_name': \"Celebrity Nature's Habitat, villa in Sarjapur, Bidaraguppe, Anekal, Bengaluru Urban District, Karnataka, India\", 'class': 'landuse', 'type': 'residential', 'importance': 0.4000099999999999}, {'place_id': 3530388, 'licence': 'Data © OpenStreetMap contributors, ODbL 1.0. https://osm.org/copyright', 'osm_type': 'node', 'osm_id': 456016994, 'boundingbox': ['12.8916225', '12.9316225', '77.6188622', '77.6588622'], 'lat': '12.9116225', 'lon': '77.6388622', 'display_name': 'HSR Layout, HSR Layout Ward, Bommanahalli Zone, Bengaluru, Bangalore South, Bengaluru Urban District, Karnataka, 380068, India', 'class': 'place', 'type': 'suburb', 'importance': 0.375, 'icon': 'https://nominatim.openstreetmap.org/ui/mapicons/poi_place_village.p.20.png'}, {'place_id': 230234019, 'licence': 'Data © OpenStreetMap contributors, ODbL 1.0. https://osm.org/copyright', 'osm_type': 'way', 'osm_id': 610138361, 'boundingbox': ['12.920404', '12.9204596', '77.6652807', '77.6654391'], 'lat': '12.920441', 'lon': '77.6653284', 'display_name': 'Sarjapur Road, Ambalipura, Bellanduru, Mahadevapura Zone, Bengaluru, Bangalore South, Bengaluru Urban District, Karnataka, 530103, India', 'class': 'highway', 'type': 'primary', 'importance': 0.30000999999999994}, {'place_id': 236888957, 'licence': 'Data © OpenStreetMap contributors, ODbL 1.0. https://osm.org/copyright', 'osm_type': 'way', 'osm_id': 655800098, 'boundingbox': ['12.9244812', '12.9245335', '77.6501824', '77.6503058'], 'lat': '12.9244812', 'lon': '77.6503058', 'display_name': 'Sarjapur Road, Agara, Agaram, East Zone, Bengaluru, Bangalore South, Bengaluru Urban District, Karnataka, 560034, India', 'class': 'highway', 'type': 'primary', 'importance': 0.30000999999999994}, {'place_id': 267616313, 'licence': 'Data © OpenStreetMap contributors, ODbL 1.0. https://osm.org/copyright', 'osm_type': 'way', 'osm_id': 839092204, 'boundingbox': ['12.9240361', '12.9241331', '77.639179', '77.6394335'], 'lat': '12.9240361', 'lon': '77.6394335', 'display_name': 'Sarjapur Road, Venkatpura, Jakkasandra, South Zone, Bengaluru, Bangalore South, Bengaluru Urban District, Karnataka, 560034, India', 'class': 'highway', 'type': 'primary', 'importance': 0.30000999999999994}, {'place_id': 211466941, 'licence': 'Data © OpenStreetMap contributors, ODbL 1.0. https://osm.org/copyright', 'osm_type': 'way', 'osm_id': 476886246, 'boundingbox': ['12.9241566', '12.9242381', '77.6288579', '77.6289059'], 'lat': '12.9242381', 'lon': '77.6289059', 'display_name': 'Sarjapur Road, SBI Colony, Koramangala, South Zone, Bengaluru, Bangalore South, Bengaluru Urban District, Karnataka, 560034, India', 'class': 'highway', 'type': 'primary', 'importance': 0.30000999999999994}, {'place_id': 163178040, 'licence': 'Data © OpenStreetMap contributors, ODbL 1.0. https://osm.org/copyright', 'osm_type': 'way', 'osm_id': 232401975, 'boundingbox': ['12.9237425', '12.9244834', '77.6504545', '77.654645'], 'lat': '12.9242952', 'lon': '77.6517878', 'display_name': 'Sarjapur Road, Agara, Agaram, East Zone, Bengaluru, Bangalore South, Bengaluru Urban District, Karnataka, 530103, India', 'class': 'highway', 'type': 'primary', 'importance': 0.30000999999999994}, {'place_id': 125932340, 'licence': 'Data © OpenStreetMap contributors, ODbL 1.0. https://osm.org/copyright', 'osm_type': 'way', 'osm_id': 93462399, 'boundingbox': ['12.9236114', '12.9244365', '77.6503507', '77.6547147'], 'lat': '12.9242269', 'lon': '77.6518529', 'display_name': 'Sarjapur Road, Agara, HSR Layout Ward, Bommanahalli Zone, Bengaluru, Bangalore South, Bengaluru Urban District, Karnataka, 530103, India', 'class': 'highway', 'type': 'primary', 'importance': 0.30000999999999994}, {'place_id': 236871682, 'licence': 'Data © OpenStreetMap contributors, ODbL 1.0. https://osm.org/copyright', 'osm_type': 'way', 'osm_id': 655800097, 'boundingbox': ['12.9244365', '12.9244812', '77.6503058', '77.6503507'], 'lat': '12.9244365', 'lon': '77.6503507', 'display_name': 'Sarjapur Road, Agara, HSR Layout Ward, Bommanahalli Zone, Bengaluru, Bangalore South, Bengaluru Urban District, Karnataka, 560034, India', 'class': 'highway', 'type': 'primary', 'importance': 0.30000999999999994}, {'place_id': 208045995, 'licence': 'Data © OpenStreetMap contributors, ODbL 1.0. https://osm.org/copyright', 'osm_type': 'way', 'osm_id': 460961524, 'boundingbox': ['12.8928318', '12.8947273', '77.7073437', '77.7087224'], 'lat': '12.893932549999999', 'lon': '77.7080199700685', 'display_name': 'DS Max Sprinkles, Bengaluru, Bangalore East, Bengaluru Urban District, Karnataka, 560035, India', 'class': 'landuse', 'type': 'residential', 'importance': 0.3000099999999999}]\n",
            "12.8155858\n",
            "77.79285596408383\n"
          ]
        }
      ],
      "source": [
        "import requests\n",
        "import urllib.parse\n",
        "\n",
        "address = 'Sarjapur,bengaluru'\n",
        "url = 'https://nominatim.openstreetmap.org/search/' + urllib.parse.quote(address) +'?format=json'\n",
        "\n",
        "response = requests.get(url).json()\n",
        "print(response)\n",
        "print(response[0][\"lat\"])\n",
        "print(response[0][\"lon\"])"
      ]
    },
    {
      "cell_type": "markdown",
      "metadata": {
        "id": "9yo6GeB87vVB"
      },
      "source": [
        "#**Postal Code from Area**"
      ]
    },
    {
      "cell_type": "code",
      "execution_count": null,
      "metadata": {
        "colab": {
          "base_uri": "https://localhost:8080/"
        },
        "id": "IDunuXjzAjDG",
        "outputId": "85cade9a-8965-4038-8175-c91628daffa1"
      },
      "outputs": [
        {
          "output_type": "stream",
          "name": "stdout",
          "text": [
            "Postal code: 560035\n"
          ]
        }
      ],
      "source": [
        "import requests\n",
        "\n",
        "def get_postal_code(area_name):\n",
        "    base_url = \"https://nominatim.openstreetmap.org/search\"\n",
        "\n",
        "    # Send a geocoding request to the Nominatim API\n",
        "    response = requests.get(base_url, params={\"q\": area_name, \"format\": \"json\", \"addressdetails\": 1})\n",
        "    data = response.json()\n",
        "\n",
        "    if response.status_code == 200 and len(data) > 0:\n",
        "        address_details = data[0].get(\"address\")\n",
        "        if address_details:\n",
        "            postal_code = address_details.get(\"postcode\")\n",
        "            if postal_code:\n",
        "                return postal_code\n",
        "\n",
        "    return None\n",
        "\n",
        "# Example usage\n",
        "area_name = \"bren mercury,bangalore\"\n",
        "postal_code = get_postal_code(area_name)\n",
        "if postal_code:\n",
        "    print(\"Postal code:\", postal_code)\n",
        "else:\n",
        "    print(\"Postal code not found.\")\n"
      ]
    },
    {
      "cell_type": "markdown",
      "metadata": {
        "id": "LDlkzcaVYrbi"
      },
      "source": [
        "#**Import Libraries**"
      ]
    },
    {
      "cell_type": "code",
      "execution_count": null,
      "metadata": {
        "colab": {
          "base_uri": "https://localhost:8080/"
        },
        "id": "4OSlhGwqyvuR",
        "outputId": "940ce588-0b4e-4f17-f289-a305220ab467"
      },
      "outputs": [
        {
          "output_type": "stream",
          "name": "stdout",
          "text": [
            "Mounted at /content/drive\n",
            "Collecting fuzzywuzzy\n",
            "  Downloading fuzzywuzzy-0.18.0-py2.py3-none-any.whl (18 kB)\n",
            "Installing collected packages: fuzzywuzzy\n",
            "Successfully installed fuzzywuzzy-0.18.0\n",
            "Collecting python-Levenshtein\n",
            "  Downloading python_Levenshtein-0.21.1-py3-none-any.whl (9.4 kB)\n",
            "Collecting Levenshtein==0.21.1 (from python-Levenshtein)\n",
            "  Downloading Levenshtein-0.21.1-cp310-cp310-manylinux_2_17_x86_64.manylinux2014_x86_64.whl (172 kB)\n",
            "\u001b[2K     \u001b[90m━━━━━━━━━━━━━━━━━━━━━━━━━━━━━━━━━━━━━━━\u001b[0m \u001b[32m172.5/172.5 kB\u001b[0m \u001b[31m3.3 MB/s\u001b[0m eta \u001b[36m0:00:00\u001b[0m\n",
            "\u001b[?25hCollecting rapidfuzz<4.0.0,>=2.3.0 (from Levenshtein==0.21.1->python-Levenshtein)\n",
            "  Downloading rapidfuzz-3.1.2-cp310-cp310-manylinux_2_17_x86_64.manylinux2014_x86_64.whl (3.1 MB)\n",
            "\u001b[2K     \u001b[90m━━━━━━━━━━━━━━━━━━━━━━━━━━━━━━━━━━━━━━━━\u001b[0m \u001b[32m3.1/3.1 MB\u001b[0m \u001b[31m11.7 MB/s\u001b[0m eta \u001b[36m0:00:00\u001b[0m\n",
            "\u001b[?25hInstalling collected packages: rapidfuzz, Levenshtein, python-Levenshtein\n",
            "Successfully installed Levenshtein-0.21.1 python-Levenshtein-0.21.1 rapidfuzz-3.1.2\n"
          ]
        }
      ],
      "source": [
        "import os\n",
        "import numpy as np\n",
        "import pandas as pd\n",
        "import datetime\n",
        "from datetime import datetime\n",
        "from datetime import timedelta\n",
        "import re\n",
        "import matplotlib.pyplot as plt\n",
        "from dateutil.relativedelta import relativedelta #\n",
        "from functools import reduce\n",
        "\n",
        "from google.colab import drive\n",
        "drive.mount('/content/drive', force_remount = True)\n",
        "\n",
        "import gspread\n",
        "from google.colab import auth\n",
        "auth.authenticate_user() #\n",
        "\n",
        "from oauth2client.client import GoogleCredentials #\n",
        "#gc = gspread.authorize(GoogleCredentials.get_application_default()) #\n",
        "\n",
        "auth.authenticate_user()\n",
        "\n",
        "import gspread\n",
        "from google.auth import default\n",
        "creds, _ = default()\n",
        "\n",
        "gc = gspread.authorize(creds)\n",
        "\n",
        "from gspread_dataframe import set_with_dataframe\n",
        "\n",
        "!pip install fuzzywuzzy\n",
        "!pip install python-Levenshtein\n",
        "\n",
        "from fuzzywuzzy import fuzz\n",
        "from fuzzywuzzy import process\n",
        "\n",
        "def changeDateFormat(row):\n",
        "  return pd.to_datetime(row, errors='coerce').dt.date\n",
        "\n",
        "def changeDateTimeFormat(row):\n",
        "  return pd.to_datetime(row, errors='coerce')\n",
        "\n",
        "def cleanText(row):\n",
        "  return row.str.upper().str.strip()\n",
        "\n",
        "def getDump(mastermerge, dump_name,start_date, end_date):\n",
        "  start_date = pd.to_datetime(start_date).date()\n",
        "  end_date = pd.to_datetime(end_date).date()\n",
        "  file_path = \"/content/drive/MyDrive/Insights_Datalake/Datewise Dumps - Aug Onwards/\"\n",
        "  reg = re.compile(\".+\" + dump_name+\".csv\")\n",
        "\n",
        "  for (root, dirs, files) in os.walk(file_path):\n",
        "      for file in files:\n",
        "        path = os.path.join(root, file)\n",
        "        date = str(path).split('/')[7:][0]\n",
        "        date = pd.to_datetime(date).date()\n",
        "\n",
        "        if bool(re.match(reg, path)) & (date >= start_date) & (date <= end_date):\n",
        "          temp = pd.read_csv(path,parse_dates=True)\n",
        "          temp['DumpDate'] = date\n",
        "          read_dump_name = str(path).split('/')[9:][0]\n",
        "          #print(read_dump_name + \" on Date:: \" + str(date) +  \" Dump of shape:: \" + str(temp.shape) + \" read from path:: \"+ path)\n",
        "          mastermerge = mastermerge.append(temp)\n",
        "\n",
        "  mastermerge[['DumpDate']] = mastermerge[['DumpDate']].apply(changeDateFormat)\n",
        "  return mastermerge"
      ]
    },
    {
      "cell_type": "code",
      "execution_count": null,
      "metadata": {
        "id": "11XD6YSdy5Rw"
      },
      "outputs": [],
      "source": [
        "daysDelta =0\n",
        "\n",
        "DumpDate =  pd.to_datetime((datetime.today() - timedelta(days = daysDelta)).date()).strftime('%d %B %Y')\n",
        "\n",
        "Last30DaysDate = (datetime.today() - timedelta(days = 30 + daysDelta)).date()\n",
        "Last60DaysDate = (datetime.today() - timedelta(days = 60 + daysDelta)).date()\n",
        "Last90DaysDate = (datetime.today() - timedelta(days = 90 + daysDelta)).date()\n",
        "Last7DaysDate = (datetime.today() - timedelta(days = 7 + daysDelta)).date()\n",
        "Last45DaysDate = (datetime.today() - timedelta(days = 45 + daysDelta)).date()\n",
        "MonthStartDate = datetime.today().date().replace(day=1)\n",
        "\n",
        "start_date = Last30DaysDate.strftime('%d %B %Y')\n",
        "\n",
        "file_path = \"/content/drive/MyDrive/Insights_Datalake/Datewise Dumps - Aug Onwards/\""
      ]
    },
    {
      "cell_type": "code",
      "execution_count": null,
      "metadata": {
        "id": "QwCB-a_L2lGj"
      },
      "outputs": [],
      "source": [
        "#get data from spreadsheetID and Range Name function\n",
        "def get_data(spreadSheetId, rangeName):\n",
        "    wb = gc.open_by_key(spreadSheetId)\n",
        "    ws = wb.worksheet(rangeName)\n",
        "    rows = ws.get_all_values()\n",
        "    return rows\n",
        "#get all data in a sheet as df and there 1st row things as the df labels.\n",
        "#If sheets don't have their labels in the first row than we have to do it manuaaly as per the data\n",
        "def get_data_df(spreadSheetId, rangeName):\n",
        "  l = get_data(spreadSheetId, rangeName)\n",
        "  ldf = pd.DataFrame.from_records(l[1:], columns = l[0])\n",
        "  return ldf"
      ]
    },
    {
      "cell_type": "markdown",
      "metadata": {
        "id": "zetnkCKi7xl7"
      },
      "source": [
        "#**Postal Code from LAT LONG**"
      ]
    },
    {
      "cell_type": "code",
      "execution_count": null,
      "metadata": {
        "id": "fUBIvz8F5ReR"
      },
      "outputs": [],
      "source": [
        "import requests\n",
        "\n",
        "def get_postal_code(latitude, longitude):\n",
        "    base_url = \"https://nominatim.openstreetmap.org/reverse\"\n",
        "\n",
        "    # Send a reverse geocoding request to the Nominatim API\n",
        "    response = requests.get(base_url, params={\"lat\": latitude, \"lon\": longitude, \"format\": \"json\", \"addressdetails\": 1})\n",
        "    data = response.json()\n",
        "\n",
        "    if response.status_code == 200:\n",
        "        address_details = data.get(\"address\")\n",
        "        if address_details:\n",
        "            postal_code = address_details.get(\"postcode\")\n",
        "            if postal_code:\n",
        "                return postal_code\n",
        "\n",
        "    return None\n",
        "\n",
        "# Example usage\n",
        "latitude = 12.9798963  # Example latitude value\n",
        "longitude = 77.7598883  # Example longitude value\n",
        "postal_code = get_postal_code(latitude, longitude)\n",
        "\n"
      ]
    },
    {
      "cell_type": "code",
      "execution_count": null,
      "metadata": {
        "id": "x-oOET0O8Ef6"
      },
      "outputs": [],
      "source": [
        "key = \"1oV33TLAs-QBRpAViLEq8nl2yp-t7wEiHQTl900WSG4M\" #change sheet name\n",
        "range = \"Sheet2\" #change subsheet name\n",
        "wb = gc.open_by_key(key)\n",
        "ws = wb.worksheet(range)\n",
        "blr = get_data_df(key, range)\n",
        "\n",
        "# blr=blr.iloc[0:50,:]"
      ]
    },
    {
      "cell_type": "code",
      "execution_count": null,
      "metadata": {
        "colab": {
          "base_uri": "https://localhost:8080/"
        },
        "id": "F_cCNwgduj2h",
        "outputId": "f46d7772-27d3-4222-f595-a1c9b34bce32"
      },
      "outputs": [
        {
          "output_type": "execute_result",
          "data": {
            "text/plain": [
              "(13, 5)"
            ]
          },
          "metadata": {},
          "execution_count": 8
        }
      ],
      "source": [
        "# blr = blr[blr['pincode (need insights help with the rest)']=='']\n",
        "blr.shape"
      ]
    },
    {
      "cell_type": "code",
      "execution_count": null,
      "metadata": {
        "id": "AmMPFXiO8Rdq"
      },
      "outputs": [],
      "source": [
        "# blr['Postal Code'] = blr[['Latitude','Longitude']].apply(lambda x:get_postal_code(x['Latitude'],x['Longitude']),axis=1)"
      ]
    },
    {
      "cell_type": "code",
      "execution_count": null,
      "metadata": {
        "id": "SY3oI4xJ-l9e"
      },
      "outputs": [],
      "source": [
        "from joblib import Parallel, delayed"
      ]
    },
    {
      "cell_type": "code",
      "execution_count": null,
      "metadata": {
        "colab": {
          "base_uri": "https://localhost:8080/"
        },
        "id": "c9Lb6YTs9VpH",
        "outputId": "825ddecd-7834-448b-e884-1c9c48fde7e5"
      },
      "outputs": [
        {
          "output_type": "stream",
          "name": "stderr",
          "text": [
            "[Parallel(n_jobs=-1)]: Using backend MultiprocessingBackend with 2 concurrent workers.\n",
            "[Parallel(n_jobs=-1)]: Done  13 out of  13 | elapsed:    6.7s finished\n"
          ]
        }
      ],
      "source": [
        "blr['Postal Code'] = Parallel(n_jobs=-1,verbose=True, backend='multiprocessing')(delayed(get_postal_code)(x,y) for x,y in zip(blr['Latitude'],blr['Longitude']))"
      ]
    },
    {
      "cell_type": "code",
      "execution_count": null,
      "metadata": {
        "id": "G_ZhSL9X9mCs"
      },
      "outputs": [],
      "source": [
        "spreadSheetId = \"1v57o7fms_64TKNASfMUO6nXC9dwZcMDWpY7KD3LtYQQ\"\n",
        "rangeName = \"Sheet11\"\n",
        "wb = gc.open_by_key(spreadSheetId)\n",
        "ws = wb.worksheet(rangeName)\n",
        "\n",
        "ws.clear()\n",
        "set_with_dataframe(ws,blr)"
      ]
    },
    {
      "cell_type": "code",
      "execution_count": null,
      "metadata": {
        "id": "eL53PGb6-1WM",
        "colab": {
          "base_uri": "https://localhost:8080/",
          "height": 457
        },
        "outputId": "74943245-a6ac-4919-9890-9c63ada9a2a0"
      },
      "outputs": [
        {
          "output_type": "execute_result",
          "data": {
            "text/plain": [
              "                                              Society      City  \\\n",
              "0                                               33 LE  Vadodara   \n",
              "1                                        Aarcon Abhay  Vadodara   \n",
              "2                                    Aatmiya Heritage  Vadodara   \n",
              "3                                       Aditya Elanza  Vadodara   \n",
              "4                                        Aditya Villa  Vadodara   \n",
              "5                                        Anand Garden  Vadodara   \n",
              "6                                  Antica Green Woods  Vadodara   \n",
              "7               ASOPALAV ONE WEST MEMBERS ASSOCIATION  Vadodara   \n",
              "8                                     Atlantis Villas  Vadodara   \n",
              "9                                        Auro Heights  Vadodara   \n",
              "10                                  Avalon Greenwoods  Vadodara   \n",
              "11  BARSANA GREENS CO OPERATIVE HOUSING SERVICE SO...  Vadodara   \n",
              "12                                        City Corner  Vadodara   \n",
              "\n",
              "                                              Address    Latitude   Longitude  \\\n",
              "0                                     33 LE, Vadodara  22.2917025   73.121618   \n",
              "1                              Aarcon Abhay, Vadodara   22.326867   73.198066   \n",
              "2                          Aatmiya Heritage, Vadodara  22.2269157  73.1823948   \n",
              "3                             Aditya Elanza, Vadodara  22.2712069  73.1344812   \n",
              "4                              Aditya Villa, Vadodara  22.2853812  73.2445712   \n",
              "5                              Anand Garden, Vadodara  22.3233181  73.1287922   \n",
              "6                        Antica Green Woods, Vadodara  22.3293548  73.1142046   \n",
              "7     ASOPALAV ONE WEST MEMBERS ASSOCIATION, Vadodara  22.3071588  73.1812187   \n",
              "8                           Atlantis Villas, Vadodara  22.3557795  73.1726558   \n",
              "9                              Auro Heights, Vadodara  22.2594682  73.1724348   \n",
              "10                        Avalon Greenwoods, Vadodara  22.3138089  73.1182921   \n",
              "11  BARSANA GREENS CO OPERATIVE HOUSING SERVICE SO...  22.3413405  73.2823792   \n",
              "12                              City Corner, Vadodara  22.2834145  73.1326125   \n",
              "\n",
              "   Postal Code  \n",
              "0       390001  \n",
              "1       390001  \n",
              "2       390001  \n",
              "3       390001  \n",
              "4       390001  \n",
              "5       390001  \n",
              "6       390001  \n",
              "7       390005  \n",
              "8       390001  \n",
              "9       390001  \n",
              "10      390001  \n",
              "11        None  \n",
              "12      390001  "
            ],
            "text/html": [
              "\n",
              "\n",
              "  <div id=\"df-c2b13516-1ecd-4672-b145-51f4356a62b8\">\n",
              "    <div class=\"colab-df-container\">\n",
              "      <div>\n",
              "<style scoped>\n",
              "    .dataframe tbody tr th:only-of-type {\n",
              "        vertical-align: middle;\n",
              "    }\n",
              "\n",
              "    .dataframe tbody tr th {\n",
              "        vertical-align: top;\n",
              "    }\n",
              "\n",
              "    .dataframe thead th {\n",
              "        text-align: right;\n",
              "    }\n",
              "</style>\n",
              "<table border=\"1\" class=\"dataframe\">\n",
              "  <thead>\n",
              "    <tr style=\"text-align: right;\">\n",
              "      <th></th>\n",
              "      <th>Society</th>\n",
              "      <th>City</th>\n",
              "      <th>Address</th>\n",
              "      <th>Latitude</th>\n",
              "      <th>Longitude</th>\n",
              "      <th>Postal Code</th>\n",
              "    </tr>\n",
              "  </thead>\n",
              "  <tbody>\n",
              "    <tr>\n",
              "      <th>0</th>\n",
              "      <td>33 LE</td>\n",
              "      <td>Vadodara</td>\n",
              "      <td>33 LE, Vadodara</td>\n",
              "      <td>22.2917025</td>\n",
              "      <td>73.121618</td>\n",
              "      <td>390001</td>\n",
              "    </tr>\n",
              "    <tr>\n",
              "      <th>1</th>\n",
              "      <td>Aarcon Abhay</td>\n",
              "      <td>Vadodara</td>\n",
              "      <td>Aarcon Abhay, Vadodara</td>\n",
              "      <td>22.326867</td>\n",
              "      <td>73.198066</td>\n",
              "      <td>390001</td>\n",
              "    </tr>\n",
              "    <tr>\n",
              "      <th>2</th>\n",
              "      <td>Aatmiya Heritage</td>\n",
              "      <td>Vadodara</td>\n",
              "      <td>Aatmiya Heritage, Vadodara</td>\n",
              "      <td>22.2269157</td>\n",
              "      <td>73.1823948</td>\n",
              "      <td>390001</td>\n",
              "    </tr>\n",
              "    <tr>\n",
              "      <th>3</th>\n",
              "      <td>Aditya Elanza</td>\n",
              "      <td>Vadodara</td>\n",
              "      <td>Aditya Elanza, Vadodara</td>\n",
              "      <td>22.2712069</td>\n",
              "      <td>73.1344812</td>\n",
              "      <td>390001</td>\n",
              "    </tr>\n",
              "    <tr>\n",
              "      <th>4</th>\n",
              "      <td>Aditya Villa</td>\n",
              "      <td>Vadodara</td>\n",
              "      <td>Aditya Villa, Vadodara</td>\n",
              "      <td>22.2853812</td>\n",
              "      <td>73.2445712</td>\n",
              "      <td>390001</td>\n",
              "    </tr>\n",
              "    <tr>\n",
              "      <th>5</th>\n",
              "      <td>Anand Garden</td>\n",
              "      <td>Vadodara</td>\n",
              "      <td>Anand Garden, Vadodara</td>\n",
              "      <td>22.3233181</td>\n",
              "      <td>73.1287922</td>\n",
              "      <td>390001</td>\n",
              "    </tr>\n",
              "    <tr>\n",
              "      <th>6</th>\n",
              "      <td>Antica Green Woods</td>\n",
              "      <td>Vadodara</td>\n",
              "      <td>Antica Green Woods, Vadodara</td>\n",
              "      <td>22.3293548</td>\n",
              "      <td>73.1142046</td>\n",
              "      <td>390001</td>\n",
              "    </tr>\n",
              "    <tr>\n",
              "      <th>7</th>\n",
              "      <td>ASOPALAV ONE WEST MEMBERS ASSOCIATION</td>\n",
              "      <td>Vadodara</td>\n",
              "      <td>ASOPALAV ONE WEST MEMBERS ASSOCIATION, Vadodara</td>\n",
              "      <td>22.3071588</td>\n",
              "      <td>73.1812187</td>\n",
              "      <td>390005</td>\n",
              "    </tr>\n",
              "    <tr>\n",
              "      <th>8</th>\n",
              "      <td>Atlantis Villas</td>\n",
              "      <td>Vadodara</td>\n",
              "      <td>Atlantis Villas, Vadodara</td>\n",
              "      <td>22.3557795</td>\n",
              "      <td>73.1726558</td>\n",
              "      <td>390001</td>\n",
              "    </tr>\n",
              "    <tr>\n",
              "      <th>9</th>\n",
              "      <td>Auro Heights</td>\n",
              "      <td>Vadodara</td>\n",
              "      <td>Auro Heights, Vadodara</td>\n",
              "      <td>22.2594682</td>\n",
              "      <td>73.1724348</td>\n",
              "      <td>390001</td>\n",
              "    </tr>\n",
              "    <tr>\n",
              "      <th>10</th>\n",
              "      <td>Avalon Greenwoods</td>\n",
              "      <td>Vadodara</td>\n",
              "      <td>Avalon Greenwoods, Vadodara</td>\n",
              "      <td>22.3138089</td>\n",
              "      <td>73.1182921</td>\n",
              "      <td>390001</td>\n",
              "    </tr>\n",
              "    <tr>\n",
              "      <th>11</th>\n",
              "      <td>BARSANA GREENS CO OPERATIVE HOUSING SERVICE SO...</td>\n",
              "      <td>Vadodara</td>\n",
              "      <td>BARSANA GREENS CO OPERATIVE HOUSING SERVICE SO...</td>\n",
              "      <td>22.3413405</td>\n",
              "      <td>73.2823792</td>\n",
              "      <td>None</td>\n",
              "    </tr>\n",
              "    <tr>\n",
              "      <th>12</th>\n",
              "      <td>City Corner</td>\n",
              "      <td>Vadodara</td>\n",
              "      <td>City Corner, Vadodara</td>\n",
              "      <td>22.2834145</td>\n",
              "      <td>73.1326125</td>\n",
              "      <td>390001</td>\n",
              "    </tr>\n",
              "  </tbody>\n",
              "</table>\n",
              "</div>\n",
              "      <button class=\"colab-df-convert\" onclick=\"convertToInteractive('df-c2b13516-1ecd-4672-b145-51f4356a62b8')\"\n",
              "              title=\"Convert this dataframe to an interactive table.\"\n",
              "              style=\"display:none;\">\n",
              "\n",
              "  <svg xmlns=\"http://www.w3.org/2000/svg\" height=\"24px\"viewBox=\"0 0 24 24\"\n",
              "       width=\"24px\">\n",
              "    <path d=\"M0 0h24v24H0V0z\" fill=\"none\"/>\n",
              "    <path d=\"M18.56 5.44l.94 2.06.94-2.06 2.06-.94-2.06-.94-.94-2.06-.94 2.06-2.06.94zm-11 1L8.5 8.5l.94-2.06 2.06-.94-2.06-.94L8.5 2.5l-.94 2.06-2.06.94zm10 10l.94 2.06.94-2.06 2.06-.94-2.06-.94-.94-2.06-.94 2.06-2.06.94z\"/><path d=\"M17.41 7.96l-1.37-1.37c-.4-.4-.92-.59-1.43-.59-.52 0-1.04.2-1.43.59L10.3 9.45l-7.72 7.72c-.78.78-.78 2.05 0 2.83L4 21.41c.39.39.9.59 1.41.59.51 0 1.02-.2 1.41-.59l7.78-7.78 2.81-2.81c.8-.78.8-2.07 0-2.86zM5.41 20L4 18.59l7.72-7.72 1.47 1.35L5.41 20z\"/>\n",
              "  </svg>\n",
              "      </button>\n",
              "\n",
              "\n",
              "\n",
              "    <div id=\"df-40bef552-27c9-4030-920a-f10837eadf03\">\n",
              "      <button class=\"colab-df-quickchart\" onclick=\"quickchart('df-40bef552-27c9-4030-920a-f10837eadf03')\"\n",
              "              title=\"Suggest charts.\"\n",
              "              style=\"display:none;\">\n",
              "\n",
              "<svg xmlns=\"http://www.w3.org/2000/svg\" height=\"24px\"viewBox=\"0 0 24 24\"\n",
              "     width=\"24px\">\n",
              "    <g>\n",
              "        <path d=\"M19 3H5c-1.1 0-2 .9-2 2v14c0 1.1.9 2 2 2h14c1.1 0 2-.9 2-2V5c0-1.1-.9-2-2-2zM9 17H7v-7h2v7zm4 0h-2V7h2v10zm4 0h-2v-4h2v4z\"/>\n",
              "    </g>\n",
              "</svg>\n",
              "      </button>\n",
              "    </div>\n",
              "\n",
              "<style>\n",
              "  .colab-df-quickchart {\n",
              "    background-color: #E8F0FE;\n",
              "    border: none;\n",
              "    border-radius: 50%;\n",
              "    cursor: pointer;\n",
              "    display: none;\n",
              "    fill: #1967D2;\n",
              "    height: 32px;\n",
              "    padding: 0 0 0 0;\n",
              "    width: 32px;\n",
              "  }\n",
              "\n",
              "  .colab-df-quickchart:hover {\n",
              "    background-color: #E2EBFA;\n",
              "    box-shadow: 0px 1px 2px rgba(60, 64, 67, 0.3), 0px 1px 3px 1px rgba(60, 64, 67, 0.15);\n",
              "    fill: #174EA6;\n",
              "  }\n",
              "\n",
              "  [theme=dark] .colab-df-quickchart {\n",
              "    background-color: #3B4455;\n",
              "    fill: #D2E3FC;\n",
              "  }\n",
              "\n",
              "  [theme=dark] .colab-df-quickchart:hover {\n",
              "    background-color: #434B5C;\n",
              "    box-shadow: 0px 1px 3px 1px rgba(0, 0, 0, 0.15);\n",
              "    filter: drop-shadow(0px 1px 2px rgba(0, 0, 0, 0.3));\n",
              "    fill: #FFFFFF;\n",
              "  }\n",
              "</style>\n",
              "\n",
              "    <script>\n",
              "      async function quickchart(key) {\n",
              "        const containerElement = document.querySelector('#' + key);\n",
              "        const charts = await google.colab.kernel.invokeFunction(\n",
              "            'suggestCharts', [key], {});\n",
              "      }\n",
              "    </script>\n",
              "\n",
              "      <script>\n",
              "\n",
              "function displayQuickchartButton(domScope) {\n",
              "  let quickchartButtonEl =\n",
              "    domScope.querySelector('#df-40bef552-27c9-4030-920a-f10837eadf03 button.colab-df-quickchart');\n",
              "  quickchartButtonEl.style.display =\n",
              "    google.colab.kernel.accessAllowed ? 'block' : 'none';\n",
              "}\n",
              "\n",
              "        displayQuickchartButton(document);\n",
              "      </script>\n",
              "      <style>\n",
              "    .colab-df-container {\n",
              "      display:flex;\n",
              "      flex-wrap:wrap;\n",
              "      gap: 12px;\n",
              "    }\n",
              "\n",
              "    .colab-df-convert {\n",
              "      background-color: #E8F0FE;\n",
              "      border: none;\n",
              "      border-radius: 50%;\n",
              "      cursor: pointer;\n",
              "      display: none;\n",
              "      fill: #1967D2;\n",
              "      height: 32px;\n",
              "      padding: 0 0 0 0;\n",
              "      width: 32px;\n",
              "    }\n",
              "\n",
              "    .colab-df-convert:hover {\n",
              "      background-color: #E2EBFA;\n",
              "      box-shadow: 0px 1px 2px rgba(60, 64, 67, 0.3), 0px 1px 3px 1px rgba(60, 64, 67, 0.15);\n",
              "      fill: #174EA6;\n",
              "    }\n",
              "\n",
              "    [theme=dark] .colab-df-convert {\n",
              "      background-color: #3B4455;\n",
              "      fill: #D2E3FC;\n",
              "    }\n",
              "\n",
              "    [theme=dark] .colab-df-convert:hover {\n",
              "      background-color: #434B5C;\n",
              "      box-shadow: 0px 1px 3px 1px rgba(0, 0, 0, 0.15);\n",
              "      filter: drop-shadow(0px 1px 2px rgba(0, 0, 0, 0.3));\n",
              "      fill: #FFFFFF;\n",
              "    }\n",
              "  </style>\n",
              "\n",
              "      <script>\n",
              "        const buttonEl =\n",
              "          document.querySelector('#df-c2b13516-1ecd-4672-b145-51f4356a62b8 button.colab-df-convert');\n",
              "        buttonEl.style.display =\n",
              "          google.colab.kernel.accessAllowed ? 'block' : 'none';\n",
              "\n",
              "        async function convertToInteractive(key) {\n",
              "          const element = document.querySelector('#df-c2b13516-1ecd-4672-b145-51f4356a62b8');\n",
              "          const dataTable =\n",
              "            await google.colab.kernel.invokeFunction('convertToInteractive',\n",
              "                                                     [key], {});\n",
              "          if (!dataTable) return;\n",
              "\n",
              "          const docLinkHtml = 'Like what you see? Visit the ' +\n",
              "            '<a target=\"_blank\" href=https://colab.research.google.com/notebooks/data_table.ipynb>data table notebook</a>'\n",
              "            + ' to learn more about interactive tables.';\n",
              "          element.innerHTML = '';\n",
              "          dataTable['output_type'] = 'display_data';\n",
              "          await google.colab.output.renderOutput(dataTable, element);\n",
              "          const docLink = document.createElement('div');\n",
              "          docLink.innerHTML = docLinkHtml;\n",
              "          element.appendChild(docLink);\n",
              "        }\n",
              "      </script>\n",
              "    </div>\n",
              "  </div>\n"
            ]
          },
          "metadata": {},
          "execution_count": 13
        }
      ],
      "source": [
        "blr"
      ]
    },
    {
      "cell_type": "code",
      "execution_count": null,
      "metadata": {
        "id": "75tNRWPbEwSl"
      },
      "outputs": [],
      "source": []
    }
  ],
  "metadata": {
    "colab": {
      "collapsed_sections": [
        "9yo6GeB87vVB",
        "LDlkzcaVYrbi"
      ],
      "provenance": [],
      "include_colab_link": true
    },
    "kernelspec": {
      "display_name": "Python 3",
      "name": "python3"
    },
    "language_info": {
      "name": "python"
    }
  },
  "nbformat": 4,
  "nbformat_minor": 0
}