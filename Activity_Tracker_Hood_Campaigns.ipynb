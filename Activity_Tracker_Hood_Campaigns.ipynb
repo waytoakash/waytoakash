{
  "cells": [
    {
      "cell_type": "markdown",
      "metadata": {
        "id": "view-in-github",
        "colab_type": "text"
      },
      "source": [
        "<a href=\"https://colab.research.google.com/github/waytoakash/waytoakash/blob/main/Activity_Tracker_Hood_Campaigns.ipynb\" target=\"_parent\"><img src=\"https://colab.research.google.com/assets/colab-badge.svg\" alt=\"Open In Colab\"/></a>"
      ]
    },
    {
      "cell_type": "markdown",
      "metadata": {
        "id": "hapHgUDYq3sG"
      },
      "source": [
        "# Pre_run"
      ]
    },
    {
      "cell_type": "code",
      "execution_count": null,
      "metadata": {
        "colab": {
          "base_uri": "https://localhost:8080/"
        },
        "id": "kfyLnEB-MF6j",
        "outputId": "1b716b1c-75bb-4e66-f8fb-27c478fb2974"
      },
      "outputs": [
        {
          "output_type": "stream",
          "name": "stdout",
          "text": [
            "Mounted at /content/drive\n"
          ]
        }
      ],
      "source": [
        "import os\n",
        "import numpy as np\n",
        "import pandas as pd\n",
        "import datetime\n",
        "from datetime import datetime\n",
        "from datetime import timedelta\n",
        "import re\n",
        "from dateutil.relativedelta import relativedelta #\n",
        "from functools import reduce\n",
        "from google.colab import drive\n",
        "drive.mount('/content/drive', force_remount = True)\n",
        "import gspread\n",
        "from google.colab import auth\n",
        "auth.authenticate_user()\n",
        "from oauth2client.client import GoogleCredentials #\n",
        "import gspread\n",
        "from google.auth import default\n",
        "creds, _ = default()\n",
        "gc = gspread.authorize(creds)\n",
        "from gspread_dataframe import set_with_dataframe\n",
        "\n",
        "def changeDateFormat(row):\n",
        "  return pd.to_datetime(row, errors='coerce').dt.date\n",
        "\n",
        "def changeDateTimeFormat(row):\n",
        "  return pd.to_datetime(row, errors='coerce')\n",
        "\n",
        "def cleanText(row):\n",
        "  return row.str.upper().str.strip()\n",
        "\n",
        "def get_data(spreadSheetId, rangeName):\n",
        "    wb = gc.open_by_key(spreadSheetId)\n",
        "    ws = wb.worksheet(rangeName)\n",
        "    rows = ws.get_all_values()\n",
        "    return rows\n",
        "def get_data_df(spreadSheetId, rangeName):\n",
        "  l = get_data(spreadSheetId, rangeName)\n",
        "  ldf = pd.DataFrame.from_records(l[1:], columns = l[0])\n",
        "  return ldf\n",
        "\n",
        "def get_data_df_2(spreadSheetId, rangeName):\n",
        "  l = get_data(spreadSheetId, rangeName)\n",
        "  ldf = pd.DataFrame.from_records(l[2:], columns = l[1])\n",
        "  return ldf"
      ]
    },
    {
      "cell_type": "markdown",
      "metadata": {
        "id": "xqEvf1AndXl5"
      },
      "source": [
        "#Paid Site Tracker"
      ]
    },
    {
      "cell_type": "code",
      "execution_count": null,
      "metadata": {
        "id": "zCuvX5lzdWPp"
      },
      "outputs": [],
      "source": [
        "                                                                                                                                                                                                                                                                                                #l = get_data(\"1o6PgMcZRQlTbreqVkvyp7Qj_NAI7Hihpn0qpLGBzmMM\", \"Form Responses\")\n",
        "#df = pd.DataFrame.from_records(l[2:], columns = l[1])\n",
        "#df.drop(columns=['Finance Comments','Deposit Date', 'Bank','Check'],inplace=True)\n",
        "#df=df[df['Confirmation']=='Received']\n",
        "##\n",
        "#spreadSheetId=\"1cB5-g9ejMZAACuLY537dNCPtr4ndkzoAeyYn1dmzuEc\"\n",
        "#rangeName=\"base data\"\n",
        "#wb = gc.open_by_key(spreadSheetId)\n",
        "#ws = wb.worksheet(rangeName)\n",
        "#wb.values_clear(\"base data!A:BK\")\n",
        "#set_with_dataframe(ws, df,row=1,col=1)"
      ]
    },
    {
      "cell_type": "markdown",
      "metadata": {
        "id": "6RDOpTl4rDpI"
      },
      "source": [
        "# Code 1(Hood Revenue Form- Finance (Responses) Till 30th Sep 2024)\n"
      ]
    },
    {
      "cell_type": "code",
      "execution_count": null,
      "metadata": {
        "id": "MIPl9xoqrDRs"
      },
      "outputs": [],
      "source": [
        "#l = get_data(\"1o6PgMcZRQlTbreqVkvyp7Qj_NAI7Hihpn0qpLGBzmMM\", \"Form Responses\")\n",
        "l = get_data(\"1UFXWeAWt017XAtEzl0EKxd-qjC4T6IeJYdzWWxLLOxo\", \"Form Responses\")\n",
        "df = pd.DataFrame.from_records(l[2:], columns = l[1])\n",
        "df.drop(columns=['Deposit Date', 'Bank','Check'],inplace=True)\n",
        "#\n",
        "spreadSheetId=\"1hdB-7j00qR7VmKjDnEGrtkWr1YQIvpdHRRByoLT-D98\"\n",
        "rangeName=\"Sheet1\"\n",
        "wb = gc.open_by_key(spreadSheetId)\n",
        "ws = wb.worksheet(rangeName)\n",
        "wb.values_clear(\"Sheet1!A:BL\")\n",
        "set_with_dataframe(ws, df,row=1,col=1)"
      ]
    },
    {
      "cell_type": "markdown",
      "metadata": {
        "id": "4VRlHZeHq75v"
      },
      "source": [
        "#Code 2: Activity Tracker"
      ]
    },
    {
      "cell_type": "code",
      "execution_count": null,
      "metadata": {
        "id": "wv8FUgnQMzkv"
      },
      "outputs": [],
      "source": [
        "#key = \"14NMpc9Iv4h2PqKqnJHpYQ4fzeLml-LZPmL33YXv9R64\"\n",
        "#rangename= \"Sheet1\"\n",
        "#wb = gc.open_by_key(key)\n",
        "#ws = wb.worksheet(rangename)\n",
        "#df = get_data_df(key, rangename)\n",
        "#df.rename(columns={'Activity ':'Activity','Date ':'Date'},inplace=True)"
      ]
    },
    {
      "cell_type": "code",
      "execution_count": null,
      "metadata": {
        "id": "aj4fCy51hzeU"
      },
      "outputs": [],
      "source": [
        "#df['Activity'] = df['Activity'].str.replace(',', '/')\n",
        "#df['Num_Elements'] = df['Activity'].str.split('/').apply(lambda x: len(x))\n",
        "#df_split = df['Activity'].str.split('/')\n",
        "#df_result = df.assign(Activity=df_split).explode('Activity').reset_index(drop=True)"
      ]
    },
    {
      "cell_type": "code",
      "execution_count": null,
      "metadata": {
        "id": "nPkVDZ-sfr05"
      },
      "outputs": [],
      "source": [
        "#df_result['Base Amount'] = pd.to_numeric(df_result['Base Amount'].str.replace(',', ''), errors='coerce')\n",
        "#df_result['amt per activity'] = df_result['Base Amount'] / df_result['Num_Elements']\n",
        "#df_result['Date'] = pd.to_datetime(df_result['Date'], dayfirst=True)"
      ]
    },
    {
      "cell_type": "code",
      "execution_count": null,
      "metadata": {
        "id": "f1xyy50DkXkO"
      },
      "outputs": [],
      "source": [
        "#final=df_result[['Society ID','Society Name','Place','Date','Activity','amt per activity','Bank Name', 'Account Number','UTR','Brand Name']]\n",
        "#final[['Activity', 'Society Name']] = final[['Activity', 'Society Name']].applymap(lambda x: x.upper() if isinstance(x, str) else x)\n",
        "#final['Activity'] = final['Activity'].str.replace('[^A-Za-z0-9\\s]', '', regex=True).str.strip()"
      ]
    },
    {
      "cell_type": "code",
      "execution_count": null,
      "metadata": {
        "id": "uxpmrd6im5oe"
      },
      "outputs": [],
      "source": [
        "#final_rmp=final[['Society ID', 'Society Name', 'Place', 'Date',\n",
        "#       'amt per activity', 'Activity','Bank Name','Account Number','UTR','Brand Name']]"
      ]
    },
    {
      "cell_type": "code",
      "execution_count": null,
      "metadata": {
        "id": "1skHdlavXo4u"
      },
      "outputs": [],
      "source": [
        "#def clean_account_number(account_number):\n",
        "#    # Remove non-numeric characters\n",
        "#    cleaned_number = re.sub(r'\\D', '', str(account_number))\n",
        "#    return cleaned_number\n",
        "#final_rmp['Account Number'] = final_rmp['Account Number'].apply(clean_account_number)"
      ]
    },
    {
      "cell_type": "code",
      "execution_count": null,
      "metadata": {
        "id": "iHrpIybhbR3i"
      },
      "outputs": [],
      "source": [
        "#key = \"1iKgiRR-lOQ-zM6v6bh_1P3vkIujVCeBzVVr_nHuoDMU\"\n",
        "#rangename= \"Society Master\"\n",
        "#wb = gc.open_by_key(key)\n",
        "#ws = wb.worksheet(rangename)\n",
        "#sm = get_data_df(key, rangename)\n",
        "#\n",
        "#sm['VMSOnbDate'] = pd.to_datetime(sm['VMSOnbDate'], errors='coerce')\n",
        "#sm['ERPOnbDate'] = pd.to_datetime(sm['ERPOnbDate'], errors='coerce')\n",
        "#\n",
        "#\n",
        "#sm['MG Acquires Site Month'] = sm[['VMSOnbDate', 'ERPOnbDate']].min(axis=1)\n",
        "#sm['MG Acquires Site Month'] = sm['MG Acquires Site Month'].dt.strftime(\"%b'%y\")\n",
        "#sm=sm[['Kibana ID','KAM Usage','MG Acquires Site Month']]\n",
        "#sm.rename(columns={'Kibana ID':'Society ID','KAM Usage':'BAM'},inplace=True)"
      ]
    },
    {
      "cell_type": "code",
      "execution_count": null,
      "metadata": {
        "id": "cbS-Vzn77oaH"
      },
      "outputs": [],
      "source": [
        "#final_rmp['amt per activity'] = pd.to_numeric(final_rmp['amt per activity'])\n",
        "#final_rmp['Date'] = pd.to_datetime(final_rmp['Date'], dayfirst=True, format='%Y-%m-%d')\n",
        "#final_rmp['Place'] = final_rmp['Place'].str.upper().str.strip()\n",
        "#\n",
        "#latest_dates = final_rmp.groupby(['Society ID', 'Activity'])['Date'].max().reset_index()\n",
        "#latest_dates.rename(columns={'Date': 'Latest_Activity_Date'}, inplace=True)\n",
        "#\n",
        "#final_merged = pd.merge(final_rmp, latest_dates, on=['Society ID', 'Activity'], how='inner')\n",
        "#final_merged['Sum_Amt_Last_3_Months'] = final_merged.apply(lambda row: final_rmp[(final_rmp['Society ID'] == row['Society ID']) &\n",
        "#                                                                               (final_rmp['Activity'] == row['Activity']) &\n",
        "#                                                                               (final_rmp['Date'].between(row['Latest_Activity_Date'] - pd.DateOffset(months=3), row['Date']))]['amt per activity'].sum(), axis=1)"
      ]
    },
    {
      "cell_type": "code",
      "execution_count": null,
      "metadata": {
        "id": "b9qVSeY7L0--"
      },
      "outputs": [],
      "source": [
        "#final_merged=pd.merge(final_merged,sm,on='Society ID',how='left')"
      ]
    },
    {
      "cell_type": "code",
      "execution_count": null,
      "metadata": {
        "id": "UVvanzVjV418"
      },
      "outputs": [],
      "source": [
        "#final_merged['BAM'] = final_merged['BAM'].replace(['', np.nan], '-')"
      ]
    },
    {
      "cell_type": "code",
      "execution_count": null,
      "metadata": {
        "id": "Z6vxRzsuTMyH"
      },
      "outputs": [],
      "source": [
        "#final_merged[['Bank Name', 'Account Number']] = final_merged[['Bank Name', 'Account Number']].replace(['', np.nan],'-')"
      ]
    },
    {
      "cell_type": "code",
      "execution_count": null,
      "metadata": {
        "id": "MttqiIw7oRnT"
      },
      "outputs": [],
      "source": [
        "##final_merged['Account Number'] = final_merged.apply(\n",
        "#    lambda row: f\"{row['Account Number']} (Last Account Used)\"\n",
        "#                if row['Date'] == row['Latest_Activity_Date']\n",
        "#                else row['Account Number'],\n",
        "#    axis=1\n",
        "#)"
      ]
    },
    {
      "cell_type": "code",
      "execution_count": null,
      "metadata": {
        "id": "7h74yGM5Hrk2"
      },
      "outputs": [],
      "source": [
        "#final_merged['Advanced monetization'] = final_merged.groupby('Society ID')['amt per activity'].transform('sum')"
      ]
    },
    {
      "cell_type": "code",
      "execution_count": null,
      "metadata": {
        "id": "s4lMhH04RMA6"
      },
      "outputs": [],
      "source": [
        "#key = \"1iKgiRR-lOQ-zM6v6bh_1P3vkIujVCeBzVVr_nHuoDMU\"\n",
        "#rangename= \"Society Master\"\n",
        "#wb = gc.open_by_key(key)\n",
        "#ws = wb.worksheet(rangename)\n",
        "#sm = get_data_df(key, rangename)\n",
        "#sm=sm[sm['Kibana ID'].isin(final_merged['Society ID'])]\n",
        "#vms_access=sm[['City','Kibana ID','KAM Usage','Sr.KAM Usage']]"
      ]
    },
    {
      "cell_type": "code",
      "execution_count": null,
      "metadata": {
        "id": "BxM15y2O7Zog"
      },
      "outputs": [],
      "source": [
        "#spreadSheetId=\"14NMpc9Iv4h2PqKqnJHpYQ4fzeLml-LZPmL33YXv9R64\"\n",
        "#rangeName=\"Dashboard\"\n",
        "#wb = gc.open_by_key(spreadSheetId)\n",
        "#ws = wb.worksheet(rangeName)\n",
        "#wb.values_clear(\"Dashboard\")\n",
        "#set_with_dataframe(ws, final_merged,row=1,col=1)\n",
        "#\n",
        "#'''rangeName=\"vms access\"\n",
        "#wb = gc.open_by_key(spreadSheetId)\n",
        "#ws = wb.worksheet(rangeName)\n",
        "#wb.values_clear(\"vms access\")\n",
        "#set_with_dataframe(ws, vms_access,row=10,col=10)'''"
      ]
    },
    {
      "cell_type": "code",
      "execution_count": null,
      "metadata": {
        "id": "vVMRsJLz-pSF"
      },
      "outputs": [],
      "source": [
        "#spreadsheet_id='14NMpc9Iv4h2PqKqnJHpYQ4fzeLml-LZPmL33YXv9R64'\n",
        "#sheet_name= 'vms access'\n",
        "#start_row=22\n",
        "#start_col=5\n",
        "#wb = gc.open_by_key(spreadsheet_id)\n",
        "#ws = wb.worksheet(sheet_name)\n",
        "#range_to_clear = f\"{sheet_name}!E{start_row}:H\"\n",
        "#wb.values_clear(range_to_clear)\n",
        "#set_with_dataframe(ws, vms_access, row=start_row, col=start_col)"
      ]
    },
    {
      "cell_type": "code",
      "execution_count": null,
      "metadata": {
        "id": "LPk3louIwjgE"
      },
      "outputs": [],
      "source": [
        "#key = \"1aVAu23rPNHyOEk2ioNXdbqyUKEFzcXedlY283cvDKvY\"\n",
        "#rangename= \"Society Master\"\n",
        "#wb = gc.open_by_key(key)\n",
        "#ws = wb.worksheet(rangename)\n",
        "#sm = get_data_df(key, rangename)\n",
        "#\n",
        "#columns_needed = [\"City\", \"Kibana ID\", \"Society Name\", \"Live Product\", \"Sold Flats (VMS)\", \"Closure Number (VMS)\", \"VMS Onb Date\", \"Open to Sales Status-VMS\", \"Gross RP HO+ve\", \"Gross RP as per Sales RP (Post Oct)\"]\n",
        "#\n",
        "#\n",
        "#sm2=sm[(sm[\"Live Product\"].isin(['VMS ONLY','BOTH VMS + ERP']))&(sm[\"VMS Onb Status\"]==\"ON-BOARDED\")]\n",
        "#print(sm2.shape)\n",
        "#\n",
        "#sm2 = sm2[columns_needed]\n",
        "#sm2.rename(columns={\"Gross RP as per Sales RP (Post Oct)\":\"Gross RP Without Offset(as per sales) post oct signing\"},inplace=True)\n",
        "#\n",
        "#spreadsheet_id='1IayjBkU-1jImsjT6GhNNvWVxLbvkbGIlGrtFhOAiKXE'\n",
        "#sheet_name= 'Rp wise categories'\n",
        "#start_row=1\n",
        "#start_col=1\n",
        "#wb = gc.open_by_key(spreadsheet_id)\n",
        "#ws = wb.worksheet(sheet_name)\n",
        "#range_to_clear = f\"{sheet_name}!A{start_row}:J\"\n",
        "#wb.values_clear(range_to_clear)\n",
        "#set_with_dataframe(ws, sm2, row=start_row, col=start_col)"
      ]
    },
    {
      "cell_type": "markdown",
      "metadata": {
        "id": "Ty-vA5Ao2skQ"
      },
      "source": [
        "'VMS Category','ERP Category',"
      ]
    },
    {
      "cell_type": "markdown",
      "metadata": {
        "id": "weH9GQAf1xxm"
      },
      "source": [
        "# Code 4:One-View Data for Monetisation Permission"
      ]
    },
    {
      "cell_type": "code",
      "execution_count": null,
      "metadata": {
        "id": "DcqUcNP41w50"
      },
      "outputs": [],
      "source": [
        "key = \"1iKgiRR-lOQ-zM6v6bh_1P3vkIujVCeBzVVr_nHuoDMU\"\n",
        "rangename= \"Society Master\"\n",
        "wb = gc.open_by_key(key)\n",
        "ws = wb.worksheet(rangename)\n",
        "sm = get_data_df(key, rangename)\n",
        "headers = ['City','Kibana ID','Original Closure Number','Society Name','Live Product','Society status','Sold Flats','KAM Usage','CT FSD','FSD Expert','VMS Onb Status','ERP Onb Status','Paid Site Tag','Society Category as per Projected Yearly Revenue']\n",
        "sm=sm[headers]"
      ]
    },
    {
      "cell_type": "code",
      "execution_count": null,
      "metadata": {
        "id": "95VQ9pdf6LyH"
      },
      "outputs": [],
      "source": [
        "key = \"1O6XP_LqxlymjASE-0mM2nxju4bT2avUTVwyeqnX_MFk\"\n",
        "rangename= \"LeadMaster\"\n",
        "wb = gc.open_by_key(key)\n",
        "ws = wb.worksheet(rangename)\n",
        "sales = get_data_df(key, rangename)\n",
        "sales=sales[['Original Closure Number','Society Type','Property Type']]\n",
        "\n",
        "\n",
        "key = \"1BBIaBIbkKuQfVYt8W8VwbRPiztg29HPuBHzW764rEwE\"\n",
        "rangename= \"LeadMaster\"\n",
        "wb = gc.open_by_key(key)\n",
        "ws = wb.worksheet(rangename)\n",
        "sales_rp = get_data_df(key, rangename)\n",
        "sales_rp=sales_rp[['Original Closure Number','Society Type','Property Type']]\n",
        "\n",
        "sales_collated=pd.concat([sales,sales_rp])\n",
        "\n",
        "sales_collated.drop_duplicates(keep='first',inplace=True)\n",
        "sales_collated.drop_duplicates('Original Closure Number',keep='last',inplace=True)"
      ]
    },
    {
      "cell_type": "code",
      "execution_count": null,
      "metadata": {
        "id": "K0BgdXCWDwMv"
      },
      "outputs": [],
      "source": [
        "daysDelta = 0\n",
        "DumpDate =  pd.to_datetime((datetime.today() - timedelta(days = daysDelta)).date()).strftime('%d %B %Y')\n",
        "file_path = \"/content/drive/MyDrive/Insights_Datalake/Datewise Dumps - Aug Onwards/\"+(datetime.today() - timedelta(days = daysDelta)).strftime(\"%b %Y\")+\"/\"\n",
        "\n",
        "dump_name = \"Society Creation Date - Insights Copy\"\n",
        "scd = pd.read_csv(file_path + DumpDate + \"/Sai/\"+ dump_name +\".csv\",parse_dates=True)\n",
        "scd.rename(columns={'id':'Kibana ID','latitude':'latitude','longitude':'longitude'},inplace=True)\n",
        "\n",
        "scd=scd[['Kibana ID','latitude','longitude']]\n",
        "scd.drop_duplicates(keep='last',inplace=True)"
      ]
    },
    {
      "cell_type": "code",
      "execution_count": null,
      "metadata": {
        "id": "8NRDFKrbQwYo"
      },
      "outputs": [],
      "source": [
        "key = \"19yiinTif5fF8O6LwXUI990MWR2sI5w3J0gIMYYBi_-Y\"\n",
        "rangename= \"Bank Details\"\n",
        "wb = gc.open_by_key(key)\n",
        "ws = wb.worksheet(rangename)\n",
        "bank_details = get_data_df(key, rangename)\n",
        "\n",
        "bank_details=bank_details[['bank_name','account_holder_name','ifsc_code','society_id','last_updated_on','account_number_raw']]\n",
        "\n",
        "bank_details.rename(columns={'bank_name':'Bank Name','account_holder_name':'Beneficiary Name','ifsc_code':'IFSC code','society_id':'Kibana ID','account_number_raw':'Account number'},inplace=True)\n",
        "bank_details['last_updated_on']=pd.to_datetime(bank_details['last_updated_on'])\n",
        "bank_details.sort_values('last_updated_on',ascending=False,inplace=True)\n",
        "bank_details.drop_duplicates('Kibana ID',keep='first',inplace=True)\n",
        "bank_details.drop('last_updated_on',axis=1,inplace=True)"
      ]
    },
    {
      "cell_type": "code",
      "execution_count": null,
      "metadata": {
        "id": "4gsW7UgfTbd0"
      },
      "outputs": [],
      "source": [
        "key = \"1q1IpX9dhL5B7y5xf3mNA4gqtO4QVqZmOg0JEDT_NnXs\"\n",
        "rangename= \"Base\"\n",
        "l = get_data(key, rangename)\n",
        "mrp = pd.DataFrame.from_records(l[4:], columns = l[3])\n",
        "\n",
        "mrp=mrp[['Kibana ID','Locality']]\n",
        "mrp=mrp[~mrp['Kibana ID'].isin(['','nan'])]\n",
        "mrp['Locality']=np.where(mrp['Locality']==\"\",\"Unavailable\",mrp['Locality'])\n"
      ]
    },
    {
      "cell_type": "code",
      "execution_count": null,
      "metadata": {
        "id": "05OLD8RVxrtF",
        "colab": {
          "base_uri": "https://localhost:8080/"
        },
        "outputId": "807ad358-c4c7-4f96-fc3f-b8eda0c760e8"
      },
      "outputs": [
        {
          "output_type": "execute_result",
          "data": {
            "text/plain": [
              "((17450, 2), (16629, 2))"
            ]
          },
          "metadata": {},
          "execution_count": 27
        }
      ],
      "source": [
        "#Address column addition:20/05/2024\n",
        "key = \"11r__z3nSWEeP0LUwqbBC_-JkxYKZ_F21NpCJKs8JP04\"\n",
        "rangename= \"Master\"\n",
        "wb = gc.open_by_key(key)\n",
        "ws = wb.worksheet(rangename)\n",
        "df = get_data_df(key, rangename)\n",
        "df=df[['Kibana ID','Address']]\n",
        "adres_df = df[df['Kibana ID']!= 'nan']\n",
        "\n",
        "df.shape,adres_df.shape"
      ]
    },
    {
      "cell_type": "code",
      "execution_count": null,
      "metadata": {
        "id": "Qv_sM7DncKUF"
      },
      "outputs": [],
      "source": [
        "key = \"1YmTPZYOv1iP6jwnL_kGEchHEv7TkhZIh0c5HBp63lR4\"\n",
        "rangename= \"Helper\"\n",
        "wb = gc.open_by_key(key)\n",
        "ws = wb.worksheet(rangename)\n",
        "pincode = get_data_df(key, rangename)\n",
        "\n",
        "pincode=pincode[pincode['Original Closure Number']!='']\n",
        "\n",
        "pincode=pincode[['Original Closure Number','pincode']]\n",
        "\n",
        "pincode.drop_duplicates('Original Closure Number',keep='first',inplace=True)"
      ]
    },
    {
      "cell_type": "code",
      "execution_count": null,
      "metadata": {
        "id": "wHqvAD0PVbj6"
      },
      "outputs": [],
      "source": [
        "key = \"1vVgJJdS5-qu9ga6Hag0WRuSSAUGI1WrWnWsgRRMir_g\"\n",
        "rangename= \"Helper\"\n",
        "wb = gc.open_by_key(key)\n",
        "ws = wb.worksheet(rangename)\n",
        "prm = get_data_df(key, rangename)\n",
        "\n",
        "prm=prm[prm['Original Closure Number']!='']\n",
        "\n",
        "prm=prm[['Original Closure Number','Premiumness']]\n",
        "\n",
        "prm.drop_duplicates('Original Closure Number',keep='first',inplace=True)"
      ]
    },
    {
      "cell_type": "code",
      "execution_count": null,
      "metadata": {
        "id": "-w03RdT4j_DO"
      },
      "outputs": [],
      "source": [
        "key = \"15g1hcKjApsjA0kO7rn8WUI7eZSgCYiWBLZbXa_5ThsM\"\n",
        "rangename= \"MASTER DATA_CITY TEAM\"\n",
        "wb = gc.open_by_key(key)\n",
        "ws = wb.worksheet(rangename)\n",
        "cit = get_data_df(key, rangename)\n",
        "\n",
        "cit=cit[cit['Kibana ID']!='nan']\n",
        "cit=cit.iloc[:, [1,10]]\n",
        "cit.columns.values[1] = 'Focus Type'"
      ]
    },
    {
      "cell_type": "code",
      "execution_count": null,
      "metadata": {
        "colab": {
          "base_uri": "https://localhost:8080/"
        },
        "id": "VUno_wCNX5Hx",
        "outputId": "de00189f-37b8-4694-e767-780b43fc866d"
      },
      "outputs": [
        {
          "output_type": "stream",
          "name": "stdout",
          "text": [
            "(19038, 16)\n",
            "(19038, 18)\n",
            "(19038, 22)\n",
            "(19038, 23)\n",
            "(19038, 24)\n",
            "(19038, 25)\n",
            "(19038, 26)\n",
            "(19038, 27)\n"
          ]
        }
      ],
      "source": [
        "final_data=pd.merge(sm,sales_collated,on='Original Closure Number',how='left')\n",
        "print(final_data.shape)\n",
        "\n",
        "final_data1=pd.merge(final_data,scd,on='Kibana ID',how='left')\n",
        "print(final_data1.shape)\n",
        "\n",
        "final_data2=pd.merge(final_data1,bank_details,on='Kibana ID',how='left')\n",
        "print(final_data2.shape)\n",
        "\n",
        "final_data3=pd.merge(final_data2,mrp,on='Kibana ID',how='left')\n",
        "print(final_data3.shape)\n",
        "\n",
        "final_data4=pd.merge(final_data3,pincode,on='Original Closure Number',how='left')\n",
        "print(final_data4.shape)\n",
        "\n",
        "final_data5=pd.merge(final_data4,adres_df,on='Kibana ID',how='left')\n",
        "print(final_data5.shape)\n",
        "\n",
        "final_data6=pd.merge(final_data5,cit,on='Kibana ID',how='left')\n",
        "print(final_data6.shape)\n",
        "\n",
        "final_data7=pd.merge(final_data6,prm,on='Original Closure Number',how='left')\n",
        "print(final_data7.shape)"
      ]
    },
    {
      "cell_type": "markdown",
      "metadata": {
        "id": "tNKrJFLK28ZF"
      },
      "source": []
    },
    {
      "cell_type": "code",
      "execution_count": null,
      "metadata": {
        "id": "QlYGev-U0MQ1"
      },
      "outputs": [],
      "source": [
        "final_ordered_data=final_data7[['Kibana ID','Society Name','City','Society status', 'Live Product','Sold Flats','Locality','Address','latitude','longitude','KAM Usage','CT FSD','FSD Expert','VMS Onb Status','ERP Onb Status','Society Type','Society Category as per Projected Yearly Revenue','Property Type','Paid Site Tag','Premiumness','Focus Type','Bank Name','Beneficiary Name','Account number','IFSC code']]"
      ]
    },
    {
      "cell_type": "code",
      "execution_count": null,
      "metadata": {
        "id": "7CNY16RVbabp"
      },
      "outputs": [],
      "source": [
        "spreadSheetId=\"19yiinTif5fF8O6LwXUI990MWR2sI5w3J0gIMYYBi_-Y\"\n",
        "rangeName=\"Final Data\"\n",
        "wb = gc.open_by_key(spreadSheetId)\n",
        "ws = wb.worksheet(rangeName)\n",
        "wb.values_clear(\"Final Data!A:X\")\n",
        "set_with_dataframe(ws, final_ordered_data,row=1,col=1)"
      ]
    },
    {
      "cell_type": "markdown",
      "metadata": {
        "id": "OZK47vW5gzIc"
      },
      "source": [
        "# Code 5:Employee Visual Visit Tracker"
      ]
    },
    {
      "cell_type": "code",
      "execution_count": null,
      "metadata": {
        "id": "TiRkGLvdkqem"
      },
      "outputs": [],
      "source": [
        "## Hold by anuja\n",
        "#key = \"1yc1Yysxi2Od2Bk5nfbEmmiuTyx1apFsaWyuwBcTDQKg\"\n",
        "#rangename= \"Dump\"\n",
        "#wb = gc.open_by_key(key)\n",
        "#ws = wb.worksheet(rangename)\n",
        "#dump = get_data_df(key, rangename)\n",
        "#dump.rename(columns={'Hood/Kibana id':'Kibana ID'},inplace=True)\n",
        "#dump=dump[dump['Job status']=='completed_job']\n",
        "#daysDelta = 0\n",
        "#DumpDate =  pd.to_datetime((datetime.today() - timedelta(days = daysDelta)).date()).strftime('%d %B %Y')\n",
        "#file_path = \"/content/drive/MyDrive/Insights_Datalake/Datewise Dumps - Aug Onwards/\"+(datetime.today() - timedelta(days = daysDelta)).strftime(\"%b %Y\")+\"/\"\n",
        "#\n",
        "#dump_name = \"Society Creation Date - Insights Copy\"\n",
        "#scd = pd.read_csv(file_path + DumpDate + \"/Sai/\"+ dump_name +\".csv\",parse_dates=True)\n",
        "#scd.rename(columns={'id':'Kibana ID','latitude':'latitude','longitude':'longitude'},inplace=True)\n",
        "#\n",
        "#scd=scd[['Kibana ID','latitude','longitude']]\n",
        "#scd.drop_duplicates(keep='last',inplace=True)\n",
        "#scd[['latitude', 'longitude']] = scd[['latitude', 'longitude']].map(lambda x: float(x.replace(',', '')) if isinstance(x, str) else x)\n",
        "#scd[['latitude', 'longitude']] = scd[['latitude', 'longitude']]/1000000\n",
        "#\n",
        "#dump=pd.merge(dump,scd,on='Kibana ID',how='left')\n",
        "#dump.loc[(dump['latitude'] >= 8.4) & (dump['latitude'] <= 37.6) &\n",
        "#       (dump['longitude'] >= 68.1) & (dump['longitude'] <= 97.4), 'Remark'] = 'Valid'\n",
        "#dump=dump[dump['Remark']==\"Valid\"]\n",
        "#\n",
        "#\n",
        "#dump['Geo_Location'] = dump['latitude'].astype(str) + ', ' + dump['longitude'].astype(str)\n",
        "#\n",
        "#key = \"1QLOS849fPNPVYYGND7MmnMivVf4o1VZEhLhJS89a17I\"\n",
        "#rangename= \"HR\"\n",
        "#wb = gc.open_by_key(key)\n",
        "#ws = wb.worksheet(rangename)\n",
        "#hrd = get_data_df(key, rangename)\n",
        "#\n",
        "#hrd.rename(columns={\"Official Email ID\":\"Job assignee email\"},inplace=True)\n",
        "#dump=pd.merge(dump,hrd[[\"Job assignee email\",\"Designation\"]],on=\"Job assignee email\",how='left')\n",
        "##hrd = hrd.rename(columns={\"ActualColumnName1\": \"Job assignee email\", \"ActualColumnName2\": \"Designation\"})\n",
        "##hrd.columns = hrd.columns.str.strip()\n",
        "#designation_mapping = {\n",
        "#    \"Senior Business Account Manager Usage - L4\": \"Sr BAM\",\n",
        "#    \"Business Executive - L2\": \"BE\",\n",
        "#    \"Inventory Executive\": \"Inventory Executive\",\n",
        "#    \"Business Executive Usage - L1\": \"BE\",\n",
        "#    \"Financial Solution Deployment Executive Central Onboarding - L3\": \"\",\n",
        "#    \"Sales Executive\": \"\",\n",
        "#    \"Business Account Manager Usage - L1\": \"BAM\",\n",
        "#    \"Business Account Manager - L3\": \"BAM\",\n",
        "#    \"Business Account Manager Usage - L3\": \"BAM\",\n",
        "#    \"City Business Manager Onboarding - L1\": \"CBM\",\n",
        "#    \"Business Account Manager Usage - L2\": \"BAM\",\n",
        "#    \"Senior Business Account Manager Usage - L3\": \"Sr BAM\",\n",
        "#    \"Senior Business Account Manager - L2\": \"Sr BAM\",\n",
        "#    \"Business Account Manager - L1\": \"BAM\",\n",
        "#    \"Business Account Manager - Central Onboarding\": \"BAM\",\n",
        "#    \"Manager - Vendor Partnership & Alliances - L2\": \"\",\n",
        "#    \"Financial Solution Deployment Executive  - L1\": \"\",\n",
        "#    \"Financial Solution Deployment Executive Central Onboarding\": \"\",\n",
        "#    \"Business Executive Onboarding - L1\": \"BE\",\n",
        "#    \"Senior Inventory Executive\": \"Sr BE\",\n",
        "#    \"Financial Solution Deployment Executive - L1\": \"\",\n",
        "#    \"Senior Business Account Manager Onboarding - L1\": \"Sr BAM\",\n",
        "#    \"Business Account Manager  - L2\": \"BAM\",\n",
        "#    \"Business Account Manager Onboarding - L2\": \"BAM\",\n",
        "#    \"Servicing Executive - ERP\": \"BE\",\n",
        "#    \"Business Executive Usage\": \"BE\",\n",
        "#    \"Senior Business Account Manager - L1\": \"Sr BAM\",\n",
        "#    \"Relationship Manager - Society Painting\": \"\",\n",
        "#    \"Business Executive - L1\": \"BE\",\n",
        "#    \"Business Account Manager Central Onboarding - L2\": \"BAM\",\n",
        "#    \"National Head - Vendor Partnership & Alliances\": \"\",\n",
        "#    \"Business Account Manager Onboarding - L3\": \"BAM\",\n",
        "#    \"Senior Business Account Manager Onboarding - L3\": \"Sr BAM\"\n",
        "#}\n",
        "#dump['Final Mapping'] = dump['Designation'].map(designation_mapping)\n",
        "#def process_date(date_str):\n",
        "#    try:\n",
        "#        # Step 1: Split by 'T' to separate date and time\n",
        "#        date_part, time_part = date_str.split('T')\n",
        "#\n",
        "#        # Step 2: Remove any timezone info from time (split on '+' if exists)\n",
        "#        time_part = time_part.split('+')[0]\n",
        "#\n",
        "#        # Step 3: Combine date and time and parse to datetime\n",
        "#        datetime_obj = pd.to_datetime(f\"{date_part} {time_part}\", errors='coerce')\n",
        "#\n",
        "#        # Step 4: Localize to 'Asia/Kolkata' timezone\n",
        "#        return datetime_obj.tz_localize('Asia/Kolkata', ambiguous='NaT')\n",
        "#\n",
        "#    except Exception as e:\n",
        "#        # Handle any parsing errors\n",
        "#        return pd.NaT\n",
        "#\n",
        "## Apply the function to the 'Job start date' column\n",
        "#dump['Job start date'] = dump['Job start date'].apply(process_date)\n",
        "#dump['Job end date'] = dump['Job end date'].apply(process_date)\n",
        "##dump['Job start date'] = pd.to_datetime(dump['Job start date']).dt.tz_convert('Asia/Kolkata')\n",
        "##dump['Job start date'] = pd.to_datetime(dump['Job start date'], errors='coerce')\n",
        "##dump['Job start date'] = dump['Job start date'].dt.tz_localize('Asia/Kolkata', ambiguous='NaT')\n",
        "##dump['Job start date'] = pd.to_datetime(dump['Job start date'], format='mixed', errors='coerce').dt.tz_convert('Asia/Kolkata')\n",
        "##dump['Job end date'] = pd.to_datetime(dump['Job end date'], errors='coerce')\n",
        "##dump['Job end date'] = dump['Job end date'].dt.tz_localize('Asia/Kolkata', ambiguous='NaT')\n",
        "##dump['Job end date'] = pd.to_datetime(dump['Job end date']).dt.tz_convert('Asia/Kolkata')\n",
        "##dump['Job start date'] = pd.to_datetime(dump['Job start date'], errors='coerce')\n",
        "##dump['Job end date'] = pd.to_datetime(dump['Job end date'], errors='coerce')\n",
        "#\n",
        "#\n",
        "#\n",
        "#dump['Job_Status'] = dump.apply(lambda row: 'Valid' if row['Job start date'].date() == row['Job end date'].date() else 'Invalid', axis=1)\n",
        "#\n",
        "#dump\n",
        "#dump=dump[dump['Job_Status']==\"Valid\"]\n",
        "#dump['Job duration'] = (dump['Job end date'] - dump['Job start date']).dt.total_seconds() / 60\n",
        "#\n",
        "#key = \"1iKgiRR-lOQ-zM6v6bh_1P3vkIujVCeBzVVr_nHuoDMU\"\n",
        "#rangename= \"Society Master\"\n",
        "#wb = gc.open_by_key(key)\n",
        "#ws = wb.worksheet(rangename)\n",
        "#sm = get_data_df(key, rangename)\n",
        "#headers = ['City','Kibana ID']\n",
        "#sm=sm[headers]\n",
        "#sm.rename(columns={'City':'SM_City'},inplace=True)\n",
        "#dump=pd.merge(dump,sm,on='Kibana ID',how='left')\n",
        "#dump['Job date'] = dump['Job start date'].dt.date\n",
        "#job_counts = dump.groupby(['Job date', 'Job assignee email', 'Kibana ID']).size().reset_index(name='Job count')\n",
        "#dump = dump.merge(job_counts, on=['Job date', 'Job assignee email', 'Kibana ID'], how='left')\n",
        "#dump['Job date'] = pd.to_datetime(dump['Job date'])\n",
        "#\n",
        "## Group the DataFrame by  and Job date\n",
        "#dump['Overlap']=False\n",
        "#grouped = dump.groupby(['Job assignee email', 'Job date'])\n",
        "#\n",
        "#all_groups = []\n",
        "#\n",
        "#for key, group in grouped:\n",
        "#    group = group.sort_values(by=['Job assignee email', 'Job start date'], ascending=[True, False]).reset_index(drop=True)\n",
        "#    for i in range(len(group)-1):\n",
        "#      if group.loc[i, 'Job end date'] > group.loc[i + 1, 'Job start date']:\n",
        "#            print(\"Job date i: \", group.loc[i, 'Job date'], \"\\n\", \"Job date i+1: \", group.loc[i + 1, 'Job date'], \"\\n\")\n",
        "#            print(\"Job end date i: \", group.loc[i, 'Job end date'], \"\\n\", \"Job start date i+1: \", group.loc[i + 1, 'Job start date'], \"\\n\")\n",
        "#            print(\"Job assignee email i:\", group.loc[i, 'Job assignee email'], \"\\n\", \"Job assignee email i+1: \", group.loc[i + 1, 'Job assignee email'], \"\\n\")\n",
        "#            print(\"Kibana ID i:\", group.loc[i, 'Kibana ID'], \"\\n\", \"Kibana ID i+1: \", group.loc[i + 1, 'Kibana ID'], \"\\n\")\n",
        "#            print(\"==============================================================================================\\n\")\n",
        "#            group.loc[i, 'Overlap'] = True\n",
        "#            group.loc[i + 1, 'Overlap'] = True\n",
        "#    all_groups.append(group)\n",
        "#\n",
        "## Concatenate all groups back into a single DataFrame\n",
        "#dump = pd.concat(all_groups).reset_index(drop=True)\n",
        "#\n",
        "#def check_overlap_grouped(df):\n",
        "#    def check_group(group):\n",
        "#        group = group.sort_values(by=['Job assignee email','Job start date']).reset_index(drop=True)\n",
        "#        overlaps = [False] * len(group)\n",
        "#        for i in range(len(group) - 1):\n",
        "#          if (group.loc[i, 'Job date'] == group.loc[i + 1, 'Job date']) and (group.loc[i, 'Job end date'] > group.loc[i + 1, 'Job start date']):\n",
        "#            print(\"Job date i: \", group.loc[i, 'Job date'], \"\\n\", \"Job date i+1: \", group.loc[i + 1, 'Job date'], \"\\n\")\n",
        "#            print(\"Job end date i: \", group.loc[i, 'Job end date'], \"\\n\", \"Job start date i+1: \", group.loc[i + 1, 'Job start date'], \"\\n\")\n",
        "#            print(\"Job assignee email i:\", group.loc[i, 'Job assignee email'], \"\\n\", \"Job assignee email i+1: \", group.loc[i + 1, 'Job assignee email'], \"\\n\")\n",
        "#            print(\"Kibana ID i:\", group.loc[i, 'Kibana ID'], \"\\n\",\"Kibana ID i+1: \", group.loc[i + 1, 'Kibana ID'], \"\\n\")\n",
        "#            print(\"==============================================================================================\\n\")\n",
        "#            overlaps[i] = True\n",
        "#            overlaps[i + 1] = True\n",
        "#        return overlaps\n",
        "#\n",
        "#    grouped = df.groupby(['Job assignee email','Job date'])\n",
        "#    overlaps = grouped.apply(lambda group: check_group(group)).explode().reset_index(drop=True)\n",
        "#    return overlaps\n",
        "#\n",
        "#\n",
        "#dump['Multiple Job At Sametime']=False\n",
        "#grouped = dump.groupby(['Kibana ID','Job date'])\n",
        "#\n",
        "#all_groups = []\n",
        "#\n",
        "#for key, group in grouped:\n",
        "#    group = group.sort_values(by=['Kibana ID', 'Job start date'], ascending=[True, False]).reset_index(drop=True)\n",
        "#    for i in range(len(group)-1):\n",
        "#        if group.loc[i, 'Job end date'] > group.loc[i + 1, 'Job start date']:\n",
        "#            print(\"Job date i: \", group.loc[i, 'Job date'], \"\\n\", \"Job date i+1: \", group.loc[i + 1, 'Job date'], \"\\n\")\n",
        "#            print(\"Job end date i: \", group.loc[i, 'Job end date'], \"\\n\", \"Job start date i+1: \", group.loc[i + 1, 'Job start date'], \"\\n\")\n",
        "#            print(\"Job assignee email i:\", group.loc[i, 'Job assignee email'], \"\\n\", \"Job assignee email i+1: \", group.loc[i + 1, 'Job assignee email'], \"\\n\")\n",
        "#            print(\"Kibana ID i:\", group.loc[i, 'Kibana ID'], \"\\n\", \"Kibana ID i+1: \", group.loc[i + 1, 'Kibana ID'], \"\\n\")\n",
        "#            print(\"==============================================================================================\\n\")\n",
        "#            group.loc[i, 'Multiple Job At Sametime'] = True\n",
        "#            group.loc[i + 1, 'Multiple Job At Sametime'] = True\n",
        "#    all_groups.append(group)\n",
        "#\n",
        "## Concatenate all groups back into a single DataFrame\n",
        "#result_df = pd.concat(all_groups).reset_index(drop=True)\n",
        "#\n",
        "#spreadSheetId=\"1yc1Yysxi2Od2Bk5nfbEmmiuTyx1apFsaWyuwBcTDQKg\"\n",
        "#rangeName=\"Final Data\"\n",
        "#wb = gc.open_by_key(spreadSheetId)\n",
        "#ws = wb.worksheet(rangeName)\n",
        "#wb.values_clear(\"Final Data!A:AN\")\n",
        "#set_with_dataframe(ws, result_df,row=1,col=1)"
      ]
    },
    {
      "cell_type": "markdown",
      "metadata": {
        "id": "xs_O9tWC7zsH"
      },
      "source": [
        "# Code 6:Servicing RP || ERP and VMS"
      ]
    },
    {
      "cell_type": "code",
      "execution_count": null,
      "metadata": {
        "id": "gdl5KDrj7yXH"
      },
      "outputs": [],
      "source": [
        "#columns = [\"City\",\"Kibana ID\",\"Original Closure Number\",\"Society Name\",\"Society status\",\"Live Product\",\"Sold Flats (VMS)\",\"Sold Flats (ERP)\",\"Closure Number (VMS)\",\"Closure Date (VMS)\",\"VMS Onb Status\",\"VMS Onb Date\",\"Closure Number (ERP)\",\"Closure Date (ERP)\",\"ERP Onb Status\",\"ERP Onb Date\",\"VMS Onboarding Tag\",\"ERP Onboarding Tag\",\"Open to Sales Status-ERP\",\"Open to Sales Status-VMS\",\"Gross RP HO+ve\"\n",
        "#]\n",
        "#\n",
        "#key = \"1aVAu23rPNHyOEk2ioNXdbqyUKEFzcXedlY283cvDKvY\"\n",
        "#rangename= \"Society Master\"\n",
        "#wb = gc.open_by_key(key)\n",
        "#ws = wb.worksheet(rangename)\n",
        "#base = get_data_df(key, rangename)\n",
        "#base=base[columns]\n",
        "#\n",
        "##Filtering only Active Societies\n",
        "#base=base[base['Society status']=='ACTIVE']\n",
        "#\n",
        "#"
      ]
    },
    {
      "cell_type": "code",
      "execution_count": null,
      "metadata": {
        "id": "vppW3RI0JjCI"
      },
      "outputs": [],
      "source": [
        "## Convert date columns to datetime format with mixed date handling\n",
        "#date_columns = [\n",
        "#    \"Closure Date (VMS)\",\n",
        "#    \"VMS Onb Date\",\n",
        "#    \"Closure Date (ERP)\",\n",
        "#    \"ERP Onb Date\"\n",
        "#]\n",
        "#\n",
        "#for column in date_columns:\n",
        "#    # Use to_datetime with errors='coerce' to handle mixed formats\n",
        "#    base[column] = pd.to_datetime(base[column], errors='coerce')\n",
        "#\n",
        "## Convert \"Gross RP HO+ve\" to float\n",
        "#base[\"Gross RP HO+ve\"] = pd.to_numeric(base[\"Gross RP HO+ve\"], errors='coerce')\n",
        "#base['Signing date to consider'] = base[[\"Closure Date (VMS)\", \"Closure Date (ERP)\"]].min(axis=1)\n",
        "##Risky Sites\n",
        "#key = \"1NaSXbh4IlgxUVlXgjHVM3Wgb7ExzfWrQcOMa6qL4FN0\"\n",
        "#rangename= \"RISKY SITES\"\n",
        "#wb = gc.open_by_key(key)\n",
        "#ws = wb.worksheet(rangename)\n",
        "#rs_vms = get_data_df(key, rangename)\n",
        "#base[\"Is VMS Risky\"] = base['Kibana ID'].isin(rs_vms['KIBANA ID']).map({True: \"Yes\", False: \"No\"})\n",
        "#key = \"1-VPbYw2o-cj75BQQftN038nybKovIw2P4yqfZycSJts\"\n",
        "#rangename= \"Base\"\n",
        "#wb = gc.open_by_key(key)\n",
        "#ws = wb.worksheet(rangename)\n",
        "#m_12 = get_data_df(key, rangename)\n",
        "#m_12=m_12[~m_12['Kibana ID'].isin(['','nan'])]\n",
        "#\n",
        "#m_12=m_12.iloc[:,4:7]\n",
        "#\n",
        "#m_12.rename(columns={\"cleaned kibana id\":\"Kibana ID\"},inplace=True)\n",
        "#key = \"1K71zQ7WjiO6qS2cK2WJgaKAtko7_YZVoadSSWMJT4-0\"\n",
        "#rangename= \"Base\"\n",
        "#wb = gc.open_by_key(key)\n",
        "#ws = wb.worksheet(rangename)\n",
        "#m_34 = get_data_df(key, rangename)\n",
        "#m_34=m_34[~m_34['Kibana ID'].isin(['','nan'])]\n",
        "#\n",
        "#m_34=m_34.iloc[:,4:7]\n",
        "#\n",
        "#m_34.rename(columns={\"cleaned kibana id\":\"Kibana ID\"},inplace=True)\n",
        "#key = \"1h9atwIX0CxTKl5s1iKAGw94VuJ4vwmYhx5_JX0Z8VyQ\"\n",
        "#rangename= \"Base\"\n",
        "#wb = gc.open_by_key(key)\n",
        "#ws = wb.worksheet(rangename)\n",
        "#m_56 = get_data_df(key, rangename)\n",
        "#m_56=m_56[~m_56['Kibana ID'].isin(['','nan'])]\n",
        "#\n",
        "#m_56=m_56.iloc[:,4:7]\n",
        "#\n",
        "#m_56.rename(columns={\"cleaned kibana id\":\"Kibana ID\"},inplace=True)\n",
        "#base = base.merge(m_12, on='Kibana ID', how='left') \\\n",
        "#           .merge(m_34, on='Kibana ID', how='left') \\\n",
        "#           .merge(m_56, on='Kibana ID', how='left')\n",
        "## Convert revenue columns to float in one line\n",
        "#base[[\"Oct'23 Revenue\", \"Nov'23 Revenue\", \"Dec'23 revenue\", \"Jan'24 revenue\", \"Feb'24 revenue\", \"Mar'24 revenue\"]] = base[[\"Oct'23 Revenue\", \"Nov'23 Revenue\", \"Dec'23 revenue\", \"Jan'24 revenue\", \"Feb'24 revenue\", \"Mar'24 revenue\"]].apply(pd.to_numeric, errors='coerce')\n",
        "## Define the function to apply the logic\n",
        "#def calculate_value(row, aj_value):\n",
        "#    if row['Is VMS Risky'] == \"Yes\":\n",
        "#        return np.mean([row['Gross RP HO+ve'], row[ [\"Oct'23 Revenue\",\"Nov'23 Revenue\",\"Dec'23 revenue\",\"Jan'24 revenue\",\"Feb'24 revenue\",\"Mar'24 revenue\"]][row[ [\"Oct'23 Revenue\",\"Nov'23 Revenue\",\"Dec'23 revenue\",\"Jan'24 revenue\",\"Feb'24 revenue\",\"Mar'24 revenue\"]] > 20].sum()])\n",
        "#    elif row['Live Product'] == \"ERP ONLY\" and row['Open to Sales Status-ERP'] == \"Yes\":\n",
        "#        return np.mean([row['Gross RP HO+ve'], row[ [\"Oct'23 Revenue\",\"Nov'23 Revenue\",\"Dec'23 revenue\",\"Jan'24 revenue\",\"Feb'24 revenue\",\"Mar'24 revenue\"]][row[ [\"Oct'23 Revenue\",\"Nov'23 Revenue\",\"Dec'23 revenue\",\"Jan'24 revenue\",\"Feb'24 revenue\",\"Mar'24 revenue\"]] > 20].sum()])\n",
        "#    elif row['Signing date to consider'] < aj_value:\n",
        "#        count_above_20 = row[ [\"Oct'23 Revenue\",\"Nov'23 Revenue\",\"Dec'23 revenue\",\"Jan'24 revenue\",\"Feb'24 revenue\",\"Mar'24 revenue\"]][row[ [\"Oct'23 Revenue\",\"Nov'23 Revenue\",\"Dec'23 revenue\",\"Jan'24 revenue\",\"Feb'24 revenue\",\"Mar'24 revenue\"]] > 20].count()\n",
        "#        return (row[ [\"Oct'23 Revenue\",\"Nov'23 Revenue\",\"Dec'23 revenue\",\"Jan'24 revenue\",\"Feb'24 revenue\",\"Mar'24 revenue\"]].sum() / count_above_20) * 12 if count_above_20 > 0 else 0\n",
        "#    elif row['Signing date to consider'] >= aj_value:\n",
        "#        return row['Gross RP HO+ve']\n",
        "#    return None\n",
        "#\n",
        "## Assuming 'AJ' is a single value\n",
        "#aj_value =pd.to_datetime(\"31-12-2023\")\n",
        "#\n",
        "## Apply the function to each row\n",
        "#base['Projected Yearly Revenue'] = base.apply(lambda row: calculate_value(row, aj_value), axis=1)"
      ]
    },
    {
      "cell_type": "code",
      "execution_count": null,
      "metadata": {
        "id": "Z3TRMtL_yYeH"
      },
      "outputs": [],
      "source": [
        "#\n",
        "#base['Final Cat'] = np.where(base['Projected Yearly Revenue'] >= 25000, \"Cat A\",\n",
        "#                    np.where((base['Projected Yearly Revenue'] >= 5000) & (base['Projected Yearly Revenue'] < 25000), \"Cat B\",\n",
        "#                    \"Cat C\"))"
      ]
    },
    {
      "cell_type": "code",
      "execution_count": null,
      "metadata": {
        "id": "jjt1g4qwAmnp"
      },
      "outputs": [],
      "source": [
        "#\n",
        "#spreadSheetId=\"1NaSXbh4IlgxUVlXgjHVM3Wgb7ExzfWrQcOMa6qL4FN0\"\n",
        "#rangeName=\"Rp wise categories\"\n",
        "#wb = gc.open_by_key(spreadSheetId)\n",
        "#ws = wb.worksheet(rangeName)\n",
        "#wb.values_clear(\"Rp wise categories!A:AE\")\n",
        "#set_with_dataframe(ws, base,row=1,col=1)"
      ]
    },
    {
      "cell_type": "code",
      "execution_count": null,
      "metadata": {
        "id": "eEduKgtpT5OE"
      },
      "outputs": [],
      "source": []
    },
    {
      "cell_type": "markdown",
      "metadata": {
        "id": "eUaYgSUsBYdO"
      },
      "source": [
        "# Code 7:Brand CategoryWise Report"
      ]
    },
    {
      "cell_type": "code",
      "execution_count": null,
      "metadata": {
        "id": "7GyVo5HABYKR"
      },
      "outputs": [],
      "source": [
        "columns = [\"Campaign Code\",\"Transaction Date\", \"Revenue\", \"lowest * revenue\", \"Status\", \"Cleaned Brand Name\", \"Category\"]\n",
        "\n",
        "key = \"1lRa2I_d73fPTNoTh7wwATHwXsRMep0M8SP7MGLeQGag\"\n",
        "rangename= \"Margin DB\"\n",
        "wb = gc.open_by_key(key)\n",
        "ws = wb.worksheet(rangename)\n",
        "df = get_data_df(key, rangename)"
      ]
    },
    {
      "cell_type": "code",
      "execution_count": null,
      "metadata": {
        "id": "gSAA1KzvU_kC"
      },
      "outputs": [],
      "source": [
        "l = get_data(\"1A4SRVGcfu-VNkGGVVzJED7TYgb9OdrBxpDNBMqmLDqU\", 'Campaign Master')\n",
        "cm = pd.DataFrame.from_records(l[1:], columns=l[0])\n",
        "cm=cm[['Campaign Code','Sub-Category']]\n",
        "df=pd.merge(df,cm,on='Campaign Code',how='left')"
      ]
    },
    {
      "cell_type": "code",
      "execution_count": null,
      "metadata": {
        "id": "TJ3UJEUYZVXV"
      },
      "outputs": [],
      "source": [
        "spreadSheetId=\"1TDhFMjQyXHm7mXr2S4Ss1RR1rdGWLzi3hWJLl9e3-dk\"\n",
        "rangeName=\"Sheet1\"\n",
        "wb = gc.open_by_key(spreadSheetId)\n",
        "ws = wb.worksheet(rangeName)\n",
        "wb.values_clear(\"Sheet1!A:Z\")\n",
        "set_with_dataframe(ws, df,row=1,col=1)"
      ]
    },
    {
      "cell_type": "code",
      "execution_count": null,
      "metadata": {
        "id": "H9xqtWmEGq49",
        "colab": {
          "base_uri": "https://localhost:8080/"
        },
        "outputId": "77d498a0-914f-43f7-f555-7f693b23193d"
      },
      "outputs": [
        {
          "output_type": "stream",
          "name": "stderr",
          "text": [
            "<ipython-input-42-4843d6d6b63c>:3: SettingWithCopyWarning: \n",
            "A value is trying to be set on a copy of a slice from a DataFrame\n",
            "\n",
            "See the caveats in the documentation: https://pandas.pydata.org/pandas-docs/stable/user_guide/indexing.html#returning-a-view-versus-a-copy\n",
            "  df.rename(columns={'Cleaned Brand Name':'Brand Name',\"lowest * revenue\":\"Margin\"},inplace=True)\n"
          ]
        }
      ],
      "source": [
        "df=df[columns]\n",
        "\n",
        "df.rename(columns={'Cleaned Brand Name':'Brand Name',\"lowest * revenue\":\"Margin\"},inplace=True)"
      ]
    },
    {
      "cell_type": "code",
      "execution_count": null,
      "metadata": {
        "id": "6chE2HciHRhV",
        "colab": {
          "base_uri": "https://localhost:8080/"
        },
        "outputId": "06107910-8a60-47a9-8850-07baaba803ef"
      },
      "outputs": [
        {
          "output_type": "stream",
          "name": "stderr",
          "text": [
            "<ipython-input-43-8bc0d963b9d3>:1: SettingWithCopyWarning: \n",
            "A value is trying to be set on a copy of a slice from a DataFrame.\n",
            "Try using .loc[row_indexer,col_indexer] = value instead\n",
            "\n",
            "See the caveats in the documentation: https://pandas.pydata.org/pandas-docs/stable/user_guide/indexing.html#returning-a-view-versus-a-copy\n",
            "  df['Transaction Date'] = pd.to_datetime(df['Transaction Date'], format='mixed',dayfirst=True)  # Convert to datetime\n",
            "<ipython-input-43-8bc0d963b9d3>:3: SettingWithCopyWarning: \n",
            "A value is trying to be set on a copy of a slice from a DataFrame.\n",
            "Try using .loc[row_indexer,col_indexer] = value instead\n",
            "\n",
            "See the caveats in the documentation: https://pandas.pydata.org/pandas-docs/stable/user_guide/indexing.html#returning-a-view-versus-a-copy\n",
            "  df['Margin'] = pd.to_numeric(df['Margin'], errors='coerce')\n",
            "<ipython-input-43-8bc0d963b9d3>:4: SettingWithCopyWarning: \n",
            "A value is trying to be set on a copy of a slice from a DataFrame.\n",
            "Try using .loc[row_indexer,col_indexer] = value instead\n",
            "\n",
            "See the caveats in the documentation: https://pandas.pydata.org/pandas-docs/stable/user_guide/indexing.html#returning-a-view-versus-a-copy\n",
            "  df['Revenue'] = pd.to_numeric(df['Revenue'].str.replace(',', ''), errors='coerce')\n"
          ]
        }
      ],
      "source": [
        "df['Transaction Date'] = pd.to_datetime(df['Transaction Date'], format='mixed',dayfirst=True)  # Convert to datetime\n",
        "\n",
        "df['Margin'] = pd.to_numeric(df['Margin'], errors='coerce')\n",
        "df['Revenue'] = pd.to_numeric(df['Revenue'].str.replace(',', ''), errors='coerce')\n",
        "\n",
        "#df['Revenue'] = df['Revenue'].str.replace(',', '').astype(float)"
      ]
    },
    {
      "cell_type": "code",
      "execution_count": null,
      "metadata": {
        "id": "7IFB398RKm_r"
      },
      "outputs": [],
      "source": [
        "today = datetime.now()\n",
        "\n",
        "df['Months Since Last Campaign'] = ((today.year - df['Transaction Date'].dt.year) * 12 + (today.month - df['Transaction Date'].dt.month))"
      ]
    },
    {
      "cell_type": "code",
      "execution_count": null,
      "metadata": {
        "id": "Sz1zn_8KKx_M"
      },
      "outputs": [],
      "source": [
        "# Group by 'Brand Name' and 'Category'\n",
        "grouped = df.groupby(['Brand Name', 'Category'])\n",
        "\n",
        "# Calculate metrics with unique Campaign Code counts for Closed and Open campaigns\n",
        "summary = grouped.agg(\n",
        "    Closed_Campaign_Frequency=pd.NamedAgg(column='Campaign Code', aggfunc=lambda x: df.loc[x.index][df.loc[x.index, 'Status'] == 'Closed']['Campaign Code'].nunique()),\n",
        "    Open_Campaign_Frequency=pd.NamedAgg(column='Campaign Code', aggfunc=lambda x: df.loc[x.index][df.loc[x.index, 'Status'] == 'Open']['Campaign Code'].nunique()),\n",
        "    Last_Campaign_Date=pd.NamedAgg(column='Transaction Date', aggfunc=lambda x: df.loc[x.index][df.loc[x.index, 'Status'].isin(['Closed','Open'])]['Transaction Date'].max()),  # Filter for closed campaigns\n",
        "    Revenue=pd.NamedAgg(column='Revenue', aggfunc='sum'),\n",
        "    Margin=pd.NamedAgg(column='Margin', aggfunc='sum')\n",
        ").reset_index()\n",
        "\n",
        "summary['Months Since Last Campaign'] = summary['Last_Campaign_Date'].apply(lambda x: ((today.year - x.year) * 12 + (today.month - x.month)) if pd.notna(x) else None)"
      ]
    },
    {
      "cell_type": "code",
      "execution_count": null,
      "metadata": {
        "id": "Hs3wCSbxv1Wo"
      },
      "outputs": [],
      "source": [
        "def assign_bucket(value):\n",
        "    if value <= 2:\n",
        "        return \"<=2\"\n",
        "    elif value >= 5:\n",
        "        return \">=5\"\n",
        "    else:\n",
        "        return \">=3\"\n",
        "\n",
        "\n",
        "summary['Closed Bucket'] = summary['Closed_Campaign_Frequency'].apply(assign_bucket)\n",
        "summary['Open Bucket'] = summary['Open_Campaign_Frequency'].apply(assign_bucket)"
      ]
    },
    {
      "cell_type": "code",
      "execution_count": null,
      "metadata": {
        "id": "DNWDhb_JwNT7"
      },
      "outputs": [],
      "source": [
        "summary = summary[['Category', 'Brand Name', 'Closed_Campaign_Frequency', 'Open_Campaign_Frequency',\n",
        "                       'Closed Bucket', 'Open Bucket', 'Last_Campaign_Date', 'Months Since Last Campaign',\n",
        "                       'Revenue', 'Margin']]"
      ]
    },
    {
      "cell_type": "code",
      "execution_count": null,
      "metadata": {
        "id": "3vhCy_TR-maN"
      },
      "outputs": [],
      "source": [
        "summary.sort_values(by=\"Margin\", ascending=False ,inplace=True)"
      ]
    },
    {
      "cell_type": "code",
      "execution_count": null,
      "metadata": {
        "id": "9sD3NGRowoaC"
      },
      "outputs": [],
      "source": [
        "spreadSheetId=\"1lRa2I_d73fPTNoTh7wwATHwXsRMep0M8SP7MGLeQGag\"\n",
        "rangeName=\"Category wise Frequency\"\n",
        "wb = gc.open_by_key(spreadSheetId)\n",
        "ws = wb.worksheet(rangeName)\n",
        "wb.values_clear(\"Category wise Frequency!A:J\")\n",
        "set_with_dataframe(ws, summary,row=2,col=1)"
      ]
    },
    {
      "cell_type": "markdown",
      "metadata": {
        "id": "yVE8VTuotXWT"
      },
      "source": [
        "# Code 8:Monetisation VIZ Script\n"
      ]
    },
    {
      "cell_type": "code",
      "execution_count": null,
      "metadata": {
        "id": "ZxkDUYUowmDz",
        "colab": {
          "base_uri": "https://localhost:8080/"
        },
        "outputId": "d96aa540-07cb-4dfb-d257-71e341f7d295"
      },
      "outputs": [
        {
          "output_type": "stream",
          "name": "stderr",
          "text": [
            "<ipython-input-51-014e8252f596>:89: SettingWithCopyWarning: \n",
            "A value is trying to be set on a copy of a slice from a DataFrame.\n",
            "Try using .loc[row_indexer,col_indexer] = value instead\n",
            "\n",
            "See the caveats in the documentation: https://pandas.pydata.org/pandas-docs/stable/user_guide/indexing.html#returning-a-view-versus-a-copy\n",
            "  clean_df['Sold Flats'] = clean_df['Sold Flats'].apply(lambda x: float(x.replace(',', '')) if isinstance(x, str) else x)\n",
            "<ipython-input-51-014e8252f596>:92: SettingWithCopyWarning: \n",
            "A value is trying to be set on a copy of a slice from a DataFrame.\n",
            "Try using .loc[row_indexer,col_indexer] = value instead\n",
            "\n",
            "See the caveats in the documentation: https://pandas.pydata.org/pandas-docs/stable/user_guide/indexing.html#returning-a-view-versus-a-copy\n",
            "  clean_df['Entries %'] = clean_df['Average L7 Day Overall Entries'] / clean_df['Sold Flats']\n"
          ]
        }
      ],
      "source": [
        "#calling all data in payments tab in master sheet\n",
        "key = \"1A4SRVGcfu-VNkGGVVzJED7TYgb9OdrBxpDNBMqmLDqU\"\n",
        "range = \"Payments\"\n",
        "wb = gc.open_by_key(key)\n",
        "ws = wb.worksheet(range)\n",
        "masterpayments = get_data_df_2(key, range)\n",
        "masterpayments = masterpayments[masterpayments['Date']!=\"\"]\n",
        "masterpayments['Date'] = pd.to_datetime(masterpayments['Date'], errors='coerce', format=\"mixed\")\n",
        "masterpayments['Base Amount'] = pd.to_numeric(masterpayments['Base Amount'], errors='coerce')\n",
        "six_months_ago = pd.Timestamp.now() - pd.DateOffset(months=6)\n",
        "filtered_data = masterpayments[masterpayments['Date'] >= six_months_ago]\n",
        "result = filtered_data.groupby('Society ID')['Base Amount'].sum().reset_index()\n",
        "result.rename(columns={'Society ID':\"Kibana ID\",'Base Amount': 'Society Payout (Last 6 Months)'}, inplace=True)\n",
        "\n",
        "key = \"1YmTPZYOv1iP6jwnL_kGEchHEv7TkhZIh0c5HBp63lR4\"\n",
        "rangename= \"Helper\"\n",
        "wb = gc.open_by_key(key)\n",
        "ws = wb.worksheet(rangename)\n",
        "sm = get_data_df(key, rangename)\n",
        "\n",
        "columns = [\"City\",\"Kibana ID\",\"Society Name\",\"Society status\",\"Status\",\"Live Product\",\"Latest Signing Date\",\"Sold Flats\",\"Locality\",\"NBH Recommended\",\"No: of Activity done in last  6 months\"]\n",
        "\n",
        "sm=sm[columns]\n",
        "\n",
        "sm=sm[sm['Society status']=='ACTIVE']\n",
        "sm['Sold Flats'] = sm['Sold Flats'].apply(lambda x: float(x.replace(',', '')) if isinstance(x, str) else x)\n",
        "\n",
        "l = get_data(\"1vVgJJdS5-qu9ga6Hag0WRuSSAUGI1WrWnWsgRRMir_g\", 'Helper')\n",
        "prm = pd.DataFrame.from_records(l[1:], columns=l[0])\n",
        "prm=prm[['Kibana ID','Rent Range','Premiumness']]\n",
        "sm=pd.merge(sm,prm,on='Kibana ID',how='left')\n",
        "\n",
        "daysDelta = 0\n",
        "DumpDate =  pd.to_datetime((datetime.today() - timedelta(days = daysDelta)).date()).strftime('%d %B %Y')\n",
        "file_path = \"/content/drive/MyDrive/Insights_Datalake/Datewise Dumps - Aug Onwards/\"+(datetime.today() - timedelta(days = daysDelta)).strftime(\"%b %Y\")+\"/\"\n",
        "\n",
        "dump_name = \"Society Creation Date - Insights Copy\"\n",
        "scd = pd.read_csv(file_path + DumpDate + \"/Sai/\"+ dump_name +\".csv\",parse_dates=True)\n",
        "scd.rename(columns={'id':'Kibana ID','latitude':'latitude','longitude':'longitude'},inplace=True)\n",
        "scd.drop_duplicates(\"Kibana ID\",keep='last',inplace=True)\n",
        "scd[['latitude', 'longitude']] = scd[['latitude', 'longitude']].map(lambda x: float(x.replace(',', '')) if isinstance(x, str) else x)\n",
        "scd[['latitude', 'longitude']] = scd[['latitude', 'longitude']]/1000000\n",
        "scd=scd[['Kibana ID','latitude','longitude']]\n",
        "scd.drop_duplicates(keep='last',inplace=True)\n",
        "\n",
        "dump_name = \"onboarding_dashboard_metrics\"\n",
        "om = pd.read_csv(file_path + DumpDate + \"/Sai/\"+ dump_name +\".csv\",parse_dates=True)\n",
        "om=om[['Society_id','Average L7 Day Overall Entries']]\n",
        "om.rename(columns={'Society_id':'Kibana ID'},inplace=True)\n",
        "merged_df = sm.merge(om, on='Kibana ID', how='left').merge(scd, on='Kibana ID', how='left')\n",
        "\n",
        "merged_df[['latitude','longitude']] = merged_df[['latitude','longitude']].apply(pd.to_numeric, errors='coerce')\n",
        "merged_df.loc[(merged_df['latitude'] >= 8.4) & (merged_df['latitude'] <= 37.6) & (merged_df['longitude'] >= 68.1) & (merged_df['longitude'] <= 97.4), 'Remark'] = 'Valid'\n",
        "merged_df['Geo_Location'] = merged_df['latitude'].astype(str) + ',' + merged_df['longitude'].astype(str)\n",
        "city_mapping = {\n",
        "    'AHMEDABAD': 'AHMEDABAD',\n",
        "    'NAVI MUMBAI - NMT': 'NAVI MUMBAI',\n",
        "    'MUMBAI': 'MUMBAI',\n",
        "    'NOIDA': 'NOIDA',\n",
        "    'BANGALORE': 'BANGALORE',\n",
        "    'HYDERABAD': 'HYDERABAD',\n",
        "    'PUNE_PMC': 'PUNE',\n",
        "    'OTHER CITY': 'OTHER',\n",
        "    'PUNE': 'PUNE',\n",
        "    'PUNE_PCMC': 'PUNE',\n",
        "    'CHENNAI': 'CHENNAI',\n",
        "    'KOLKATA': 'KOLKATA',\n",
        "    'GURGAON': 'GURGAON',\n",
        "    'JAIPUR': 'JAIPUR',\n",
        "    'NAVI MUMBAI - THANE': 'THANE',\n",
        "    'NAGPUR': 'NAGPUR',\n",
        "    'MOHALI': 'MOHALI',\n",
        "    'MUMBAI 2': 'MUMBAI',\n",
        "    'KOCHI': 'KOCHI',\n",
        "    'ZIRAKPUR': 'ZIRAKPUR',\n",
        "    'LUDHIANA': 'LUDHIANA',\n",
        "    'PANCHKULA': 'PANCHKULA',\n",
        "    'CHANDIGARH': 'CHANDIGARH',\n",
        "    'DERABASSI': 'DERABASSI'\n",
        "}\n",
        "merged_df['Clean City'] = merged_df['City'].map(city_mapping)\n",
        "\n",
        "merged_df=merged_df[merged_df['Remark']==\"Valid\"]\n",
        "\n",
        "merged_df=merged_df.drop('Remark',axis=1)\n",
        "\n",
        "clean_df = merged_df.loc[:, ~merged_df.columns.duplicated()]\n",
        "\n",
        "clean_df['Sold Flats'] = clean_df['Sold Flats'].apply(lambda x: float(x.replace(',', '')) if isinstance(x, str) else x)\n",
        "clean_df = clean_df[clean_df['Sold Flats']>1]\n",
        "\n",
        "clean_df['Entries %'] = clean_df['Average L7 Day Overall Entries'] / clean_df['Sold Flats']\n",
        "\n",
        "final_df = clean_df.merge(result, on='Kibana ID', how='left')\n",
        "\n",
        "final_df['NBH Recommended Color Scale'] = (final_df['NBH Recommended'] == 'NBH Preferred').astype(int)\n",
        "\n",
        "spreadSheetId=\"1sUYEDYrJdNLHyAEXShBMeaGLyrGVx6Q2x0-TcsX-Cxw\"\n",
        "rangeName=\"Base\"\n",
        "wb = gc.open_by_key(spreadSheetId)\n",
        "ws = wb.worksheet(rangeName)\n",
        "wb.values_clear(f\"{rangeName}!A:Z\")\n",
        "set_with_dataframe(ws, final_df,row=1,col=1)"
      ]
    },
    {
      "cell_type": "markdown",
      "metadata": {
        "id": "kaH2GqXZUc6_"
      },
      "source": [
        "# **Testing Section**"
      ]
    },
    {
      "cell_type": "code",
      "execution_count": null,
      "metadata": {
        "id": "jzpbg9FJUoBf"
      },
      "outputs": [],
      "source": [
        "#'''key = \"16Ub1TYzSP0CaAR7Vyl3n011xVA-mnfGPs9lZQIo2Ogs\"\n",
        "#range = \"ITC - PIN CODES\"\n",
        "#wb = gc.open_by_key(key)\n",
        "#ws = wb.worksheet(range)\n",
        "#test_df = get_data_df(key, range)\n",
        "#\n",
        "#def extract_pincode(address):\n",
        "#    match = re.search(r\"\\b\\d{6,}\\b\", address)\n",
        "#    return match.group(0) if match else None\n",
        "#\n",
        "#\n",
        "##test_df[\"Pincode\"] = test_df[\"Store Address\"].apply(extract_pincode)\n",
        "#\n",
        "#!pip install geopy\n",
        "#\n",
        "#from geopy.geocoders import Nominatim\n",
        "#geolocator = Nominatim(user_agent=\"my-geocoding-app\")\n",
        "#\n",
        "#latitudes = []\n",
        "#longitudes = []\n",
        "#\n",
        "#for pincode in test_df['Pin Codes']:\n",
        "#    try:\n",
        "#        location = geolocator.geocode(pincode,country_codes='in')\n",
        "#        latitude = location.latitude\n",
        "#        longitude = location.longitude\n",
        "#    except AttributeError:\n",
        "#        latitude = None\n",
        "#        longitude = None\n",
        "#    latitudes.append(latitude)\n",
        "#    longitudes.append(longitude)\n",
        "#\n",
        "#\n",
        "#test_df['Latitude'] = latitudes\n",
        "#test_df['Longitude'] = longitudes\n",
        "#\n",
        "#spreadSheetId=\"16Ub1TYzSP0CaAR7Vyl3n011xVA-mnfGPs9lZQIo2Ogs\"\n",
        "#rangeName=\"ITC - PIN CODES\"\n",
        "#wb = gc.open_by_key(spreadSheetId)\n",
        "#ws = wb.worksheet(rangeName)\n",
        "#wb.values_clear(f\"{rangeName}!A:Z\")\n",
        "#set_with_dataframe(ws, test_df,row=1,col=1)'''"
      ]
    },
    {
      "cell_type": "code",
      "execution_count": null,
      "metadata": {
        "id": "_LcQ80IPqvCt"
      },
      "outputs": [],
      "source": [
        "#import gspread\n",
        "#from oauth2client.service_account import ServiceAccountCredentials\n",
        "#import smtplib\n",
        "#from email.mime.text import MIMEText\n",
        "#\n",
        "## Google Sheets setup\n",
        "#'''scope = [\"https://spreadsheets.google.com/feeds\", \"https://www.googleapis.com/auth/drive\"]\n",
        "#creds = ServiceAccountCredentials.from_json_keyfile_name('path/to/credentials.json', scope)\n",
        "#client = gspread.authorize(creds)'''\n",
        "#\n",
        "## Open the spreadsheet and worksheets\n",
        "#spreadsheet = client.open_by_key(\"1rLZeNFOuaVLyGcn_msUY0yL6XchswWNAXt3r8yZoziM\")\n",
        "#data_sheet = spreadsheet.worksheet(\"Px Rating\")\n",
        "#template_sheet = spreadsheet.worksheet(\"Template\")\n",
        "#\n",
        "#def send_emails():\n",
        "#    # Read template text\n",
        "#    template_text = template_sheet.cell(1, 1).value\n",
        "#\n",
        "#    # Get all rows from the Px Rating sheet\n",
        "#    data = data_sheet.get_all_records()\n",
        "#\n",
        "#    # SMTP setup\n",
        "#    smtp_server = \"smtp.your-email-provider.com\"\n",
        "#    smtp_port = 587\n",
        "#    email_user = \"your-email@example.com\"\n",
        "#    email_password = \"your-password\"\n",
        "#\n",
        "#    # Initialize SMTP connection\n",
        "#    server = smtplib.SMTP(smtp_server, smtp_port)\n",
        "#    server.starttls()\n",
        "#    server.login(email_user, email_password)\n",
        "#\n",
        "#    # Loop through rows and send emails\n",
        "#    for row in data:\n",
        "#        email_id = row.get(\"Email ID of the Partner\")\n",
        "#        rating = row.get(\"Rating\")\n",
        "#        additional_info = row.get(\"What Went Wrong\")\n",
        "#\n",
        "#        if email_id and rating and rating <= 5:  # Updated condition for sending emails\n",
        "#            subject = \"High Priority || Detractor (Less Rating Received) On The Job From Customer\"\n",
        "#            message_body = f\"{template_text}\\n\\nDetails:\\nRating: {rating}\\nWhat Went Wrong: {additional_info}\"\n",
        "#\n",
        "#            # Create email\n",
        "#            msg = MIMEText(message_body)\n",
        "#            msg[\"Subject\"] = subject\n",
        "#            msg[\"From\"] = email_user\n",
        "#            msg[\"To\"] = email_id\n",
        "#\n",
        "#            # Send email\n",
        "#            try:\n",
        "#                server.sendmail(email_user, email_id, msg.as_string())\n",
        "#                print(f\"Email sent to {email_id}\")\n",
        "#            except Exception as e:\n",
        "#                print(f\"Failed to send email to {email_id}: {e}\")\n",
        "#\n",
        "#    # Close the SMTP connection\n",
        "#    server.quit()\n",
        "#\n",
        "#if __name__ == \"__main__\":\n",
        "#    send_emails()\n",
        "#"
      ]
    },
    {
      "cell_type": "markdown",
      "metadata": {
        "id": "jgjKFwdAWjd5"
      },
      "source": [
        "#Runtime Tracker"
      ]
    },
    {
      "cell_type": "code",
      "execution_count": null,
      "metadata": {
        "id": "nUEjMPYAWiLQ",
        "colab": {
          "base_uri": "https://localhost:8080/"
        },
        "outputId": "a2f7afbb-b00a-4c68-a18f-02fd23dfedd2"
      },
      "outputs": [
        {
          "output_type": "stream",
          "name": "stdout",
          "text": [
            "03-March-2025 - 08:22\n",
            "Current datetime 03-March-2025 - 08:22 populated for Value Activity Tracker Hood Campaigns\n"
          ]
        },
        {
          "output_type": "stream",
          "name": "stderr",
          "text": [
            "<ipython-input-54-28220a08250f>:70: DeprecationWarning: The order of arguments in worksheet.update() has changed. Please pass values first and range_name secondor used named arguments (range_name=, values=)\n",
            "  worksheet_last_updated.update(f'B{row_index + 2}', [[current_datetime]])\n"
          ]
        }
      ],
      "source": [
        "\n",
        "from datetime import datetime\n",
        "import pytz\n",
        "\n",
        "\n",
        "# Get the current time in UTC\n",
        "utc_time = datetime.utcnow()\n",
        "\n",
        "\n",
        "# Convert to India Standard Time (IST)\n",
        "india_tz = pytz.timezone('Asia/Kolkata')\n",
        "ist_time = utc_time.replace(tzinfo=pytz.utc).astimezone(india_tz)\n",
        "\n",
        "\n",
        "# Format the datetime string\n",
        "formatted_time = ist_time.strftime(\"%d-%B-%Y - %H:%M\")\n",
        "\n",
        "\n",
        "print(formatted_time)\n",
        "\n",
        "\n",
        "import gspread\n",
        "import pandas as pd\n",
        "from datetime import datetime\n",
        "from gspread_dataframe import set_with_dataframe\n",
        "\n",
        "\n",
        "# Open the Google Sheets document\n",
        "#gc = gspread.service_account(filename=\"path/to/your/credentials.dumpon\")\n",
        "\n",
        "spreadsheet_id = \"12jy3u_vMDIS0etAQe1DYa14mBUwXebDc9ePzgzgkTH0\"\n",
        "date_checker = gc.open_by_key(spreadsheet_id)\n",
        "\n",
        "\n",
        "# Function to update target value\n",
        "def update_target_value(target_value):\n",
        "   # Find the worksheet 'scripts' and fetch data\n",
        "   worksheet_scripts = date_checker.worksheet('last updated time')\n",
        "   data_scripts = worksheet_scripts.get_all_values()\n",
        "   # Extracting headers and data separately\n",
        "   headers = data_scripts[0]\n",
        "   rows = data_scripts[1:]\n",
        "\n",
        "   # Creating DataFrame\n",
        "   df = pd.DataFrame(rows, columns=headers)\n",
        "\n",
        "\n",
        "\n",
        "   # Create a DataFrame with only the 'Name ' column\n",
        "   #df = pd.DataFrame(data_scripts, columns=['Name '])\n",
        "\n",
        "\n",
        "   # Find the row index for the target value\n",
        "   filtered_row = df[df['Name '] == target_value]\n",
        "\n",
        "\n",
        "   if not filtered_row.empty:\n",
        "       # Get the index of the found row\n",
        "       row_index = filtered_row.index[0]\n",
        "\n",
        "\n",
        "       # Get the 'last updated time' worksheet\n",
        "       worksheet_last_updated = date_checker.worksheet('last updated time')\n",
        "\n",
        "\n",
        "       # Get the current datetime\n",
        "       current_datetime = formatted_time\n",
        "\n",
        "\n",
        "       # Update the 'last updated date / time' column with the current datetime\n",
        "       worksheet_last_updated.update(f'B{row_index + 2}', [[current_datetime]])\n",
        "\n",
        "\n",
        "       print(f\"Current datetime {current_datetime} populated for Value {target_value}\")\n",
        "   else:\n",
        "       print(f\"No matching row found for Value {target_value}\")\n",
        "\n",
        "update_target_value('Activity Tracker Hood Campaigns')"
      ]
    },
    {
      "cell_type": "code",
      "execution_count": null,
      "metadata": {
        "id": "E0T-gDJ_58U_"
      },
      "outputs": [],
      "source": []
    },
    {
      "cell_type": "code",
      "execution_count": null,
      "metadata": {
        "id": "s5_8PALhpPk-",
        "colab": {
          "base_uri": "https://localhost:8080/"
        },
        "outputId": "684bfe0a-dfda-47f0-a94f-05f48d1bf595"
      },
      "outputs": [
        {
          "output_type": "stream",
          "name": "stderr",
          "text": [
            "<ipython-input-55-0f718a1cb21c>:8: SettingWithCopyWarning: \n",
            "A value is trying to be set on a copy of a slice from a DataFrame.\n",
            "Try using .loc[row_indexer,col_indexer] = value instead\n",
            "\n",
            "See the caveats in the documentation: https://pandas.pydata.org/pandas-docs/stable/user_guide/indexing.html#returning-a-view-versus-a-copy\n",
            "  masterpayments['Date'] = pd.to_datetime(masterpayments['Date'], errors='coerce', format=\"mixed\")\n",
            "<ipython-input-55-0f718a1cb21c>:9: SettingWithCopyWarning: \n",
            "A value is trying to be set on a copy of a slice from a DataFrame.\n",
            "Try using .loc[row_indexer,col_indexer] = value instead\n",
            "\n",
            "See the caveats in the documentation: https://pandas.pydata.org/pandas-docs/stable/user_guide/indexing.html#returning-a-view-versus-a-copy\n",
            "  masterpayments['Base Amount'] = pd.to_numeric(masterpayments['Base Amount'], errors='coerce')\n"
          ]
        }
      ],
      "source": [
        "#calling all data in payments tab in master sheet\n",
        "key = \"1A4SRVGcfu-VNkGGVVzJED7TYgb9OdrBxpDNBMqmLDqU\"\n",
        "range = \"Payments\"\n",
        "wb = gc.open_by_key(key)\n",
        "ws = wb.worksheet(range)\n",
        "masterpayments = get_data_df_2(key, range)\n",
        "masterpayments = masterpayments[masterpayments['Date']!=\"\"]\n",
        "masterpayments['Date'] = pd.to_datetime(masterpayments['Date'], errors='coerce', format=\"mixed\")\n",
        "masterpayments['Base Amount'] = pd.to_numeric(masterpayments['Base Amount'], errors='coerce')\n",
        "# six_months_ago = pd.Timestamp.now() - pd.DateOffset(months=6)\n",
        "# filtered_data = masterpayments[masterpayments['Date'] >= six_months_ago]\n",
        "result = masterpayments.groupby('Society ID')['Base Amount'].sum().reset_index()\n",
        "result.rename(columns={'Society ID':\"Kibana ID\",'Base Amount': 'Execution Amount'}, inplace=True)"
      ]
    },
    {
      "cell_type": "code",
      "execution_count": null,
      "metadata": {
        "id": "Xx-PC4tsrJtC",
        "colab": {
          "base_uri": "https://localhost:8080/"
        },
        "outputId": "cfd879dd-5855-4787-dda7-ed2fb4c03c85"
      },
      "outputs": [
        {
          "output_type": "execute_result",
          "data": {
            "text/plain": [
              "                Kibana ID  Execution Amount\n",
              "0                                 1319907.0\n",
              "1                    #N/A            6540.0\n",
              "2     (NBH under process)            5000.0\n",
              "3                       -           40460.0\n",
              "4                       0           60345.0\n",
              "...                   ...               ...\n",
              "5423                   na          235744.0\n",
              "5424                  nan           77600.0\n",
              "5425                  nil           26500.0\n",
              "5426              non-NBH            4720.0\n",
              "5427               vendor           99600.0\n",
              "\n",
              "[5428 rows x 2 columns]"
            ],
            "text/html": [
              "\n",
              "  <div id=\"df-fbc7bc54-76e2-4733-b899-4199612264d5\" class=\"colab-df-container\">\n",
              "    <div>\n",
              "<style scoped>\n",
              "    .dataframe tbody tr th:only-of-type {\n",
              "        vertical-align: middle;\n",
              "    }\n",
              "\n",
              "    .dataframe tbody tr th {\n",
              "        vertical-align: top;\n",
              "    }\n",
              "\n",
              "    .dataframe thead th {\n",
              "        text-align: right;\n",
              "    }\n",
              "</style>\n",
              "<table border=\"1\" class=\"dataframe\">\n",
              "  <thead>\n",
              "    <tr style=\"text-align: right;\">\n",
              "      <th></th>\n",
              "      <th>Kibana ID</th>\n",
              "      <th>Execution Amount</th>\n",
              "    </tr>\n",
              "  </thead>\n",
              "  <tbody>\n",
              "    <tr>\n",
              "      <th>0</th>\n",
              "      <td></td>\n",
              "      <td>1319907.0</td>\n",
              "    </tr>\n",
              "    <tr>\n",
              "      <th>1</th>\n",
              "      <td>#N/A</td>\n",
              "      <td>6540.0</td>\n",
              "    </tr>\n",
              "    <tr>\n",
              "      <th>2</th>\n",
              "      <td>(NBH under process)</td>\n",
              "      <td>5000.0</td>\n",
              "    </tr>\n",
              "    <tr>\n",
              "      <th>3</th>\n",
              "      <td>-</td>\n",
              "      <td>40460.0</td>\n",
              "    </tr>\n",
              "    <tr>\n",
              "      <th>4</th>\n",
              "      <td>0</td>\n",
              "      <td>60345.0</td>\n",
              "    </tr>\n",
              "    <tr>\n",
              "      <th>...</th>\n",
              "      <td>...</td>\n",
              "      <td>...</td>\n",
              "    </tr>\n",
              "    <tr>\n",
              "      <th>5423</th>\n",
              "      <td>na</td>\n",
              "      <td>235744.0</td>\n",
              "    </tr>\n",
              "    <tr>\n",
              "      <th>5424</th>\n",
              "      <td>nan</td>\n",
              "      <td>77600.0</td>\n",
              "    </tr>\n",
              "    <tr>\n",
              "      <th>5425</th>\n",
              "      <td>nil</td>\n",
              "      <td>26500.0</td>\n",
              "    </tr>\n",
              "    <tr>\n",
              "      <th>5426</th>\n",
              "      <td>non-NBH</td>\n",
              "      <td>4720.0</td>\n",
              "    </tr>\n",
              "    <tr>\n",
              "      <th>5427</th>\n",
              "      <td>vendor</td>\n",
              "      <td>99600.0</td>\n",
              "    </tr>\n",
              "  </tbody>\n",
              "</table>\n",
              "<p>5428 rows × 2 columns</p>\n",
              "</div>\n",
              "    <div class=\"colab-df-buttons\">\n",
              "\n",
              "  <div class=\"colab-df-container\">\n",
              "    <button class=\"colab-df-convert\" onclick=\"convertToInteractive('df-fbc7bc54-76e2-4733-b899-4199612264d5')\"\n",
              "            title=\"Convert this dataframe to an interactive table.\"\n",
              "            style=\"display:none;\">\n",
              "\n",
              "  <svg xmlns=\"http://www.w3.org/2000/svg\" height=\"24px\" viewBox=\"0 -960 960 960\">\n",
              "    <path d=\"M120-120v-720h720v720H120Zm60-500h600v-160H180v160Zm220 220h160v-160H400v160Zm0 220h160v-160H400v160ZM180-400h160v-160H180v160Zm440 0h160v-160H620v160ZM180-180h160v-160H180v160Zm440 0h160v-160H620v160Z\"/>\n",
              "  </svg>\n",
              "    </button>\n",
              "\n",
              "  <style>\n",
              "    .colab-df-container {\n",
              "      display:flex;\n",
              "      gap: 12px;\n",
              "    }\n",
              "\n",
              "    .colab-df-convert {\n",
              "      background-color: #E8F0FE;\n",
              "      border: none;\n",
              "      border-radius: 50%;\n",
              "      cursor: pointer;\n",
              "      display: none;\n",
              "      fill: #1967D2;\n",
              "      height: 32px;\n",
              "      padding: 0 0 0 0;\n",
              "      width: 32px;\n",
              "    }\n",
              "\n",
              "    .colab-df-convert:hover {\n",
              "      background-color: #E2EBFA;\n",
              "      box-shadow: 0px 1px 2px rgba(60, 64, 67, 0.3), 0px 1px 3px 1px rgba(60, 64, 67, 0.15);\n",
              "      fill: #174EA6;\n",
              "    }\n",
              "\n",
              "    .colab-df-buttons div {\n",
              "      margin-bottom: 4px;\n",
              "    }\n",
              "\n",
              "    [theme=dark] .colab-df-convert {\n",
              "      background-color: #3B4455;\n",
              "      fill: #D2E3FC;\n",
              "    }\n",
              "\n",
              "    [theme=dark] .colab-df-convert:hover {\n",
              "      background-color: #434B5C;\n",
              "      box-shadow: 0px 1px 3px 1px rgba(0, 0, 0, 0.15);\n",
              "      filter: drop-shadow(0px 1px 2px rgba(0, 0, 0, 0.3));\n",
              "      fill: #FFFFFF;\n",
              "    }\n",
              "  </style>\n",
              "\n",
              "    <script>\n",
              "      const buttonEl =\n",
              "        document.querySelector('#df-fbc7bc54-76e2-4733-b899-4199612264d5 button.colab-df-convert');\n",
              "      buttonEl.style.display =\n",
              "        google.colab.kernel.accessAllowed ? 'block' : 'none';\n",
              "\n",
              "      async function convertToInteractive(key) {\n",
              "        const element = document.querySelector('#df-fbc7bc54-76e2-4733-b899-4199612264d5');\n",
              "        const dataTable =\n",
              "          await google.colab.kernel.invokeFunction('convertToInteractive',\n",
              "                                                    [key], {});\n",
              "        if (!dataTable) return;\n",
              "\n",
              "        const docLinkHtml = 'Like what you see? Visit the ' +\n",
              "          '<a target=\"_blank\" href=https://colab.research.google.com/notebooks/data_table.ipynb>data table notebook</a>'\n",
              "          + ' to learn more about interactive tables.';\n",
              "        element.innerHTML = '';\n",
              "        dataTable['output_type'] = 'display_data';\n",
              "        await google.colab.output.renderOutput(dataTable, element);\n",
              "        const docLink = document.createElement('div');\n",
              "        docLink.innerHTML = docLinkHtml;\n",
              "        element.appendChild(docLink);\n",
              "      }\n",
              "    </script>\n",
              "  </div>\n",
              "\n",
              "\n",
              "<div id=\"df-c83401f9-a47e-4bd6-bce3-ba8537ac7ca2\">\n",
              "  <button class=\"colab-df-quickchart\" onclick=\"quickchart('df-c83401f9-a47e-4bd6-bce3-ba8537ac7ca2')\"\n",
              "            title=\"Suggest charts\"\n",
              "            style=\"display:none;\">\n",
              "\n",
              "<svg xmlns=\"http://www.w3.org/2000/svg\" height=\"24px\"viewBox=\"0 0 24 24\"\n",
              "     width=\"24px\">\n",
              "    <g>\n",
              "        <path d=\"M19 3H5c-1.1 0-2 .9-2 2v14c0 1.1.9 2 2 2h14c1.1 0 2-.9 2-2V5c0-1.1-.9-2-2-2zM9 17H7v-7h2v7zm4 0h-2V7h2v10zm4 0h-2v-4h2v4z\"/>\n",
              "    </g>\n",
              "</svg>\n",
              "  </button>\n",
              "\n",
              "<style>\n",
              "  .colab-df-quickchart {\n",
              "      --bg-color: #E8F0FE;\n",
              "      --fill-color: #1967D2;\n",
              "      --hover-bg-color: #E2EBFA;\n",
              "      --hover-fill-color: #174EA6;\n",
              "      --disabled-fill-color: #AAA;\n",
              "      --disabled-bg-color: #DDD;\n",
              "  }\n",
              "\n",
              "  [theme=dark] .colab-df-quickchart {\n",
              "      --bg-color: #3B4455;\n",
              "      --fill-color: #D2E3FC;\n",
              "      --hover-bg-color: #434B5C;\n",
              "      --hover-fill-color: #FFFFFF;\n",
              "      --disabled-bg-color: #3B4455;\n",
              "      --disabled-fill-color: #666;\n",
              "  }\n",
              "\n",
              "  .colab-df-quickchart {\n",
              "    background-color: var(--bg-color);\n",
              "    border: none;\n",
              "    border-radius: 50%;\n",
              "    cursor: pointer;\n",
              "    display: none;\n",
              "    fill: var(--fill-color);\n",
              "    height: 32px;\n",
              "    padding: 0;\n",
              "    width: 32px;\n",
              "  }\n",
              "\n",
              "  .colab-df-quickchart:hover {\n",
              "    background-color: var(--hover-bg-color);\n",
              "    box-shadow: 0 1px 2px rgba(60, 64, 67, 0.3), 0 1px 3px 1px rgba(60, 64, 67, 0.15);\n",
              "    fill: var(--button-hover-fill-color);\n",
              "  }\n",
              "\n",
              "  .colab-df-quickchart-complete:disabled,\n",
              "  .colab-df-quickchart-complete:disabled:hover {\n",
              "    background-color: var(--disabled-bg-color);\n",
              "    fill: var(--disabled-fill-color);\n",
              "    box-shadow: none;\n",
              "  }\n",
              "\n",
              "  .colab-df-spinner {\n",
              "    border: 2px solid var(--fill-color);\n",
              "    border-color: transparent;\n",
              "    border-bottom-color: var(--fill-color);\n",
              "    animation:\n",
              "      spin 1s steps(1) infinite;\n",
              "  }\n",
              "\n",
              "  @keyframes spin {\n",
              "    0% {\n",
              "      border-color: transparent;\n",
              "      border-bottom-color: var(--fill-color);\n",
              "      border-left-color: var(--fill-color);\n",
              "    }\n",
              "    20% {\n",
              "      border-color: transparent;\n",
              "      border-left-color: var(--fill-color);\n",
              "      border-top-color: var(--fill-color);\n",
              "    }\n",
              "    30% {\n",
              "      border-color: transparent;\n",
              "      border-left-color: var(--fill-color);\n",
              "      border-top-color: var(--fill-color);\n",
              "      border-right-color: var(--fill-color);\n",
              "    }\n",
              "    40% {\n",
              "      border-color: transparent;\n",
              "      border-right-color: var(--fill-color);\n",
              "      border-top-color: var(--fill-color);\n",
              "    }\n",
              "    60% {\n",
              "      border-color: transparent;\n",
              "      border-right-color: var(--fill-color);\n",
              "    }\n",
              "    80% {\n",
              "      border-color: transparent;\n",
              "      border-right-color: var(--fill-color);\n",
              "      border-bottom-color: var(--fill-color);\n",
              "    }\n",
              "    90% {\n",
              "      border-color: transparent;\n",
              "      border-bottom-color: var(--fill-color);\n",
              "    }\n",
              "  }\n",
              "</style>\n",
              "\n",
              "  <script>\n",
              "    async function quickchart(key) {\n",
              "      const quickchartButtonEl =\n",
              "        document.querySelector('#' + key + ' button');\n",
              "      quickchartButtonEl.disabled = true;  // To prevent multiple clicks.\n",
              "      quickchartButtonEl.classList.add('colab-df-spinner');\n",
              "      try {\n",
              "        const charts = await google.colab.kernel.invokeFunction(\n",
              "            'suggestCharts', [key], {});\n",
              "      } catch (error) {\n",
              "        console.error('Error during call to suggestCharts:', error);\n",
              "      }\n",
              "      quickchartButtonEl.classList.remove('colab-df-spinner');\n",
              "      quickchartButtonEl.classList.add('colab-df-quickchart-complete');\n",
              "    }\n",
              "    (() => {\n",
              "      let quickchartButtonEl =\n",
              "        document.querySelector('#df-c83401f9-a47e-4bd6-bce3-ba8537ac7ca2 button');\n",
              "      quickchartButtonEl.style.display =\n",
              "        google.colab.kernel.accessAllowed ? 'block' : 'none';\n",
              "    })();\n",
              "  </script>\n",
              "</div>\n",
              "\n",
              "  <div id=\"id_752e857a-a830-4db1-b744-1f4151498f6a\">\n",
              "    <style>\n",
              "      .colab-df-generate {\n",
              "        background-color: #E8F0FE;\n",
              "        border: none;\n",
              "        border-radius: 50%;\n",
              "        cursor: pointer;\n",
              "        display: none;\n",
              "        fill: #1967D2;\n",
              "        height: 32px;\n",
              "        padding: 0 0 0 0;\n",
              "        width: 32px;\n",
              "      }\n",
              "\n",
              "      .colab-df-generate:hover {\n",
              "        background-color: #E2EBFA;\n",
              "        box-shadow: 0px 1px 2px rgba(60, 64, 67, 0.3), 0px 1px 3px 1px rgba(60, 64, 67, 0.15);\n",
              "        fill: #174EA6;\n",
              "      }\n",
              "\n",
              "      [theme=dark] .colab-df-generate {\n",
              "        background-color: #3B4455;\n",
              "        fill: #D2E3FC;\n",
              "      }\n",
              "\n",
              "      [theme=dark] .colab-df-generate:hover {\n",
              "        background-color: #434B5C;\n",
              "        box-shadow: 0px 1px 3px 1px rgba(0, 0, 0, 0.15);\n",
              "        filter: drop-shadow(0px 1px 2px rgba(0, 0, 0, 0.3));\n",
              "        fill: #FFFFFF;\n",
              "      }\n",
              "    </style>\n",
              "    <button class=\"colab-df-generate\" onclick=\"generateWithVariable('result')\"\n",
              "            title=\"Generate code using this dataframe.\"\n",
              "            style=\"display:none;\">\n",
              "\n",
              "  <svg xmlns=\"http://www.w3.org/2000/svg\" height=\"24px\"viewBox=\"0 0 24 24\"\n",
              "       width=\"24px\">\n",
              "    <path d=\"M7,19H8.4L18.45,9,17,7.55,7,17.6ZM5,21V16.75L18.45,3.32a2,2,0,0,1,2.83,0l1.4,1.43a1.91,1.91,0,0,1,.58,1.4,1.91,1.91,0,0,1-.58,1.4L9.25,21ZM18.45,9,17,7.55Zm-12,3A5.31,5.31,0,0,0,4.9,8.1,5.31,5.31,0,0,0,1,6.5,5.31,5.31,0,0,0,4.9,4.9,5.31,5.31,0,0,0,6.5,1,5.31,5.31,0,0,0,8.1,4.9,5.31,5.31,0,0,0,12,6.5,5.46,5.46,0,0,0,6.5,12Z\"/>\n",
              "  </svg>\n",
              "    </button>\n",
              "    <script>\n",
              "      (() => {\n",
              "      const buttonEl =\n",
              "        document.querySelector('#id_752e857a-a830-4db1-b744-1f4151498f6a button.colab-df-generate');\n",
              "      buttonEl.style.display =\n",
              "        google.colab.kernel.accessAllowed ? 'block' : 'none';\n",
              "\n",
              "      buttonEl.onclick = () => {\n",
              "        google.colab.notebook.generateWithVariable('result');\n",
              "      }\n",
              "      })();\n",
              "    </script>\n",
              "  </div>\n",
              "\n",
              "    </div>\n",
              "  </div>\n"
            ],
            "application/vnd.google.colaboratory.intrinsic+json": {
              "type": "dataframe",
              "variable_name": "result",
              "summary": "{\n  \"name\": \"result\",\n  \"rows\": 5428,\n  \"fields\": [\n    {\n      \"column\": \"Kibana ID\",\n      \"properties\": {\n        \"dtype\": \"string\",\n        \"num_unique_values\": 5428,\n        \"samples\": [\n          \"23083\",\n          \"8a9697997705366e0177393b178e15e8\",\n          \"8a968da78f10f2dd018f13cb032e106a\"\n        ],\n        \"semantic_type\": \"\",\n        \"description\": \"\"\n      }\n    },\n    {\n      \"column\": \"Execution Amount\",\n      \"properties\": {\n        \"dtype\": \"number\",\n        \"std\": 987037.8891343697,\n        \"min\": 0.0,\n        \"max\": 72674322.53003,\n        \"num_unique_values\": 1077,\n        \"samples\": [\n          24950.0,\n          31400.0,\n          121590.0\n        ],\n        \"semantic_type\": \"\",\n        \"description\": \"\"\n      }\n    }\n  ]\n}"
            }
          },
          "metadata": {},
          "execution_count": 56
        }
      ],
      "source": [
        "result"
      ]
    },
    {
      "cell_type": "code",
      "execution_count": null,
      "metadata": {
        "id": "DscSy6KhpPiS"
      },
      "outputs": [],
      "source": [
        "# 1Gl--PIaW3w6YESiHWUuUkzXC9VILWAz4B-e2D2lGBdg\n",
        "\n",
        "key = \"1Gl--PIaW3w6YESiHWUuUkzXC9VILWAz4B-e2D2lGBdg\"\n",
        "range = \"Sheet1\"\n",
        "wb = gc.open_by_key(key)\n",
        "ws = wb.worksheet(range)\n",
        "closure = get_data_df_2(key, range)\n",
        "closure['Closure Date'] = pd.to_datetime(closure['Closure Date'], errors='coerce', format=\"mixed\")\n"
      ]
    },
    {
      "cell_type": "code",
      "execution_count": null,
      "metadata": {
        "id": "idBpPNNNpw4c"
      },
      "outputs": [],
      "source": [
        "merge = pd.merge(closure,result,on='Kibana ID',how='left')"
      ]
    },
    {
      "cell_type": "code",
      "execution_count": null,
      "metadata": {
        "id": "Ce9J53EeqKuO",
        "colab": {
          "base_uri": "https://localhost:8080/"
        },
        "outputId": "b8c30ce4-1acc-4dee-c388-5e36211e88b9"
      },
      "outputs": [
        {
          "output_type": "execute_result",
          "data": {
            "text/plain": [
              "   Closure Number Closure Date                    Society Name  \\\n",
              "0         1034568   2023-11-19                     HILL COUNTY   \n",
              "1         1034938   2023-12-21                  SAMHITA CASTLE   \n",
              "2         1035193   2024-01-05                   Shriram Luxor   \n",
              "3         1035163   2024-01-05                VAISHNAVI SERENE   \n",
              "4         1035046   2024-01-05                     TATA SEREIN   \n",
              "..            ...          ...                             ...   \n",
              "68        1038787   2024-12-21  HIRANANDANI REGENT HILL E WING   \n",
              "69        1038786   2024-12-21  HIRANANDANI REGENT HILL A WING   \n",
              "70        1038784   2024-12-21  HIRANANDANI REGENT HILL B WING   \n",
              "71        1038782   2024-12-21  HIRANANDANI REGENT HILL C WING   \n",
              "72        1038785   2024-12-21  HIRANANDANI REGENT HILL D WING   \n",
              "\n",
              "                   City      HO Product                         Kibana ID  \\\n",
              "0             Hyderabad        VMS only  8a96ea418be86c04018bed09cac51a51   \n",
              "1             Bangalore  Both VMS + ERP  8a96c3848ca6f770018caa0ff5902035   \n",
              "2             Bangalore  Both VMS + ERP  8a96e0848d417645018d447ec2340682   \n",
              "3             Bangalore        VMS only  8a96e0848d417645018d444199340119   \n",
              "4   Navi Mumbai - Thane        VMS only  8a96ca838d251b42018d2655cbd303d9   \n",
              "..                  ...             ...                               ...   \n",
              "68               Mumbai        VMS only  8a96a1d293fea8be01940290e81933a8   \n",
              "69               Mumbai        VMS only  8a96a1d293fea8be01940220f6681246   \n",
              "70               Mumbai        VMS only  8a96a1d293fea8be019401cf52320857   \n",
              "71               Mumbai        VMS only  8a96a1d293fea8be019401d300a908b2   \n",
              "72               Mumbai        VMS only  8a96a1d293fea8be019401d96428091a   \n",
              "\n",
              "   Sold Flat  Execution Amount  \n",
              "0       1166          153800.0  \n",
              "1        103               NaN  \n",
              "2        444            3500.0  \n",
              "3        896               NaN  \n",
              "4        638               NaN  \n",
              "..       ...               ...  \n",
              "68       211           50000.0  \n",
              "69       200               NaN  \n",
              "70       200               NaN  \n",
              "71       200               NaN  \n",
              "72       210               NaN  \n",
              "\n",
              "[73 rows x 8 columns]"
            ],
            "text/html": [
              "\n",
              "  <div id=\"df-22d871d6-e4a1-4cef-bae8-17d7e5a94b13\" class=\"colab-df-container\">\n",
              "    <div>\n",
              "<style scoped>\n",
              "    .dataframe tbody tr th:only-of-type {\n",
              "        vertical-align: middle;\n",
              "    }\n",
              "\n",
              "    .dataframe tbody tr th {\n",
              "        vertical-align: top;\n",
              "    }\n",
              "\n",
              "    .dataframe thead th {\n",
              "        text-align: right;\n",
              "    }\n",
              "</style>\n",
              "<table border=\"1\" class=\"dataframe\">\n",
              "  <thead>\n",
              "    <tr style=\"text-align: right;\">\n",
              "      <th></th>\n",
              "      <th>Closure Number</th>\n",
              "      <th>Closure Date</th>\n",
              "      <th>Society Name</th>\n",
              "      <th>City</th>\n",
              "      <th>HO Product</th>\n",
              "      <th>Kibana ID</th>\n",
              "      <th>Sold Flat</th>\n",
              "      <th>Execution Amount</th>\n",
              "    </tr>\n",
              "  </thead>\n",
              "  <tbody>\n",
              "    <tr>\n",
              "      <th>0</th>\n",
              "      <td>1034568</td>\n",
              "      <td>2023-11-19</td>\n",
              "      <td>HILL COUNTY</td>\n",
              "      <td>Hyderabad</td>\n",
              "      <td>VMS only</td>\n",
              "      <td>8a96ea418be86c04018bed09cac51a51</td>\n",
              "      <td>1166</td>\n",
              "      <td>153800.0</td>\n",
              "    </tr>\n",
              "    <tr>\n",
              "      <th>1</th>\n",
              "      <td>1034938</td>\n",
              "      <td>2023-12-21</td>\n",
              "      <td>SAMHITA CASTLE</td>\n",
              "      <td>Bangalore</td>\n",
              "      <td>Both VMS + ERP</td>\n",
              "      <td>8a96c3848ca6f770018caa0ff5902035</td>\n",
              "      <td>103</td>\n",
              "      <td>NaN</td>\n",
              "    </tr>\n",
              "    <tr>\n",
              "      <th>2</th>\n",
              "      <td>1035193</td>\n",
              "      <td>2024-01-05</td>\n",
              "      <td>Shriram Luxor</td>\n",
              "      <td>Bangalore</td>\n",
              "      <td>Both VMS + ERP</td>\n",
              "      <td>8a96e0848d417645018d447ec2340682</td>\n",
              "      <td>444</td>\n",
              "      <td>3500.0</td>\n",
              "    </tr>\n",
              "    <tr>\n",
              "      <th>3</th>\n",
              "      <td>1035163</td>\n",
              "      <td>2024-01-05</td>\n",
              "      <td>VAISHNAVI SERENE</td>\n",
              "      <td>Bangalore</td>\n",
              "      <td>VMS only</td>\n",
              "      <td>8a96e0848d417645018d444199340119</td>\n",
              "      <td>896</td>\n",
              "      <td>NaN</td>\n",
              "    </tr>\n",
              "    <tr>\n",
              "      <th>4</th>\n",
              "      <td>1035046</td>\n",
              "      <td>2024-01-05</td>\n",
              "      <td>TATA SEREIN</td>\n",
              "      <td>Navi Mumbai - Thane</td>\n",
              "      <td>VMS only</td>\n",
              "      <td>8a96ca838d251b42018d2655cbd303d9</td>\n",
              "      <td>638</td>\n",
              "      <td>NaN</td>\n",
              "    </tr>\n",
              "    <tr>\n",
              "      <th>...</th>\n",
              "      <td>...</td>\n",
              "      <td>...</td>\n",
              "      <td>...</td>\n",
              "      <td>...</td>\n",
              "      <td>...</td>\n",
              "      <td>...</td>\n",
              "      <td>...</td>\n",
              "      <td>...</td>\n",
              "    </tr>\n",
              "    <tr>\n",
              "      <th>68</th>\n",
              "      <td>1038787</td>\n",
              "      <td>2024-12-21</td>\n",
              "      <td>HIRANANDANI REGENT HILL E WING</td>\n",
              "      <td>Mumbai</td>\n",
              "      <td>VMS only</td>\n",
              "      <td>8a96a1d293fea8be01940290e81933a8</td>\n",
              "      <td>211</td>\n",
              "      <td>50000.0</td>\n",
              "    </tr>\n",
              "    <tr>\n",
              "      <th>69</th>\n",
              "      <td>1038786</td>\n",
              "      <td>2024-12-21</td>\n",
              "      <td>HIRANANDANI REGENT HILL A WING</td>\n",
              "      <td>Mumbai</td>\n",
              "      <td>VMS only</td>\n",
              "      <td>8a96a1d293fea8be01940220f6681246</td>\n",
              "      <td>200</td>\n",
              "      <td>NaN</td>\n",
              "    </tr>\n",
              "    <tr>\n",
              "      <th>70</th>\n",
              "      <td>1038784</td>\n",
              "      <td>2024-12-21</td>\n",
              "      <td>HIRANANDANI REGENT HILL B WING</td>\n",
              "      <td>Mumbai</td>\n",
              "      <td>VMS only</td>\n",
              "      <td>8a96a1d293fea8be019401cf52320857</td>\n",
              "      <td>200</td>\n",
              "      <td>NaN</td>\n",
              "    </tr>\n",
              "    <tr>\n",
              "      <th>71</th>\n",
              "      <td>1038782</td>\n",
              "      <td>2024-12-21</td>\n",
              "      <td>HIRANANDANI REGENT HILL C WING</td>\n",
              "      <td>Mumbai</td>\n",
              "      <td>VMS only</td>\n",
              "      <td>8a96a1d293fea8be019401d300a908b2</td>\n",
              "      <td>200</td>\n",
              "      <td>NaN</td>\n",
              "    </tr>\n",
              "    <tr>\n",
              "      <th>72</th>\n",
              "      <td>1038785</td>\n",
              "      <td>2024-12-21</td>\n",
              "      <td>HIRANANDANI REGENT HILL D WING</td>\n",
              "      <td>Mumbai</td>\n",
              "      <td>VMS only</td>\n",
              "      <td>8a96a1d293fea8be019401d96428091a</td>\n",
              "      <td>210</td>\n",
              "      <td>NaN</td>\n",
              "    </tr>\n",
              "  </tbody>\n",
              "</table>\n",
              "<p>73 rows × 8 columns</p>\n",
              "</div>\n",
              "    <div class=\"colab-df-buttons\">\n",
              "\n",
              "  <div class=\"colab-df-container\">\n",
              "    <button class=\"colab-df-convert\" onclick=\"convertToInteractive('df-22d871d6-e4a1-4cef-bae8-17d7e5a94b13')\"\n",
              "            title=\"Convert this dataframe to an interactive table.\"\n",
              "            style=\"display:none;\">\n",
              "\n",
              "  <svg xmlns=\"http://www.w3.org/2000/svg\" height=\"24px\" viewBox=\"0 -960 960 960\">\n",
              "    <path d=\"M120-120v-720h720v720H120Zm60-500h600v-160H180v160Zm220 220h160v-160H400v160Zm0 220h160v-160H400v160ZM180-400h160v-160H180v160Zm440 0h160v-160H620v160ZM180-180h160v-160H180v160Zm440 0h160v-160H620v160Z\"/>\n",
              "  </svg>\n",
              "    </button>\n",
              "\n",
              "  <style>\n",
              "    .colab-df-container {\n",
              "      display:flex;\n",
              "      gap: 12px;\n",
              "    }\n",
              "\n",
              "    .colab-df-convert {\n",
              "      background-color: #E8F0FE;\n",
              "      border: none;\n",
              "      border-radius: 50%;\n",
              "      cursor: pointer;\n",
              "      display: none;\n",
              "      fill: #1967D2;\n",
              "      height: 32px;\n",
              "      padding: 0 0 0 0;\n",
              "      width: 32px;\n",
              "    }\n",
              "\n",
              "    .colab-df-convert:hover {\n",
              "      background-color: #E2EBFA;\n",
              "      box-shadow: 0px 1px 2px rgba(60, 64, 67, 0.3), 0px 1px 3px 1px rgba(60, 64, 67, 0.15);\n",
              "      fill: #174EA6;\n",
              "    }\n",
              "\n",
              "    .colab-df-buttons div {\n",
              "      margin-bottom: 4px;\n",
              "    }\n",
              "\n",
              "    [theme=dark] .colab-df-convert {\n",
              "      background-color: #3B4455;\n",
              "      fill: #D2E3FC;\n",
              "    }\n",
              "\n",
              "    [theme=dark] .colab-df-convert:hover {\n",
              "      background-color: #434B5C;\n",
              "      box-shadow: 0px 1px 3px 1px rgba(0, 0, 0, 0.15);\n",
              "      filter: drop-shadow(0px 1px 2px rgba(0, 0, 0, 0.3));\n",
              "      fill: #FFFFFF;\n",
              "    }\n",
              "  </style>\n",
              "\n",
              "    <script>\n",
              "      const buttonEl =\n",
              "        document.querySelector('#df-22d871d6-e4a1-4cef-bae8-17d7e5a94b13 button.colab-df-convert');\n",
              "      buttonEl.style.display =\n",
              "        google.colab.kernel.accessAllowed ? 'block' : 'none';\n",
              "\n",
              "      async function convertToInteractive(key) {\n",
              "        const element = document.querySelector('#df-22d871d6-e4a1-4cef-bae8-17d7e5a94b13');\n",
              "        const dataTable =\n",
              "          await google.colab.kernel.invokeFunction('convertToInteractive',\n",
              "                                                    [key], {});\n",
              "        if (!dataTable) return;\n",
              "\n",
              "        const docLinkHtml = 'Like what you see? Visit the ' +\n",
              "          '<a target=\"_blank\" href=https://colab.research.google.com/notebooks/data_table.ipynb>data table notebook</a>'\n",
              "          + ' to learn more about interactive tables.';\n",
              "        element.innerHTML = '';\n",
              "        dataTable['output_type'] = 'display_data';\n",
              "        await google.colab.output.renderOutput(dataTable, element);\n",
              "        const docLink = document.createElement('div');\n",
              "        docLink.innerHTML = docLinkHtml;\n",
              "        element.appendChild(docLink);\n",
              "      }\n",
              "    </script>\n",
              "  </div>\n",
              "\n",
              "\n",
              "<div id=\"df-95a4d24a-3a7c-4747-9d03-179b3ed1c96b\">\n",
              "  <button class=\"colab-df-quickchart\" onclick=\"quickchart('df-95a4d24a-3a7c-4747-9d03-179b3ed1c96b')\"\n",
              "            title=\"Suggest charts\"\n",
              "            style=\"display:none;\">\n",
              "\n",
              "<svg xmlns=\"http://www.w3.org/2000/svg\" height=\"24px\"viewBox=\"0 0 24 24\"\n",
              "     width=\"24px\">\n",
              "    <g>\n",
              "        <path d=\"M19 3H5c-1.1 0-2 .9-2 2v14c0 1.1.9 2 2 2h14c1.1 0 2-.9 2-2V5c0-1.1-.9-2-2-2zM9 17H7v-7h2v7zm4 0h-2V7h2v10zm4 0h-2v-4h2v4z\"/>\n",
              "    </g>\n",
              "</svg>\n",
              "  </button>\n",
              "\n",
              "<style>\n",
              "  .colab-df-quickchart {\n",
              "      --bg-color: #E8F0FE;\n",
              "      --fill-color: #1967D2;\n",
              "      --hover-bg-color: #E2EBFA;\n",
              "      --hover-fill-color: #174EA6;\n",
              "      --disabled-fill-color: #AAA;\n",
              "      --disabled-bg-color: #DDD;\n",
              "  }\n",
              "\n",
              "  [theme=dark] .colab-df-quickchart {\n",
              "      --bg-color: #3B4455;\n",
              "      --fill-color: #D2E3FC;\n",
              "      --hover-bg-color: #434B5C;\n",
              "      --hover-fill-color: #FFFFFF;\n",
              "      --disabled-bg-color: #3B4455;\n",
              "      --disabled-fill-color: #666;\n",
              "  }\n",
              "\n",
              "  .colab-df-quickchart {\n",
              "    background-color: var(--bg-color);\n",
              "    border: none;\n",
              "    border-radius: 50%;\n",
              "    cursor: pointer;\n",
              "    display: none;\n",
              "    fill: var(--fill-color);\n",
              "    height: 32px;\n",
              "    padding: 0;\n",
              "    width: 32px;\n",
              "  }\n",
              "\n",
              "  .colab-df-quickchart:hover {\n",
              "    background-color: var(--hover-bg-color);\n",
              "    box-shadow: 0 1px 2px rgba(60, 64, 67, 0.3), 0 1px 3px 1px rgba(60, 64, 67, 0.15);\n",
              "    fill: var(--button-hover-fill-color);\n",
              "  }\n",
              "\n",
              "  .colab-df-quickchart-complete:disabled,\n",
              "  .colab-df-quickchart-complete:disabled:hover {\n",
              "    background-color: var(--disabled-bg-color);\n",
              "    fill: var(--disabled-fill-color);\n",
              "    box-shadow: none;\n",
              "  }\n",
              "\n",
              "  .colab-df-spinner {\n",
              "    border: 2px solid var(--fill-color);\n",
              "    border-color: transparent;\n",
              "    border-bottom-color: var(--fill-color);\n",
              "    animation:\n",
              "      spin 1s steps(1) infinite;\n",
              "  }\n",
              "\n",
              "  @keyframes spin {\n",
              "    0% {\n",
              "      border-color: transparent;\n",
              "      border-bottom-color: var(--fill-color);\n",
              "      border-left-color: var(--fill-color);\n",
              "    }\n",
              "    20% {\n",
              "      border-color: transparent;\n",
              "      border-left-color: var(--fill-color);\n",
              "      border-top-color: var(--fill-color);\n",
              "    }\n",
              "    30% {\n",
              "      border-color: transparent;\n",
              "      border-left-color: var(--fill-color);\n",
              "      border-top-color: var(--fill-color);\n",
              "      border-right-color: var(--fill-color);\n",
              "    }\n",
              "    40% {\n",
              "      border-color: transparent;\n",
              "      border-right-color: var(--fill-color);\n",
              "      border-top-color: var(--fill-color);\n",
              "    }\n",
              "    60% {\n",
              "      border-color: transparent;\n",
              "      border-right-color: var(--fill-color);\n",
              "    }\n",
              "    80% {\n",
              "      border-color: transparent;\n",
              "      border-right-color: var(--fill-color);\n",
              "      border-bottom-color: var(--fill-color);\n",
              "    }\n",
              "    90% {\n",
              "      border-color: transparent;\n",
              "      border-bottom-color: var(--fill-color);\n",
              "    }\n",
              "  }\n",
              "</style>\n",
              "\n",
              "  <script>\n",
              "    async function quickchart(key) {\n",
              "      const quickchartButtonEl =\n",
              "        document.querySelector('#' + key + ' button');\n",
              "      quickchartButtonEl.disabled = true;  // To prevent multiple clicks.\n",
              "      quickchartButtonEl.classList.add('colab-df-spinner');\n",
              "      try {\n",
              "        const charts = await google.colab.kernel.invokeFunction(\n",
              "            'suggestCharts', [key], {});\n",
              "      } catch (error) {\n",
              "        console.error('Error during call to suggestCharts:', error);\n",
              "      }\n",
              "      quickchartButtonEl.classList.remove('colab-df-spinner');\n",
              "      quickchartButtonEl.classList.add('colab-df-quickchart-complete');\n",
              "    }\n",
              "    (() => {\n",
              "      let quickchartButtonEl =\n",
              "        document.querySelector('#df-95a4d24a-3a7c-4747-9d03-179b3ed1c96b button');\n",
              "      quickchartButtonEl.style.display =\n",
              "        google.colab.kernel.accessAllowed ? 'block' : 'none';\n",
              "    })();\n",
              "  </script>\n",
              "</div>\n",
              "\n",
              "  <div id=\"id_f9863cc3-aa6b-42d2-b45b-6f23143acab2\">\n",
              "    <style>\n",
              "      .colab-df-generate {\n",
              "        background-color: #E8F0FE;\n",
              "        border: none;\n",
              "        border-radius: 50%;\n",
              "        cursor: pointer;\n",
              "        display: none;\n",
              "        fill: #1967D2;\n",
              "        height: 32px;\n",
              "        padding: 0 0 0 0;\n",
              "        width: 32px;\n",
              "      }\n",
              "\n",
              "      .colab-df-generate:hover {\n",
              "        background-color: #E2EBFA;\n",
              "        box-shadow: 0px 1px 2px rgba(60, 64, 67, 0.3), 0px 1px 3px 1px rgba(60, 64, 67, 0.15);\n",
              "        fill: #174EA6;\n",
              "      }\n",
              "\n",
              "      [theme=dark] .colab-df-generate {\n",
              "        background-color: #3B4455;\n",
              "        fill: #D2E3FC;\n",
              "      }\n",
              "\n",
              "      [theme=dark] .colab-df-generate:hover {\n",
              "        background-color: #434B5C;\n",
              "        box-shadow: 0px 1px 3px 1px rgba(0, 0, 0, 0.15);\n",
              "        filter: drop-shadow(0px 1px 2px rgba(0, 0, 0, 0.3));\n",
              "        fill: #FFFFFF;\n",
              "      }\n",
              "    </style>\n",
              "    <button class=\"colab-df-generate\" onclick=\"generateWithVariable('merge')\"\n",
              "            title=\"Generate code using this dataframe.\"\n",
              "            style=\"display:none;\">\n",
              "\n",
              "  <svg xmlns=\"http://www.w3.org/2000/svg\" height=\"24px\"viewBox=\"0 0 24 24\"\n",
              "       width=\"24px\">\n",
              "    <path d=\"M7,19H8.4L18.45,9,17,7.55,7,17.6ZM5,21V16.75L18.45,3.32a2,2,0,0,1,2.83,0l1.4,1.43a1.91,1.91,0,0,1,.58,1.4,1.91,1.91,0,0,1-.58,1.4L9.25,21ZM18.45,9,17,7.55Zm-12,3A5.31,5.31,0,0,0,4.9,8.1,5.31,5.31,0,0,0,1,6.5,5.31,5.31,0,0,0,4.9,4.9,5.31,5.31,0,0,0,6.5,1,5.31,5.31,0,0,0,8.1,4.9,5.31,5.31,0,0,0,12,6.5,5.46,5.46,0,0,0,6.5,12Z\"/>\n",
              "  </svg>\n",
              "    </button>\n",
              "    <script>\n",
              "      (() => {\n",
              "      const buttonEl =\n",
              "        document.querySelector('#id_f9863cc3-aa6b-42d2-b45b-6f23143acab2 button.colab-df-generate');\n",
              "      buttonEl.style.display =\n",
              "        google.colab.kernel.accessAllowed ? 'block' : 'none';\n",
              "\n",
              "      buttonEl.onclick = () => {\n",
              "        google.colab.notebook.generateWithVariable('merge');\n",
              "      }\n",
              "      })();\n",
              "    </script>\n",
              "  </div>\n",
              "\n",
              "    </div>\n",
              "  </div>\n"
            ],
            "application/vnd.google.colaboratory.intrinsic+json": {
              "type": "dataframe",
              "variable_name": "merge",
              "summary": "{\n  \"name\": \"merge\",\n  \"rows\": 73,\n  \"fields\": [\n    {\n      \"column\": \"Closure Number\",\n      \"properties\": {\n        \"dtype\": \"string\",\n        \"num_unique_values\": 72,\n        \"samples\": [\n          \"1035046\",\n          \"1038551\",\n          \"1036731\"\n        ],\n        \"semantic_type\": \"\",\n        \"description\": \"\"\n      }\n    },\n    {\n      \"column\": \"Closure Date\",\n      \"properties\": {\n        \"dtype\": \"date\",\n        \"min\": \"2023-10-30 00:00:00\",\n        \"max\": \"2024-12-26 00:00:00\",\n        \"num_unique_values\": 53,\n        \"samples\": [\n          \"2024-06-19 00:00:00\",\n          \"2024-07-25 00:00:00\",\n          \"2024-12-23 00:00:00\"\n        ],\n        \"semantic_type\": \"\",\n        \"description\": \"\"\n      }\n    },\n    {\n      \"column\": \"Society Name\",\n      \"properties\": {\n        \"dtype\": \"string\",\n        \"num_unique_values\": 66,\n        \"samples\": [\n          \"VASANT GALAXY CHSL\",\n          \"HIRANANDANI REGENT HILL A WING\",\n          \"HILL COUNTY\"\n        ],\n        \"semantic_type\": \"\",\n        \"description\": \"\"\n      }\n    },\n    {\n      \"column\": \"City\",\n      \"properties\": {\n        \"dtype\": \"category\",\n        \"num_unique_values\": 11,\n        \"samples\": [\n          \"Gurgaon\",\n          \"Hyderabad\",\n          \"Ahmedabad\"\n        ],\n        \"semantic_type\": \"\",\n        \"description\": \"\"\n      }\n    },\n    {\n      \"column\": \"HO Product\",\n      \"properties\": {\n        \"dtype\": \"category\",\n        \"num_unique_values\": 3,\n        \"samples\": [\n          \"VMS only\",\n          \"Both VMS + ERP\",\n          \"ERP only\"\n        ],\n        \"semantic_type\": \"\",\n        \"description\": \"\"\n      }\n    },\n    {\n      \"column\": \"Kibana ID\",\n      \"properties\": {\n        \"dtype\": \"string\",\n        \"num_unique_values\": 66,\n        \"samples\": [\n          \"8a96a19d935f03a10193625892c50278\",\n          \"8a96a1d293fea8be01940220f6681246\",\n          \"8a96ea418be86c04018bed09cac51a51\"\n        ],\n        \"semantic_type\": \"\",\n        \"description\": \"\"\n      }\n    },\n    {\n      \"column\": \"Sold Flat\",\n      \"properties\": {\n        \"dtype\": \"string\",\n        \"num_unique_values\": 63,\n        \"samples\": [\n          \"200\",\n          \"6428\",\n          \"1166\"\n        ],\n        \"semantic_type\": \"\",\n        \"description\": \"\"\n      }\n    },\n    {\n      \"column\": \"Execution Amount\",\n      \"properties\": {\n        \"dtype\": \"number\",\n        \"std\": 284785.7899349046,\n        \"min\": 2000.0,\n        \"max\": 1319907.0,\n        \"num_unique_values\": 20,\n        \"samples\": [\n          153800.0,\n          47020.0,\n          18160.0\n        ],\n        \"semantic_type\": \"\",\n        \"description\": \"\"\n      }\n    }\n  ]\n}"
            }
          },
          "metadata": {},
          "execution_count": 59
        }
      ],
      "source": [
        "merge"
      ]
    },
    {
      "cell_type": "code",
      "execution_count": null,
      "metadata": {
        "id": "iUvD7gvOraC0"
      },
      "outputs": [],
      "source": [
        "spreadSheetId = \"1Gl--PIaW3w6YESiHWUuUkzXC9VILWAz4B-e2D2lGBdg\"\n",
        "rangeName = \"data\"\n",
        "\n",
        "wb = gc.open_by_key(spreadSheetId)\n",
        "ws = wb.worksheet(rangeName)\n",
        "ws.clear()\n",
        "# APPEND DATA TO SHEET\n",
        "set_with_dataframe(ws, merge)"
      ]
    },
    {
      "cell_type": "code",
      "execution_count": null,
      "metadata": {
        "id": "09vEVGHfsS1Y"
      },
      "outputs": [],
      "source": []
    }
  ],
  "metadata": {
    "colab": {
      "collapsed_sections": [
        "hapHgUDYq3sG",
        "xqEvf1AndXl5",
        "6RDOpTl4rDpI",
        "4VRlHZeHq75v",
        "weH9GQAf1xxm",
        "OZK47vW5gzIc",
        "xs_O9tWC7zsH",
        "eUaYgSUsBYdO",
        "kaH2GqXZUc6_",
        "jgjKFwdAWjd5"
      ],
      "toc_visible": true,
      "provenance": [],
      "include_colab_link": true
    },
    "kernelspec": {
      "display_name": "Python 3",
      "name": "python3"
    },
    "language_info": {
      "name": "python"
    }
  },
  "nbformat": 4,
  "nbformat_minor": 0
}